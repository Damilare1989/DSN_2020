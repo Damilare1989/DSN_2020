{
 "cells": [
  {
   "cell_type": "code",
   "execution_count": 1,
   "metadata": {
    "_cell_guid": "b1076dfc-b9ad-4769-8c92-a6c4dae69d19",
    "_uuid": "8f2839f25d086af736a60e9eeb907d3b93b6e0e5",
    "execution": {
     "iopub.execute_input": "2020-10-03T12:00:40.141402Z",
     "iopub.status.busy": "2020-10-03T12:00:40.140391Z",
     "iopub.status.idle": "2020-10-03T12:00:40.150609Z",
     "shell.execute_reply": "2020-10-03T12:00:40.149006Z"
    },
    "papermill": {
     "duration": 0.070165,
     "end_time": "2020-10-03T12:00:40.150836",
     "exception": false,
     "start_time": "2020-10-03T12:00:40.080671",
     "status": "completed"
    },
    "tags": []
   },
   "outputs": [
    {
     "name": "stdout",
     "output_type": "stream",
     "text": [
      "/kaggle/input/bootcamp/Test.csv\n",
      "/kaggle/input/bootcamp/Train.csv\n",
      "/kaggle/input/bootcamp/SampleSubmission.csv\n"
     ]
    }
   ],
   "source": [
    "# This Python 3 environment comes with many helpful analytics libraries installed\n",
    "# It is defined by the kaggle/python Docker image: https://github.com/kaggle/docker-python\n",
    "# For example, here's several helpful packages to load\n",
    "\n",
    "import numpy as np # linear algebra\n",
    "import pandas as pd # data processing, CSV file I/O (e.g. pd.read_csv)\n",
    "\n",
    "# Input data files are available in the read-only \"../input/\" directory\n",
    "# For example, running this (by clicking run or pressing Shift+Enter) will list all files under the input directory\n",
    "\n",
    "import os\n",
    "for dirname, _, filenames in os.walk('/kaggle/input'):\n",
    "    for filename in filenames:\n",
    "        print(os.path.join(dirname, filename))\n",
    "\n",
    "# You can write up to 5GB to the current directory (/kaggle/working/) that gets preserved as output when you create a version using \"Save & Run All\" \n",
    "# You can also write temporary files to /kaggle/temp/, but they won't be saved outside of the current session"
   ]
  },
  {
   "cell_type": "code",
   "execution_count": 2,
   "metadata": {
    "_cell_guid": "79c7e3d0-c299-4dcb-8224-4455121ee9b0",
    "_uuid": "d629ff2d2480ee46fbb7e2d37f6b5fab8052498a",
    "execution": {
     "iopub.execute_input": "2020-10-03T12:00:40.260460Z",
     "iopub.status.busy": "2020-10-03T12:00:40.259673Z",
     "iopub.status.idle": "2020-10-03T12:00:42.916705Z",
     "shell.execute_reply": "2020-10-03T12:00:42.915913Z"
    },
    "papermill": {
     "duration": 2.715278,
     "end_time": "2020-10-03T12:00:42.916840",
     "exception": false,
     "start_time": "2020-10-03T12:00:40.201562",
     "status": "completed"
    },
    "tags": []
   },
   "outputs": [],
   "source": [
    "%matplotlib inline\n",
    "import seaborn as sns\n",
    "import matplotlib.pyplot as plt\n",
    "from xgboost import XGBClassifier\n",
    "from catboost import CatBoostClassifier\n",
    "from sklearn.model_selection import train_test_split, cross_val_score, KFold,StratifiedKFold, TimeSeriesSplit, GroupKFold\n",
    "from sklearn.metrics import accuracy_score, classification_report, roc_auc_score"
   ]
  },
  {
   "cell_type": "code",
   "execution_count": 3,
   "metadata": {
    "execution": {
     "iopub.execute_input": "2020-10-03T12:00:43.017567Z",
     "iopub.status.busy": "2020-10-03T12:00:43.016766Z",
     "iopub.status.idle": "2020-10-03T12:00:43.020692Z",
     "shell.execute_reply": "2020-10-03T12:00:43.020085Z"
    },
    "papermill": {
     "duration": 0.056685,
     "end_time": "2020-10-03T12:00:43.020846",
     "exception": false,
     "start_time": "2020-10-03T12:00:42.964161",
     "status": "completed"
    },
    "tags": []
   },
   "outputs": [],
   "source": [
    "import warnings\n",
    "warnings.filterwarnings('ignore')"
   ]
  },
  {
   "cell_type": "code",
   "execution_count": 4,
   "metadata": {
    "execution": {
     "iopub.execute_input": "2020-10-03T12:00:43.123996Z",
     "iopub.status.busy": "2020-10-03T12:00:43.123177Z",
     "iopub.status.idle": "2020-10-03T12:00:43.915781Z",
     "shell.execute_reply": "2020-10-03T12:00:43.914992Z"
    },
    "papermill": {
     "duration": 0.847667,
     "end_time": "2020-10-03T12:00:43.915957",
     "exception": false,
     "start_time": "2020-10-03T12:00:43.068290",
     "status": "completed"
    },
    "tags": []
   },
   "outputs": [],
   "source": [
    "train = pd.read_csv('../input/bootcamp/Train.csv')\n",
    "test = pd.read_csv('../input/bootcamp/Test.csv')\n",
    "sub = pd.read_csv('../input/bootcamp/SampleSubmission.csv')"
   ]
  },
  {
   "cell_type": "code",
   "execution_count": 5,
   "metadata": {
    "execution": {
     "iopub.execute_input": "2020-10-03T12:00:44.035737Z",
     "iopub.status.busy": "2020-10-03T12:00:44.021242Z",
     "iopub.status.idle": "2020-10-03T12:00:44.063509Z",
     "shell.execute_reply": "2020-10-03T12:00:44.064069Z"
    },
    "papermill": {
     "duration": 0.100493,
     "end_time": "2020-10-03T12:00:44.064232",
     "exception": false,
     "start_time": "2020-10-03T12:00:43.963739",
     "status": "completed"
    },
    "tags": []
   },
   "outputs": [
    {
     "data": {
      "text/html": [
       "<div>\n",
       "<style scoped>\n",
       "    .dataframe tbody tr th:only-of-type {\n",
       "        vertical-align: middle;\n",
       "    }\n",
       "\n",
       "    .dataframe tbody tr th {\n",
       "        vertical-align: top;\n",
       "    }\n",
       "\n",
       "    .dataframe thead th {\n",
       "        text-align: right;\n",
       "    }\n",
       "</style>\n",
       "<table border=\"1\" class=\"dataframe\">\n",
       "  <thead>\n",
       "    <tr style=\"text-align: right;\">\n",
       "      <th></th>\n",
       "      <th>Applicant_ID</th>\n",
       "      <th>form_field1</th>\n",
       "      <th>form_field2</th>\n",
       "      <th>form_field3</th>\n",
       "      <th>form_field4</th>\n",
       "      <th>form_field5</th>\n",
       "      <th>form_field6</th>\n",
       "      <th>form_field7</th>\n",
       "      <th>form_field8</th>\n",
       "      <th>form_field9</th>\n",
       "      <th>...</th>\n",
       "      <th>form_field42</th>\n",
       "      <th>form_field43</th>\n",
       "      <th>form_field44</th>\n",
       "      <th>form_field45</th>\n",
       "      <th>form_field46</th>\n",
       "      <th>form_field47</th>\n",
       "      <th>form_field48</th>\n",
       "      <th>form_field49</th>\n",
       "      <th>form_field50</th>\n",
       "      <th>default_status</th>\n",
       "    </tr>\n",
       "  </thead>\n",
       "  <tbody>\n",
       "    <tr>\n",
       "      <th>0</th>\n",
       "      <td>Apcnt_1000000</td>\n",
       "      <td>3436.0</td>\n",
       "      <td>0.28505</td>\n",
       "      <td>1.6560</td>\n",
       "      <td>0.0</td>\n",
       "      <td>0.000</td>\n",
       "      <td>0.0</td>\n",
       "      <td>10689720.0</td>\n",
       "      <td>252072.0</td>\n",
       "      <td>4272776.0</td>\n",
       "      <td>...</td>\n",
       "      <td>0.392854</td>\n",
       "      <td>2.02</td>\n",
       "      <td>0.711632</td>\n",
       "      <td>0.0</td>\n",
       "      <td>0.0</td>\n",
       "      <td>charge</td>\n",
       "      <td>NaN</td>\n",
       "      <td>1.129518</td>\n",
       "      <td>0.044335</td>\n",
       "      <td>no</td>\n",
       "    </tr>\n",
       "    <tr>\n",
       "      <th>1</th>\n",
       "      <td>Apcnt_1000004</td>\n",
       "      <td>3456.0</td>\n",
       "      <td>0.67400</td>\n",
       "      <td>0.2342</td>\n",
       "      <td>0.0</td>\n",
       "      <td>0.000</td>\n",
       "      <td>0.0</td>\n",
       "      <td>898979.0</td>\n",
       "      <td>497531.0</td>\n",
       "      <td>9073814.0</td>\n",
       "      <td>...</td>\n",
       "      <td>0.314281</td>\n",
       "      <td>8.08</td>\n",
       "      <td>0.183584</td>\n",
       "      <td>NaN</td>\n",
       "      <td>0.0</td>\n",
       "      <td>charge</td>\n",
       "      <td>349.805730</td>\n",
       "      <td>1.620483</td>\n",
       "      <td>0.322436</td>\n",
       "      <td>no</td>\n",
       "    </tr>\n",
       "    <tr>\n",
       "      <th>2</th>\n",
       "      <td>Apcnt_1000008</td>\n",
       "      <td>3276.0</td>\n",
       "      <td>0.53845</td>\n",
       "      <td>3.1510</td>\n",
       "      <td>0.0</td>\n",
       "      <td>6.282</td>\n",
       "      <td>NaN</td>\n",
       "      <td>956940.0</td>\n",
       "      <td>NaN</td>\n",
       "      <td>192944.0</td>\n",
       "      <td>...</td>\n",
       "      <td>0.162965</td>\n",
       "      <td>18.18</td>\n",
       "      <td>0.791136</td>\n",
       "      <td>0.0</td>\n",
       "      <td>0.0</td>\n",
       "      <td>charge</td>\n",
       "      <td>NaN</td>\n",
       "      <td>1.513370</td>\n",
       "      <td>0.011640</td>\n",
       "      <td>yes</td>\n",
       "    </tr>\n",
       "    <tr>\n",
       "      <th>3</th>\n",
       "      <td>Apcnt_1000012</td>\n",
       "      <td>3372.0</td>\n",
       "      <td>0.17005</td>\n",
       "      <td>0.5050</td>\n",
       "      <td>0.0</td>\n",
       "      <td>0.000</td>\n",
       "      <td>192166.0</td>\n",
       "      <td>3044703.0</td>\n",
       "      <td>385499.0</td>\n",
       "      <td>3986472.0</td>\n",
       "      <td>...</td>\n",
       "      <td>0.488884</td>\n",
       "      <td>2.02</td>\n",
       "      <td>0.685168</td>\n",
       "      <td>NaN</td>\n",
       "      <td>0.0</td>\n",
       "      <td>charge</td>\n",
       "      <td>89.940100</td>\n",
       "      <td>0.664452</td>\n",
       "      <td>0.082729</td>\n",
       "      <td>no</td>\n",
       "    </tr>\n",
       "    <tr>\n",
       "      <th>4</th>\n",
       "      <td>Apcnt_1000016</td>\n",
       "      <td>3370.0</td>\n",
       "      <td>0.77270</td>\n",
       "      <td>1.1010</td>\n",
       "      <td>0.0</td>\n",
       "      <td>0.000</td>\n",
       "      <td>1556.0</td>\n",
       "      <td>214728.0</td>\n",
       "      <td>214728.0</td>\n",
       "      <td>1284089.0</td>\n",
       "      <td>...</td>\n",
       "      <td>0.275000</td>\n",
       "      <td>12.12</td>\n",
       "      <td>0.438168</td>\n",
       "      <td>0.0</td>\n",
       "      <td>0.0</td>\n",
       "      <td>charge</td>\n",
       "      <td>97.887502</td>\n",
       "      <td>1.427891</td>\n",
       "      <td>0.045630</td>\n",
       "      <td>no</td>\n",
       "    </tr>\n",
       "  </tbody>\n",
       "</table>\n",
       "<p>5 rows × 52 columns</p>\n",
       "</div>"
      ],
      "text/plain": [
       "    Applicant_ID  form_field1  form_field2  form_field3  form_field4  \\\n",
       "0  Apcnt_1000000       3436.0      0.28505       1.6560          0.0   \n",
       "1  Apcnt_1000004       3456.0      0.67400       0.2342          0.0   \n",
       "2  Apcnt_1000008       3276.0      0.53845       3.1510          0.0   \n",
       "3  Apcnt_1000012       3372.0      0.17005       0.5050          0.0   \n",
       "4  Apcnt_1000016       3370.0      0.77270       1.1010          0.0   \n",
       "\n",
       "   form_field5  form_field6  form_field7  form_field8  form_field9  ...  \\\n",
       "0        0.000          0.0   10689720.0     252072.0    4272776.0  ...   \n",
       "1        0.000          0.0     898979.0     497531.0    9073814.0  ...   \n",
       "2        6.282          NaN     956940.0          NaN     192944.0  ...   \n",
       "3        0.000     192166.0    3044703.0     385499.0    3986472.0  ...   \n",
       "4        0.000       1556.0     214728.0     214728.0    1284089.0  ...   \n",
       "\n",
       "   form_field42  form_field43  form_field44  form_field45  form_field46  \\\n",
       "0      0.392854          2.02      0.711632           0.0           0.0   \n",
       "1      0.314281          8.08      0.183584           NaN           0.0   \n",
       "2      0.162965         18.18      0.791136           0.0           0.0   \n",
       "3      0.488884          2.02      0.685168           NaN           0.0   \n",
       "4      0.275000         12.12      0.438168           0.0           0.0   \n",
       "\n",
       "   form_field47  form_field48  form_field49  form_field50  default_status  \n",
       "0        charge           NaN      1.129518      0.044335              no  \n",
       "1        charge    349.805730      1.620483      0.322436              no  \n",
       "2        charge           NaN      1.513370      0.011640             yes  \n",
       "3        charge     89.940100      0.664452      0.082729              no  \n",
       "4        charge     97.887502      1.427891      0.045630              no  \n",
       "\n",
       "[5 rows x 52 columns]"
      ]
     },
     "execution_count": 5,
     "metadata": {},
     "output_type": "execute_result"
    }
   ],
   "source": [
    "train.head()"
   ]
  },
  {
   "cell_type": "code",
   "execution_count": 6,
   "metadata": {
    "execution": {
     "iopub.execute_input": "2020-10-03T12:00:44.196783Z",
     "iopub.status.busy": "2020-10-03T12:00:44.177102Z",
     "iopub.status.idle": "2020-10-03T12:00:44.202120Z",
     "shell.execute_reply": "2020-10-03T12:00:44.201508Z"
    },
    "papermill": {
     "duration": 0.087738,
     "end_time": "2020-10-03T12:00:44.202250",
     "exception": false,
     "start_time": "2020-10-03T12:00:44.114512",
     "status": "completed"
    },
    "tags": []
   },
   "outputs": [
    {
     "data": {
      "text/html": [
       "<div>\n",
       "<style scoped>\n",
       "    .dataframe tbody tr th:only-of-type {\n",
       "        vertical-align: middle;\n",
       "    }\n",
       "\n",
       "    .dataframe tbody tr th {\n",
       "        vertical-align: top;\n",
       "    }\n",
       "\n",
       "    .dataframe thead th {\n",
       "        text-align: right;\n",
       "    }\n",
       "</style>\n",
       "<table border=\"1\" class=\"dataframe\">\n",
       "  <thead>\n",
       "    <tr style=\"text-align: right;\">\n",
       "      <th></th>\n",
       "      <th>Applicant_ID</th>\n",
       "      <th>form_field1</th>\n",
       "      <th>form_field2</th>\n",
       "      <th>form_field3</th>\n",
       "      <th>form_field4</th>\n",
       "      <th>form_field5</th>\n",
       "      <th>form_field6</th>\n",
       "      <th>form_field7</th>\n",
       "      <th>form_field8</th>\n",
       "      <th>form_field9</th>\n",
       "      <th>...</th>\n",
       "      <th>form_field41</th>\n",
       "      <th>form_field42</th>\n",
       "      <th>form_field43</th>\n",
       "      <th>form_field44</th>\n",
       "      <th>form_field45</th>\n",
       "      <th>form_field46</th>\n",
       "      <th>form_field47</th>\n",
       "      <th>form_field48</th>\n",
       "      <th>form_field49</th>\n",
       "      <th>form_field50</th>\n",
       "    </tr>\n",
       "  </thead>\n",
       "  <tbody>\n",
       "    <tr>\n",
       "      <th>0</th>\n",
       "      <td>Apcnt_1000032</td>\n",
       "      <td>3236.0</td>\n",
       "      <td>0.34875</td>\n",
       "      <td>10.2006</td>\n",
       "      <td>0.0000</td>\n",
       "      <td>0.0</td>\n",
       "      <td>418564.0</td>\n",
       "      <td>418564.0</td>\n",
       "      <td>418564.0</td>\n",
       "      <td>540710.0</td>\n",
       "      <td>...</td>\n",
       "      <td>NaN</td>\n",
       "      <td>0.825000</td>\n",
       "      <td>1.01</td>\n",
       "      <td>0.800000</td>\n",
       "      <td>NaN</td>\n",
       "      <td>0.0</td>\n",
       "      <td>charge</td>\n",
       "      <td>NaN</td>\n",
       "      <td>0.000000</td>\n",
       "      <td>0.011221</td>\n",
       "    </tr>\n",
       "    <tr>\n",
       "      <th>1</th>\n",
       "      <td>Apcnt_1000048</td>\n",
       "      <td>3284.0</td>\n",
       "      <td>1.27360</td>\n",
       "      <td>2.9606</td>\n",
       "      <td>9.0198</td>\n",
       "      <td>0.0</td>\n",
       "      <td>0.0</td>\n",
       "      <td>9858816.0</td>\n",
       "      <td>49014.0</td>\n",
       "      <td>1510098.0</td>\n",
       "      <td>...</td>\n",
       "      <td>18.8415</td>\n",
       "      <td>0.507694</td>\n",
       "      <td>4.04</td>\n",
       "      <td>0.623248</td>\n",
       "      <td>1.0</td>\n",
       "      <td>0.0</td>\n",
       "      <td>lending</td>\n",
       "      <td>NaN</td>\n",
       "      <td>0.504974</td>\n",
       "      <td>0.043525</td>\n",
       "    </tr>\n",
       "    <tr>\n",
       "      <th>2</th>\n",
       "      <td>Apcnt_1000052</td>\n",
       "      <td>NaN</td>\n",
       "      <td>0.27505</td>\n",
       "      <td>0.0600</td>\n",
       "      <td>0.0000</td>\n",
       "      <td>0.0</td>\n",
       "      <td>NaN</td>\n",
       "      <td>NaN</td>\n",
       "      <td>NaN</td>\n",
       "      <td>NaN</td>\n",
       "      <td>...</td>\n",
       "      <td>NaN</td>\n",
       "      <td>NaN</td>\n",
       "      <td>0.00</td>\n",
       "      <td>NaN</td>\n",
       "      <td>NaN</td>\n",
       "      <td>NaN</td>\n",
       "      <td>charge</td>\n",
       "      <td>NaN</td>\n",
       "      <td>0.000000</td>\n",
       "      <td>NaN</td>\n",
       "    </tr>\n",
       "    <tr>\n",
       "      <th>3</th>\n",
       "      <td>Apcnt_1000076</td>\n",
       "      <td>3232.0</td>\n",
       "      <td>0.28505</td>\n",
       "      <td>2.8032</td>\n",
       "      <td>0.0000</td>\n",
       "      <td>0.0</td>\n",
       "      <td>0.0</td>\n",
       "      <td>473802.0</td>\n",
       "      <td>473802.0</td>\n",
       "      <td>1724437.0</td>\n",
       "      <td>...</td>\n",
       "      <td>NaN</td>\n",
       "      <td>0.916663</td>\n",
       "      <td>2.02</td>\n",
       "      <td>0.464224</td>\n",
       "      <td>NaN</td>\n",
       "      <td>NaN</td>\n",
       "      <td>charge</td>\n",
       "      <td>90.163742</td>\n",
       "      <td>0.788809</td>\n",
       "      <td>0.104029</td>\n",
       "    </tr>\n",
       "    <tr>\n",
       "      <th>4</th>\n",
       "      <td>Apcnt_1000080</td>\n",
       "      <td>3466.0</td>\n",
       "      <td>2.09545</td>\n",
       "      <td>0.8318</td>\n",
       "      <td>2.5182</td>\n",
       "      <td>0.0</td>\n",
       "      <td>19839.0</td>\n",
       "      <td>1150662.0</td>\n",
       "      <td>1150662.0</td>\n",
       "      <td>7860523.0</td>\n",
       "      <td>...</td>\n",
       "      <td>NaN</td>\n",
       "      <td>0.234047</td>\n",
       "      <td>23.23</td>\n",
       "      <td>0.726688</td>\n",
       "      <td>0.0</td>\n",
       "      <td>0.0</td>\n",
       "      <td>lending</td>\n",
       "      <td>1303.587148</td>\n",
       "      <td>1.637733</td>\n",
       "      <td>0.163124</td>\n",
       "    </tr>\n",
       "  </tbody>\n",
       "</table>\n",
       "<p>5 rows × 51 columns</p>\n",
       "</div>"
      ],
      "text/plain": [
       "    Applicant_ID  form_field1  form_field2  form_field3  form_field4  \\\n",
       "0  Apcnt_1000032       3236.0      0.34875      10.2006       0.0000   \n",
       "1  Apcnt_1000048       3284.0      1.27360       2.9606       9.0198   \n",
       "2  Apcnt_1000052          NaN      0.27505       0.0600       0.0000   \n",
       "3  Apcnt_1000076       3232.0      0.28505       2.8032       0.0000   \n",
       "4  Apcnt_1000080       3466.0      2.09545       0.8318       2.5182   \n",
       "\n",
       "   form_field5  form_field6  form_field7  form_field8  form_field9  ...  \\\n",
       "0          0.0     418564.0     418564.0     418564.0     540710.0  ...   \n",
       "1          0.0          0.0    9858816.0      49014.0    1510098.0  ...   \n",
       "2          0.0          NaN          NaN          NaN          NaN  ...   \n",
       "3          0.0          0.0     473802.0     473802.0    1724437.0  ...   \n",
       "4          0.0      19839.0    1150662.0    1150662.0    7860523.0  ...   \n",
       "\n",
       "   form_field41  form_field42  form_field43  form_field44  form_field45  \\\n",
       "0           NaN      0.825000          1.01      0.800000           NaN   \n",
       "1       18.8415      0.507694          4.04      0.623248           1.0   \n",
       "2           NaN           NaN          0.00           NaN           NaN   \n",
       "3           NaN      0.916663          2.02      0.464224           NaN   \n",
       "4           NaN      0.234047         23.23      0.726688           0.0   \n",
       "\n",
       "   form_field46  form_field47  form_field48  form_field49  form_field50  \n",
       "0           0.0        charge           NaN      0.000000      0.011221  \n",
       "1           0.0       lending           NaN      0.504974      0.043525  \n",
       "2           NaN        charge           NaN      0.000000           NaN  \n",
       "3           NaN        charge     90.163742      0.788809      0.104029  \n",
       "4           0.0       lending   1303.587148      1.637733      0.163124  \n",
       "\n",
       "[5 rows x 51 columns]"
      ]
     },
     "execution_count": 6,
     "metadata": {},
     "output_type": "execute_result"
    }
   ],
   "source": [
    "test.head()"
   ]
  },
  {
   "cell_type": "code",
   "execution_count": 7,
   "metadata": {
    "execution": {
     "iopub.execute_input": "2020-10-03T12:00:44.313438Z",
     "iopub.status.busy": "2020-10-03T12:00:44.312305Z",
     "iopub.status.idle": "2020-10-03T12:00:44.317222Z",
     "shell.execute_reply": "2020-10-03T12:00:44.316606Z"
    },
    "papermill": {
     "duration": 0.065242,
     "end_time": "2020-10-03T12:00:44.317365",
     "exception": false,
     "start_time": "2020-10-03T12:00:44.252123",
     "status": "completed"
    },
    "tags": []
   },
   "outputs": [
    {
     "data": {
      "text/html": [
       "<div>\n",
       "<style scoped>\n",
       "    .dataframe tbody tr th:only-of-type {\n",
       "        vertical-align: middle;\n",
       "    }\n",
       "\n",
       "    .dataframe tbody tr th {\n",
       "        vertical-align: top;\n",
       "    }\n",
       "\n",
       "    .dataframe thead th {\n",
       "        text-align: right;\n",
       "    }\n",
       "</style>\n",
       "<table border=\"1\" class=\"dataframe\">\n",
       "  <thead>\n",
       "    <tr style=\"text-align: right;\">\n",
       "      <th></th>\n",
       "      <th>Applicant_ID</th>\n",
       "      <th>default_status</th>\n",
       "    </tr>\n",
       "  </thead>\n",
       "  <tbody>\n",
       "    <tr>\n",
       "      <th>0</th>\n",
       "      <td>Apcnt_1000032</td>\n",
       "      <td>1</td>\n",
       "    </tr>\n",
       "    <tr>\n",
       "      <th>1</th>\n",
       "      <td>Apcnt_1000048</td>\n",
       "      <td>1</td>\n",
       "    </tr>\n",
       "    <tr>\n",
       "      <th>2</th>\n",
       "      <td>Apcnt_1000052</td>\n",
       "      <td>1</td>\n",
       "    </tr>\n",
       "    <tr>\n",
       "      <th>3</th>\n",
       "      <td>Apcnt_1000076</td>\n",
       "      <td>1</td>\n",
       "    </tr>\n",
       "    <tr>\n",
       "      <th>4</th>\n",
       "      <td>Apcnt_1000080</td>\n",
       "      <td>1</td>\n",
       "    </tr>\n",
       "  </tbody>\n",
       "</table>\n",
       "</div>"
      ],
      "text/plain": [
       "    Applicant_ID  default_status\n",
       "0  Apcnt_1000032               1\n",
       "1  Apcnt_1000048               1\n",
       "2  Apcnt_1000052               1\n",
       "3  Apcnt_1000076               1\n",
       "4  Apcnt_1000080               1"
      ]
     },
     "execution_count": 7,
     "metadata": {},
     "output_type": "execute_result"
    }
   ],
   "source": [
    "sub.head()"
   ]
  },
  {
   "cell_type": "code",
   "execution_count": 8,
   "metadata": {
    "execution": {
     "iopub.execute_input": "2020-10-03T12:00:44.463996Z",
     "iopub.status.busy": "2020-10-03T12:00:44.430663Z",
     "iopub.status.idle": "2020-10-03T12:00:44.469499Z",
     "shell.execute_reply": "2020-10-03T12:00:44.468696Z"
    },
    "papermill": {
     "duration": 0.102185,
     "end_time": "2020-10-03T12:00:44.469626",
     "exception": false,
     "start_time": "2020-10-03T12:00:44.367441",
     "status": "completed"
    },
    "tags": []
   },
   "outputs": [],
   "source": [
    "train[\"default_status\"].replace({\"no\": 0, \"yes\": 1}, inplace=True)"
   ]
  },
  {
   "cell_type": "code",
   "execution_count": 9,
   "metadata": {
    "execution": {
     "iopub.execute_input": "2020-10-03T12:00:44.576828Z",
     "iopub.status.busy": "2020-10-03T12:00:44.575808Z",
     "iopub.status.idle": "2020-10-03T12:00:44.580623Z",
     "shell.execute_reply": "2020-10-03T12:00:44.579896Z"
    },
    "papermill": {
     "duration": 0.060665,
     "end_time": "2020-10-03T12:00:44.580767",
     "exception": false,
     "start_time": "2020-10-03T12:00:44.520102",
     "status": "completed"
    },
    "tags": []
   },
   "outputs": [
    {
     "data": {
      "text/plain": [
       "(56000, 24000, 24000)"
      ]
     },
     "execution_count": 9,
     "metadata": {},
     "output_type": "execute_result"
    }
   ],
   "source": [
    "len(train), len(test), len(sub)"
   ]
  },
  {
   "cell_type": "code",
   "execution_count": 10,
   "metadata": {
    "execution": {
     "iopub.execute_input": "2020-10-03T12:00:44.692621Z",
     "iopub.status.busy": "2020-10-03T12:00:44.691495Z",
     "iopub.status.idle": "2020-10-03T12:00:44.695355Z",
     "shell.execute_reply": "2020-10-03T12:00:44.696085Z"
    },
    "papermill": {
     "duration": 0.063872,
     "end_time": "2020-10-03T12:00:44.696242",
     "exception": false,
     "start_time": "2020-10-03T12:00:44.632370",
     "status": "completed"
    },
    "tags": []
   },
   "outputs": [
    {
     "data": {
      "text/plain": [
       "Applicant_ID       object\n",
       "form_field1       float64\n",
       "form_field2       float64\n",
       "form_field3       float64\n",
       "form_field4       float64\n",
       "form_field5       float64\n",
       "form_field6       float64\n",
       "form_field7       float64\n",
       "form_field8       float64\n",
       "form_field9       float64\n",
       "form_field10      float64\n",
       "form_field11      float64\n",
       "form_field12      float64\n",
       "form_field13      float64\n",
       "form_field14        int64\n",
       "form_field15      float64\n",
       "form_field16      float64\n",
       "form_field17      float64\n",
       "form_field18      float64\n",
       "form_field19      float64\n",
       "form_field20      float64\n",
       "form_field21      float64\n",
       "form_field22      float64\n",
       "form_field23      float64\n",
       "form_field24      float64\n",
       "form_field25      float64\n",
       "form_field26      float64\n",
       "form_field27      float64\n",
       "form_field28      float64\n",
       "form_field29      float64\n",
       "form_field30      float64\n",
       "form_field31      float64\n",
       "form_field32      float64\n",
       "form_field33      float64\n",
       "form_field34      float64\n",
       "form_field35      float64\n",
       "form_field36      float64\n",
       "form_field37      float64\n",
       "form_field38      float64\n",
       "form_field39      float64\n",
       "form_field40      float64\n",
       "form_field41      float64\n",
       "form_field42      float64\n",
       "form_field43      float64\n",
       "form_field44      float64\n",
       "form_field45      float64\n",
       "form_field46      float64\n",
       "form_field47       object\n",
       "form_field48      float64\n",
       "form_field49      float64\n",
       "form_field50      float64\n",
       "default_status      int64\n",
       "dtype: object"
      ]
     },
     "execution_count": 10,
     "metadata": {},
     "output_type": "execute_result"
    }
   ],
   "source": [
    "train.dtypes"
   ]
  },
  {
   "cell_type": "code",
   "execution_count": 11,
   "metadata": {
    "execution": {
     "iopub.execute_input": "2020-10-03T12:00:44.805596Z",
     "iopub.status.busy": "2020-10-03T12:00:44.804747Z",
     "iopub.status.idle": "2020-10-03T12:00:44.833006Z",
     "shell.execute_reply": "2020-10-03T12:00:44.832334Z"
    },
    "papermill": {
     "duration": 0.084802,
     "end_time": "2020-10-03T12:00:44.833133",
     "exception": false,
     "start_time": "2020-10-03T12:00:44.748331",
     "status": "completed"
    },
    "tags": []
   },
   "outputs": [
    {
     "data": {
      "text/plain": [
       "Applicant_ID          0\n",
       "form_field1        2529\n",
       "form_field2        3844\n",
       "form_field3         355\n",
       "form_field4         355\n",
       "form_field5         355\n",
       "form_field6       13360\n",
       "form_field7        5163\n",
       "form_field8       13360\n",
       "form_field9        8008\n",
       "form_field10        355\n",
       "form_field11      31421\n",
       "form_field12       9895\n",
       "form_field13       5889\n",
       "form_field14          0\n",
       "form_field15      22475\n",
       "form_field16      13036\n",
       "form_field17      11151\n",
       "form_field18      10402\n",
       "form_field19          4\n",
       "form_field20        355\n",
       "form_field21      15854\n",
       "form_field22      20400\n",
       "form_field23      28123\n",
       "form_field24      13297\n",
       "form_field25       5450\n",
       "form_field26       7438\n",
       "form_field27       9299\n",
       "form_field28        355\n",
       "form_field29        355\n",
       "form_field30      25509\n",
       "form_field31      39408\n",
       "form_field32       5450\n",
       "form_field33       1256\n",
       "form_field34        355\n",
       "form_field35      23148\n",
       "form_field36       1995\n",
       "form_field37       5450\n",
       "form_field38        355\n",
       "form_field39       4211\n",
       "form_field40      43729\n",
       "form_field41      38229\n",
       "form_field42       1323\n",
       "form_field43        568\n",
       "form_field44       5383\n",
       "form_field45      31317\n",
       "form_field46      15904\n",
       "form_field47          0\n",
       "form_field48      20889\n",
       "form_field49        355\n",
       "form_field50      11056\n",
       "default_status        0\n",
       "dtype: int64"
      ]
     },
     "execution_count": 11,
     "metadata": {},
     "output_type": "execute_result"
    }
   ],
   "source": [
    "train.isnull().sum()"
   ]
  },
  {
   "cell_type": "code",
   "execution_count": 12,
   "metadata": {
    "execution": {
     "iopub.execute_input": "2020-10-03T12:00:44.943694Z",
     "iopub.status.busy": "2020-10-03T12:00:44.942976Z",
     "iopub.status.idle": "2020-10-03T12:00:44.968507Z",
     "shell.execute_reply": "2020-10-03T12:00:44.969122Z"
    },
    "papermill": {
     "duration": 0.083975,
     "end_time": "2020-10-03T12:00:44.969278",
     "exception": false,
     "start_time": "2020-10-03T12:00:44.885303",
     "status": "completed"
    },
    "tags": []
   },
   "outputs": [
    {
     "data": {
      "text/plain": [
       "(42285, 13715)"
      ]
     },
     "execution_count": 12,
     "metadata": {},
     "output_type": "execute_result"
    }
   ],
   "source": [
    "#confirm if the dataset is balanced or imbalanced\n",
    "len(train[train['default_status'] == 0]), len(train[train['default_status'] == 1])"
   ]
  },
  {
   "cell_type": "code",
   "execution_count": 13,
   "metadata": {
    "execution": {
     "iopub.execute_input": "2020-10-03T12:00:45.088942Z",
     "iopub.status.busy": "2020-10-03T12:00:45.084065Z",
     "iopub.status.idle": "2020-10-03T12:00:49.193177Z",
     "shell.execute_reply": "2020-10-03T12:00:49.192197Z"
    },
    "papermill": {
     "duration": 4.171166,
     "end_time": "2020-10-03T12:00:49.193325",
     "exception": false,
     "start_time": "2020-10-03T12:00:45.022159",
     "status": "completed"
    },
    "tags": []
   },
   "outputs": [
    {
     "data": {
      "text/plain": [
       "(array([ 0.5,  1.5,  2.5,  3.5,  4.5,  5.5,  6.5,  7.5,  8.5,  9.5, 10.5,\n",
       "        11.5, 12.5, 13.5, 14.5, 15.5, 16.5, 17.5, 18.5, 19.5, 20.5, 21.5,\n",
       "        22.5, 23.5, 24.5, 25.5, 26.5, 27.5, 28.5, 29.5, 30.5, 31.5, 32.5,\n",
       "        33.5, 34.5, 35.5, 36.5, 37.5, 38.5, 39.5, 40.5, 41.5, 42.5, 43.5,\n",
       "        44.5, 45.5, 46.5, 47.5, 48.5, 49.5, 50.5, 51.5]),\n",
       " <a list of 52 Text major ticklabel objects>)"
      ]
     },
     "execution_count": 13,
     "metadata": {},
     "output_type": "execute_result"
    },
    {
     "data": {
      "image/png": "[encoded data removed]",
      "text/plain": [
       "<Figure size 936x720 with 1 Axes>"
      ]
     },
     "metadata": {
      "needs_background": "light"
     },
     "output_type": "display_data"
    }
   ],
   "source": [
    "#given a dataframe train create a copy of the array that is 0 if a field contain a value and 1 for Nan\n",
    "naInfo = np.zeros(train.shape)\n",
    "naInfo[train.isna().values] = 1\n",
    "naInfo = pd.DataFrame(naInfo, columns = train.columns)\n",
    "\n",
    "fig, ax = plt.subplots()\n",
    "fig.set_size_inches(13, 10)\n",
    "ax = sns.heatmap(naInfo, vmin = 0, vmax = 1, cmap =['white', '#666666'], cbar = False, ax = ax)\n",
    "ax.set_yticks([])\n",
    "\n",
    "#draw frame around figure\n",
    "rect = plt.Rectangle((0,0), naInfo.shape[1], naInfo.shape[0], linewidth = 1,\n",
    "                     edgecolor = 'lightgrey', facecolor = 'none')\n",
    "                     \n",
    "rect = ax.add_patch(rect)\n",
    "rect.set_clip_on(False)\n",
    "                     \n",
    "plt.xticks(rotation = 80)"
   ]
  },
  {
   "cell_type": "code",
   "execution_count": 14,
   "metadata": {
    "execution": {
     "iopub.execute_input": "2020-10-03T12:00:49.330137Z",
     "iopub.status.busy": "2020-10-03T12:00:49.323897Z",
     "iopub.status.idle": "2020-10-03T12:00:49.334060Z",
     "shell.execute_reply": "2020-10-03T12:00:49.333283Z"
    },
    "papermill": {
     "duration": 0.084643,
     "end_time": "2020-10-03T12:00:49.334196",
     "exception": false,
     "start_time": "2020-10-03T12:00:49.249553",
     "status": "completed"
    },
    "tags": []
   },
   "outputs": [],
   "source": [
    "##columns to drop are 'Applicant_ID','form_field11', 'form_field23', 'form_field31'\n",
    "#'form_field40', 'form_field41', 'form_field45' from the train set\n",
    "train.drop(columns = {'Applicant_ID'}, axis = 1, inplace = True)\n",
    "test.drop(columns = {'Applicant_ID'}, axis = 1, inplace = True)"
   ]
  },
  {
   "cell_type": "code",
   "execution_count": 15,
   "metadata": {
    "execution": {
     "iopub.execute_input": "2020-10-03T12:00:49.457467Z",
     "iopub.status.busy": "2020-10-03T12:00:49.456576Z",
     "iopub.status.idle": "2020-10-03T12:00:51.358925Z",
     "shell.execute_reply": "2020-10-03T12:00:51.358149Z"
    },
    "papermill": {
     "duration": 1.96883,
     "end_time": "2020-10-03T12:00:51.359051",
     "exception": false,
     "start_time": "2020-10-03T12:00:49.390221",
     "status": "completed"
    },
    "tags": []
   },
   "outputs": [
    {
     "data": {
      "text/plain": [
       "(array([ 0.5,  1.5,  2.5,  3.5,  4.5,  5.5,  6.5,  7.5,  8.5,  9.5, 10.5,\n",
       "        11.5, 12.5, 13.5, 14.5, 15.5, 16.5, 17.5, 18.5, 19.5, 20.5, 21.5,\n",
       "        22.5, 23.5, 24.5, 25.5, 26.5, 27.5, 28.5, 29.5, 30.5, 31.5, 32.5,\n",
       "        33.5, 34.5, 35.5, 36.5, 37.5, 38.5, 39.5, 40.5, 41.5, 42.5, 43.5,\n",
       "        44.5, 45.5, 46.5, 47.5, 48.5, 49.5]),\n",
       " <a list of 50 Text major ticklabel objects>)"
      ]
     },
     "execution_count": 15,
     "metadata": {},
     "output_type": "execute_result"
    },
    {
     "data": {
      "image/png": "[encoded data removed]",
      "text/plain": [
       "<Figure size 936x720 with 1 Axes>"
      ]
     },
     "metadata": {
      "needs_background": "light"
     },
     "output_type": "display_data"
    }
   ],
   "source": [
    "#given a dataframe train create a copy of the array that is 0 if a field contain a value and 1 for Nan\n",
    "naInfo = np.zeros(test.shape)\n",
    "naInfo[test.isna().values] = 1\n",
    "naInfo = pd.DataFrame(naInfo, columns = test.columns)\n",
    "\n",
    "fig, ax = plt.subplots()\n",
    "fig.set_size_inches(13, 10)\n",
    "ax = sns.heatmap(naInfo, vmin = 0, vmax = 1, cmap =['white', '#666666'], cbar = False, ax = ax)\n",
    "ax.set_yticks([])\n",
    "\n",
    "#draw frame around figure\n",
    "rect = plt.Rectangle((0,0), naInfo.shape[1], naInfo.shape[0], linewidth = 1,\n",
    "                     edgecolor = 'lightgrey', facecolor = 'none')\n",
    "                     \n",
    "rect = ax.add_patch(rect)\n",
    "rect.set_clip_on(False)\n",
    "                     \n",
    "plt.xticks(rotation = 80)"
   ]
  },
  {
   "cell_type": "code",
   "execution_count": 16,
   "metadata": {
    "execution": {
     "iopub.execute_input": "2020-10-03T12:00:51.489239Z",
     "iopub.status.busy": "2020-10-03T12:00:51.485596Z",
     "iopub.status.idle": "2020-10-03T12:00:51.503503Z",
     "shell.execute_reply": "2020-10-03T12:00:51.502661Z"
    },
    "papermill": {
     "duration": 0.084496,
     "end_time": "2020-10-03T12:00:51.503634",
     "exception": false,
     "start_time": "2020-10-03T12:00:51.419138",
     "status": "completed"
    },
    "tags": []
   },
   "outputs": [],
   "source": [
    "train['form_field2'] = train['form_field2'] * 1000\n",
    "train['form_field21'] = train['form_field21'] * 1000\n",
    "train['form_field22'] = train['form_field22'] * 1000\n",
    "train['form_field23'] = train['form_field23'] * 1000\n",
    "train['form_field24'] = train['form_field24'] * 1000\n",
    "train['form_field40'] = train['form_field40'] * 1000\n",
    "train['form_field41'] = train['form_field41'] * 1000\n",
    "train['form_field51'] = train['form_field1'] + train['form_field2']\n",
    "train['form_field52'] = train['form_field3'] + train['form_field4'] + train['form_field5']\n",
    "train['form_field53'] = train['form_field6'] + train['form_field7'] + train['form_field8'] + train['form_field9'] + train['form_field10'] + train['form_field11'] + train['form_field12'] + train['form_field13'] + train['form_field14'] + train['form_field15']"
   ]
  },
  {
   "cell_type": "code",
   "execution_count": 17,
   "metadata": {
    "execution": {
     "iopub.execute_input": "2020-10-03T12:00:51.626342Z",
     "iopub.status.busy": "2020-10-03T12:00:51.625524Z",
     "iopub.status.idle": "2020-10-03T12:00:51.633299Z",
     "shell.execute_reply": "2020-10-03T12:00:51.632510Z"
    },
    "papermill": {
     "duration": 0.072068,
     "end_time": "2020-10-03T12:00:51.633428",
     "exception": false,
     "start_time": "2020-10-03T12:00:51.561360",
     "status": "completed"
    },
    "tags": []
   },
   "outputs": [],
   "source": [
    "train['form_field54'] = train['form_field16'] + train['form_field17'] + train['form_field18'] + train['form_field19'] + train['form_field20']\n",
    "train['form_field55'] = train['form_field26'] + train['form_field27']"
   ]
  },
  {
   "cell_type": "code",
   "execution_count": 18,
   "metadata": {
    "execution": {
     "iopub.execute_input": "2020-10-03T12:00:51.764237Z",
     "iopub.status.busy": "2020-10-03T12:00:51.761134Z",
     "iopub.status.idle": "2020-10-03T12:00:51.775553Z",
     "shell.execute_reply": "2020-10-03T12:00:51.774864Z"
    },
    "papermill": {
     "duration": 0.084853,
     "end_time": "2020-10-03T12:00:51.775689",
     "exception": false,
     "start_time": "2020-10-03T12:00:51.690836",
     "status": "completed"
    },
    "tags": []
   },
   "outputs": [],
   "source": [
    "test['form_field2'] = test['form_field2'] * 1000\n",
    "test['form_field21'] = test['form_field21'] * 1000\n",
    "test['form_field22'] = test['form_field22'] * 1000\n",
    "test['form_field23'] = test['form_field23'] * 1000\n",
    "test['form_field24'] = test['form_field24'] * 1000\n",
    "test['form_field40'] = test['form_field40'] * 1000\n",
    "test['form_field41'] = test['form_field41'] * 1000\n",
    "test['form_field51'] = test['form_field1'] + test['form_field2']\n",
    "test['form_field52'] = test['form_field3'] + test['form_field4'] + test['form_field5']\n",
    "test['form_field53'] = test['form_field6'] + test['form_field7'] + test['form_field8'] + test['form_field9'] + test['form_field10'] + test['form_field11'] + test['form_field12'] + test['form_field13'] + test['form_field14'] + test['form_field15']"
   ]
  },
  {
   "cell_type": "code",
   "execution_count": 19,
   "metadata": {
    "execution": {
     "iopub.execute_input": "2020-10-03T12:00:51.904493Z",
     "iopub.status.busy": "2020-10-03T12:00:51.903634Z",
     "iopub.status.idle": "2020-10-03T12:00:51.910334Z",
     "shell.execute_reply": "2020-10-03T12:00:51.909533Z"
    },
    "papermill": {
     "duration": 0.072901,
     "end_time": "2020-10-03T12:00:51.910467",
     "exception": false,
     "start_time": "2020-10-03T12:00:51.837566",
     "status": "completed"
    },
    "tags": []
   },
   "outputs": [],
   "source": [
    "test['form_field54'] = test['form_field16'] + test['form_field17'] + test['form_field18'] + test['form_field19'] + test['form_field20'] \n",
    "test['form_field55'] = test['form_field26'] + test['form_field27']"
   ]
  },
  {
   "cell_type": "code",
   "execution_count": 20,
   "metadata": {
    "execution": {
     "iopub.execute_input": "2020-10-03T12:00:52.033091Z",
     "iopub.status.busy": "2020-10-03T12:00:52.032325Z",
     "iopub.status.idle": "2020-10-03T12:00:52.070821Z",
     "shell.execute_reply": "2020-10-03T12:00:52.070203Z"
    },
    "papermill": {
     "duration": 0.101917,
     "end_time": "2020-10-03T12:00:52.070972",
     "exception": false,
     "start_time": "2020-10-03T12:00:51.969055",
     "status": "completed"
    },
    "tags": []
   },
   "outputs": [],
   "source": [
    "train = train.fillna(-999)\n",
    "test = test.fillna(-999)"
   ]
  },
  {
   "cell_type": "code",
   "execution_count": 21,
   "metadata": {
    "execution": {
     "iopub.execute_input": "2020-10-03T12:00:52.194237Z",
     "iopub.status.busy": "2020-10-03T12:00:52.193342Z",
     "iopub.status.idle": "2020-10-03T12:00:52.198485Z",
     "shell.execute_reply": "2020-10-03T12:00:52.197747Z"
    },
    "papermill": {
     "duration": 0.068016,
     "end_time": "2020-10-03T12:00:52.198611",
     "exception": false,
     "start_time": "2020-10-03T12:00:52.130595",
     "status": "completed"
    },
    "tags": []
   },
   "outputs": [
    {
     "data": {
      "text/plain": [
       "((56000, 56), (24000, 55))"
      ]
     },
     "execution_count": 21,
     "metadata": {},
     "output_type": "execute_result"
    }
   ],
   "source": [
    "train.shape, test.shape"
   ]
  },
  {
   "cell_type": "code",
   "execution_count": 22,
   "metadata": {
    "execution": {
     "iopub.execute_input": "2020-10-03T12:00:52.326038Z",
     "iopub.status.busy": "2020-10-03T12:00:52.325197Z",
     "iopub.status.idle": "2020-10-03T12:00:52.329693Z",
     "shell.execute_reply": "2020-10-03T12:00:52.329066Z"
    },
    "papermill": {
     "duration": 0.070881,
     "end_time": "2020-10-03T12:00:52.329816",
     "exception": false,
     "start_time": "2020-10-03T12:00:52.258935",
     "status": "completed"
    },
    "tags": []
   },
   "outputs": [
    {
     "data": {
      "text/plain": [
       "Index(['form_field1', 'form_field2', 'form_field3', 'form_field4',\n",
       "       'form_field5', 'form_field6', 'form_field7', 'form_field8',\n",
       "       'form_field9', 'form_field10', 'form_field11', 'form_field12',\n",
       "       'form_field13', 'form_field14', 'form_field15', 'form_field16',\n",
       "       'form_field17', 'form_field18', 'form_field19', 'form_field20',\n",
       "       'form_field21', 'form_field22', 'form_field23', 'form_field24',\n",
       "       'form_field25', 'form_field26', 'form_field27', 'form_field28',\n",
       "       'form_field29', 'form_field30', 'form_field31', 'form_field32',\n",
       "       'form_field33', 'form_field34', 'form_field35', 'form_field36',\n",
       "       'form_field37', 'form_field38', 'form_field39', 'form_field40',\n",
       "       'form_field41', 'form_field42', 'form_field43', 'form_field44',\n",
       "       'form_field45', 'form_field46', 'form_field47', 'form_field48',\n",
       "       'form_field49', 'form_field50', 'default_status', 'form_field51',\n",
       "       'form_field52', 'form_field53', 'form_field54', 'form_field55'],\n",
       "      dtype='object')"
      ]
     },
     "execution_count": 22,
     "metadata": {},
     "output_type": "execute_result"
    }
   ],
   "source": [
    "train.columns"
   ]
  },
  {
   "cell_type": "code",
   "execution_count": 23,
   "metadata": {
    "execution": {
     "iopub.execute_input": "2020-10-03T12:00:52.455070Z",
     "iopub.status.busy": "2020-10-03T12:00:52.453996Z",
     "iopub.status.idle": "2020-10-03T12:00:52.458138Z",
     "shell.execute_reply": "2020-10-03T12:00:52.458664Z"
    },
    "papermill": {
     "duration": 0.069715,
     "end_time": "2020-10-03T12:00:52.458823",
     "exception": false,
     "start_time": "2020-10-03T12:00:52.389108",
     "status": "completed"
    },
    "tags": []
   },
   "outputs": [
    {
     "data": {
      "text/plain": [
       "Index(['form_field1', 'form_field2', 'form_field3', 'form_field4',\n",
       "       'form_field5', 'form_field6', 'form_field7', 'form_field8',\n",
       "       'form_field9', 'form_field10', 'form_field11', 'form_field12',\n",
       "       'form_field13', 'form_field14', 'form_field15', 'form_field16',\n",
       "       'form_field17', 'form_field18', 'form_field19', 'form_field20',\n",
       "       'form_field21', 'form_field22', 'form_field23', 'form_field24',\n",
       "       'form_field25', 'form_field26', 'form_field27', 'form_field28',\n",
       "       'form_field29', 'form_field30', 'form_field31', 'form_field32',\n",
       "       'form_field33', 'form_field34', 'form_field35', 'form_field36',\n",
       "       'form_field37', 'form_field38', 'form_field39', 'form_field40',\n",
       "       'form_field41', 'form_field42', 'form_field43', 'form_field44',\n",
       "       'form_field45', 'form_field46', 'form_field47', 'form_field48',\n",
       "       'form_field49', 'form_field50', 'form_field51', 'form_field52',\n",
       "       'form_field53', 'form_field54', 'form_field55'],\n",
       "      dtype='object')"
      ]
     },
     "execution_count": 23,
     "metadata": {},
     "output_type": "execute_result"
    }
   ],
   "source": [
    "test.columns"
   ]
  },
  {
   "cell_type": "code",
   "execution_count": 24,
   "metadata": {
    "execution": {
     "iopub.execute_input": "2020-10-03T12:00:52.588780Z",
     "iopub.status.busy": "2020-10-03T12:00:52.588030Z",
     "iopub.status.idle": "2020-10-03T12:00:52.651646Z",
     "shell.execute_reply": "2020-10-03T12:00:52.650831Z"
    },
    "papermill": {
     "duration": 0.131301,
     "end_time": "2020-10-03T12:00:52.651776",
     "exception": false,
     "start_time": "2020-10-03T12:00:52.520475",
     "status": "completed"
    },
    "tags": []
   },
   "outputs": [],
   "source": [
    "X = train.drop(columns=['default_status'])\n",
    "y = train['default_status']\n",
    "train_X, valid_X, train_y, valid_y = train_test_split(X, y, test_size = 0.4, random_state = 24)"
   ]
  },
  {
   "cell_type": "code",
   "execution_count": 25,
   "metadata": {
    "execution": {
     "iopub.execute_input": "2020-10-03T12:00:52.779068Z",
     "iopub.status.busy": "2020-10-03T12:00:52.777555Z",
     "iopub.status.idle": "2020-10-03T12:00:52.781631Z",
     "shell.execute_reply": "2020-10-03T12:00:52.780846Z"
    },
    "papermill": {
     "duration": 0.069836,
     "end_time": "2020-10-03T12:00:52.781760",
     "exception": false,
     "start_time": "2020-10-03T12:00:52.711924",
     "status": "completed"
    },
    "tags": []
   },
   "outputs": [],
   "source": [
    "categorical_features_indices = np.where(X.dtypes != np.float)[0]"
   ]
  },
  {
   "cell_type": "code",
   "execution_count": 26,
   "metadata": {
    "execution": {
     "iopub.execute_input": "2020-10-03T12:00:52.975306Z",
     "iopub.status.busy": "2020-10-03T12:00:52.958192Z",
     "iopub.status.idle": "2020-10-03T12:01:40.874371Z",
     "shell.execute_reply": "2020-10-03T12:01:40.874990Z"
    },
    "papermill": {
     "duration": 48.03266,
     "end_time": "2020-10-03T12:01:40.875144",
     "exception": false,
     "start_time": "2020-10-03T12:00:52.842484",
     "status": "completed"
    },
    "tags": []
   },
   "outputs": [
    {
     "name": "stdout",
     "output_type": "stream",
     "text": [
      "0:\ttest: 0.8121616\tbest: 0.8121616 (0)\ttotal: 116ms\tremaining: 2m 7s\n",
      "1:\ttest: 0.8198783\tbest: 0.8198783 (1)\ttotal: 165ms\tremaining: 1m 30s\n",
      "2:\ttest: 0.8227009\tbest: 0.8227009 (2)\ttotal: 215ms\tremaining: 1m 18s\n",
      "3:\ttest: 0.8228322\tbest: 0.8228322 (3)\ttotal: 263ms\tremaining: 1m 11s\n",
      "4:\ttest: 0.8232298\tbest: 0.8232298 (4)\ttotal: 310ms\tremaining: 1m 7s\n",
      "5:\ttest: 0.8235620\tbest: 0.8235620 (5)\ttotal: 360ms\tremaining: 1m 5s\n",
      "6:\ttest: 0.8245867\tbest: 0.8245867 (6)\ttotal: 403ms\tremaining: 1m 2s\n",
      "7:\ttest: 0.8247572\tbest: 0.8247572 (7)\ttotal: 447ms\tremaining: 1m\n",
      "8:\ttest: 0.8251841\tbest: 0.8251841 (8)\ttotal: 490ms\tremaining: 59.4s\n",
      "9:\ttest: 0.8258428\tbest: 0.8258428 (9)\ttotal: 536ms\tremaining: 58.4s\n",
      "10:\ttest: 0.8265172\tbest: 0.8265172 (10)\ttotal: 587ms\tremaining: 58.1s\n",
      "11:\ttest: 0.8270512\tbest: 0.8270512 (11)\ttotal: 634ms\tremaining: 57.5s\n",
      "12:\ttest: 0.8277283\tbest: 0.8277283 (12)\ttotal: 680ms\tremaining: 56.8s\n",
      "13:\ttest: 0.8285458\tbest: 0.8285458 (13)\ttotal: 722ms\tremaining: 56s\n",
      "14:\ttest: 0.8289610\tbest: 0.8289610 (14)\ttotal: 769ms\tremaining: 55.6s\n",
      "15:\ttest: 0.8292483\tbest: 0.8292483 (15)\ttotal: 814ms\tremaining: 55.2s\n",
      "16:\ttest: 0.8298477\tbest: 0.8298477 (16)\ttotal: 861ms\tremaining: 54.9s\n",
      "17:\ttest: 0.8303880\tbest: 0.8303880 (17)\ttotal: 906ms\tremaining: 54.5s\n",
      "18:\ttest: 0.8308850\tbest: 0.8308850 (18)\ttotal: 953ms\tremaining: 54.2s\n",
      "19:\ttest: 0.8308983\tbest: 0.8308983 (19)\ttotal: 998ms\tremaining: 53.9s\n",
      "20:\ttest: 0.8311097\tbest: 0.8311097 (20)\ttotal: 1.05s\tremaining: 53.9s\n",
      "21:\ttest: 0.8313710\tbest: 0.8313710 (21)\ttotal: 1.09s\tremaining: 53.6s\n",
      "22:\ttest: 0.8317518\tbest: 0.8317518 (22)\ttotal: 1.15s\tremaining: 53.7s\n",
      "23:\ttest: 0.8318286\tbest: 0.8318286 (23)\ttotal: 1.22s\tremaining: 54.9s\n",
      "24:\ttest: 0.8323495\tbest: 0.8323495 (24)\ttotal: 1.3s\tremaining: 56.1s\n",
      "25:\ttest: 0.8324515\tbest: 0.8324515 (25)\ttotal: 1.36s\tremaining: 56.2s\n",
      "26:\ttest: 0.8326999\tbest: 0.8326999 (26)\ttotal: 1.41s\tremaining: 55.8s\n",
      "27:\ttest: 0.8330719\tbest: 0.8330719 (27)\ttotal: 1.45s\tremaining: 55.5s\n",
      "28:\ttest: 0.8332668\tbest: 0.8332668 (28)\ttotal: 1.49s\tremaining: 55.1s\n",
      "29:\ttest: 0.8335211\tbest: 0.8335211 (29)\ttotal: 1.54s\tremaining: 54.9s\n",
      "30:\ttest: 0.8336172\tbest: 0.8336172 (30)\ttotal: 1.58s\tremaining: 54.5s\n",
      "31:\ttest: 0.8339975\tbest: 0.8339975 (31)\ttotal: 1.62s\tremaining: 54.1s\n",
      "32:\ttest: 0.8339961\tbest: 0.8339975 (31)\ttotal: 1.67s\tremaining: 54.1s\n",
      "33:\ttest: 0.8341538\tbest: 0.8341538 (33)\ttotal: 1.72s\tremaining: 53.9s\n",
      "34:\ttest: 0.8342047\tbest: 0.8342047 (34)\ttotal: 1.76s\tremaining: 53.6s\n",
      "35:\ttest: 0.8343393\tbest: 0.8343393 (35)\ttotal: 1.8s\tremaining: 53.3s\n",
      "36:\ttest: 0.8346831\tbest: 0.8346831 (36)\ttotal: 1.85s\tremaining: 53.1s\n",
      "37:\ttest: 0.8347568\tbest: 0.8347568 (37)\ttotal: 1.9s\tremaining: 53s\n",
      "38:\ttest: 0.8348757\tbest: 0.8348757 (38)\ttotal: 1.94s\tremaining: 52.8s\n",
      "39:\ttest: 0.8349432\tbest: 0.8349432 (39)\ttotal: 1.99s\tremaining: 52.6s\n",
      "40:\ttest: 0.8349389\tbest: 0.8349432 (39)\ttotal: 2.03s\tremaining: 52.4s\n",
      "41:\ttest: 0.8351701\tbest: 0.8351701 (41)\ttotal: 2.07s\tremaining: 52.2s\n",
      "42:\ttest: 0.8354819\tbest: 0.8354819 (42)\ttotal: 2.11s\tremaining: 51.9s\n",
      "43:\ttest: 0.8357725\tbest: 0.8357725 (43)\ttotal: 2.15s\tremaining: 51.6s\n",
      "44:\ttest: 0.8358719\tbest: 0.8358719 (44)\ttotal: 2.2s\tremaining: 51.5s\n",
      "45:\ttest: 0.8359897\tbest: 0.8359897 (45)\ttotal: 2.24s\tremaining: 51.4s\n",
      "46:\ttest: 0.8361892\tbest: 0.8361892 (46)\ttotal: 2.28s\tremaining: 51.1s\n",
      "47:\ttest: 0.8362646\tbest: 0.8362646 (47)\ttotal: 2.33s\tremaining: 51s\n",
      "48:\ttest: 0.8364767\tbest: 0.8364767 (48)\ttotal: 2.37s\tremaining: 50.8s\n",
      "49:\ttest: 0.8366846\tbest: 0.8366846 (49)\ttotal: 2.42s\tremaining: 50.7s\n",
      "50:\ttest: 0.8367650\tbest: 0.8367650 (50)\ttotal: 2.46s\tremaining: 50.6s\n",
      "51:\ttest: 0.8367929\tbest: 0.8367929 (51)\ttotal: 2.5s\tremaining: 50.4s\n",
      "52:\ttest: 0.8369242\tbest: 0.8369242 (52)\ttotal: 2.54s\tremaining: 50.2s\n",
      "53:\ttest: 0.8370016\tbest: 0.8370016 (53)\ttotal: 2.58s\tremaining: 50s\n",
      "54:\ttest: 0.8370990\tbest: 0.8370990 (54)\ttotal: 2.63s\tremaining: 50s\n",
      "55:\ttest: 0.8372060\tbest: 0.8372060 (55)\ttotal: 2.68s\tremaining: 49.9s\n",
      "56:\ttest: 0.8371796\tbest: 0.8372060 (55)\ttotal: 2.72s\tremaining: 49.8s\n",
      "57:\ttest: 0.8372927\tbest: 0.8372927 (57)\ttotal: 2.76s\tremaining: 49.7s\n",
      "58:\ttest: 0.8374099\tbest: 0.8374099 (58)\ttotal: 2.81s\tremaining: 49.5s\n",
      "59:\ttest: 0.8375618\tbest: 0.8375618 (59)\ttotal: 2.85s\tremaining: 49.4s\n",
      "60:\ttest: 0.8377356\tbest: 0.8377356 (60)\ttotal: 2.89s\tremaining: 49.3s\n",
      "61:\ttest: 0.8377752\tbest: 0.8377752 (61)\ttotal: 2.94s\tremaining: 49.1s\n",
      "62:\ttest: 0.8378799\tbest: 0.8378799 (62)\ttotal: 2.98s\tremaining: 49s\n",
      "63:\ttest: 0.8379575\tbest: 0.8379575 (63)\ttotal: 3.02s\tremaining: 48.8s\n",
      "64:\ttest: 0.8380322\tbest: 0.8380322 (64)\ttotal: 3.06s\tremaining: 48.7s\n",
      "65:\ttest: 0.8382221\tbest: 0.8382221 (65)\ttotal: 3.1s\tremaining: 48.7s\n",
      "66:\ttest: 0.8383399\tbest: 0.8383399 (66)\ttotal: 3.15s\tremaining: 48.5s\n",
      "67:\ttest: 0.8384445\tbest: 0.8384445 (67)\ttotal: 3.19s\tremaining: 48.4s\n",
      "68:\ttest: 0.8385609\tbest: 0.8385609 (68)\ttotal: 3.23s\tremaining: 48.3s\n",
      "69:\ttest: 0.8386394\tbest: 0.8386394 (69)\ttotal: 3.28s\tremaining: 48.2s\n",
      "70:\ttest: 0.8386867\tbest: 0.8386867 (70)\ttotal: 3.32s\tremaining: 48.1s\n",
      "71:\ttest: 0.8387566\tbest: 0.8387566 (71)\ttotal: 3.36s\tremaining: 48s\n",
      "72:\ttest: 0.8388051\tbest: 0.8388051 (72)\ttotal: 3.4s\tremaining: 47.9s\n",
      "73:\ttest: 0.8388707\tbest: 0.8388707 (73)\ttotal: 3.45s\tremaining: 47.8s\n",
      "74:\ttest: 0.8389527\tbest: 0.8389527 (74)\ttotal: 3.49s\tremaining: 47.7s\n",
      "75:\ttest: 0.8389919\tbest: 0.8389919 (75)\ttotal: 3.54s\tremaining: 47.6s\n",
      "76:\ttest: 0.8390086\tbest: 0.8390086 (76)\ttotal: 3.58s\tremaining: 47.5s\n",
      "77:\ttest: 0.8391387\tbest: 0.8391387 (77)\ttotal: 3.62s\tremaining: 47.5s\n",
      "78:\ttest: 0.8392372\tbest: 0.8392372 (78)\ttotal: 3.66s\tremaining: 47.4s\n",
      "79:\ttest: 0.8393023\tbest: 0.8393023 (79)\ttotal: 3.71s\tremaining: 47.3s\n",
      "80:\ttest: 0.8393140\tbest: 0.8393140 (80)\ttotal: 3.76s\tremaining: 47.3s\n",
      "81:\ttest: 0.8393934\tbest: 0.8393934 (81)\ttotal: 3.8s\tremaining: 47.2s\n",
      "82:\ttest: 0.8394778\tbest: 0.8394778 (82)\ttotal: 3.84s\tremaining: 47.1s\n",
      "83:\ttest: 0.8395082\tbest: 0.8395082 (83)\ttotal: 3.88s\tremaining: 47s\n",
      "84:\ttest: 0.8395513\tbest: 0.8395513 (84)\ttotal: 3.93s\tremaining: 46.9s\n",
      "85:\ttest: 0.8396701\tbest: 0.8396701 (85)\ttotal: 3.97s\tremaining: 46.8s\n",
      "86:\ttest: 0.8397626\tbest: 0.8397626 (86)\ttotal: 4.01s\tremaining: 46.7s\n",
      "87:\ttest: 0.8398478\tbest: 0.8398478 (87)\ttotal: 4.06s\tremaining: 46.7s\n",
      "88:\ttest: 0.8398532\tbest: 0.8398532 (88)\ttotal: 4.1s\tremaining: 46.6s\n",
      "89:\ttest: 0.8398918\tbest: 0.8398918 (89)\ttotal: 4.15s\tremaining: 46.6s\n",
      "90:\ttest: 0.8399657\tbest: 0.8399657 (90)\ttotal: 4.19s\tremaining: 46.5s\n",
      "91:\ttest: 0.8401019\tbest: 0.8401019 (91)\ttotal: 4.23s\tremaining: 46.3s\n",
      "92:\ttest: 0.8401619\tbest: 0.8401619 (92)\ttotal: 4.27s\tremaining: 46.2s\n",
      "93:\ttest: 0.8402595\tbest: 0.8402595 (93)\ttotal: 4.31s\tremaining: 46.1s\n",
      "94:\ttest: 0.8402948\tbest: 0.8402948 (94)\ttotal: 4.36s\tremaining: 46.1s\n",
      "95:\ttest: 0.8403160\tbest: 0.8403160 (95)\ttotal: 4.4s\tremaining: 46s\n",
      "96:\ttest: 0.8403952\tbest: 0.8403952 (96)\ttotal: 4.44s\tremaining: 45.9s\n",
      "97:\ttest: 0.8404446\tbest: 0.8404446 (97)\ttotal: 4.48s\tremaining: 45.8s\n",
      "98:\ttest: 0.8404739\tbest: 0.8404739 (98)\ttotal: 4.53s\tremaining: 45.8s\n",
      "99:\ttest: 0.8405720\tbest: 0.8405720 (99)\ttotal: 4.57s\tremaining: 45.7s\n",
      "100:\ttest: 0.8406379\tbest: 0.8406379 (100)\ttotal: 4.61s\tremaining: 45.6s\n",
      "101:\ttest: 0.8406581\tbest: 0.8406581 (101)\ttotal: 4.66s\tremaining: 45.6s\n",
      "102:\ttest: 0.8407601\tbest: 0.8407601 (102)\ttotal: 4.7s\tremaining: 45.5s\n",
      "103:\ttest: 0.8408601\tbest: 0.8408601 (103)\ttotal: 4.74s\tremaining: 45.4s\n",
      "104:\ttest: 0.8409146\tbest: 0.8409146 (104)\ttotal: 4.79s\tremaining: 45.4s\n",
      "105:\ttest: 0.8409384\tbest: 0.8409384 (105)\ttotal: 4.83s\tremaining: 45.3s\n",
      "106:\ttest: 0.8410208\tbest: 0.8410208 (106)\ttotal: 4.87s\tremaining: 45.2s\n",
      "107:\ttest: 0.8410533\tbest: 0.8410533 (107)\ttotal: 4.92s\tremaining: 45.2s\n",
      "108:\ttest: 0.8411093\tbest: 0.8411093 (108)\ttotal: 4.96s\tremaining: 45.1s\n",
      "109:\ttest: 0.8411580\tbest: 0.8411580 (109)\ttotal: 5s\tremaining: 45s\n",
      "110:\ttest: 0.8412361\tbest: 0.8412361 (110)\ttotal: 5.04s\tremaining: 44.9s\n",
      "111:\ttest: 0.8412796\tbest: 0.8412796 (111)\ttotal: 5.08s\tremaining: 44.8s\n",
      "112:\ttest: 0.8413605\tbest: 0.8413605 (112)\ttotal: 5.12s\tremaining: 44.7s\n",
      "113:\ttest: 0.8413943\tbest: 0.8413943 (113)\ttotal: 5.16s\tremaining: 44.6s\n",
      "114:\ttest: 0.8414799\tbest: 0.8414799 (114)\ttotal: 5.2s\tremaining: 44.6s\n",
      "115:\ttest: 0.8415636\tbest: 0.8415636 (115)\ttotal: 5.25s\tremaining: 44.5s\n",
      "116:\ttest: 0.8416381\tbest: 0.8416381 (116)\ttotal: 5.29s\tremaining: 44.4s\n",
      "117:\ttest: 0.8416638\tbest: 0.8416638 (117)\ttotal: 5.33s\tremaining: 44.4s\n",
      "118:\ttest: 0.8417146\tbest: 0.8417146 (118)\ttotal: 5.37s\tremaining: 44.3s\n",
      "119:\ttest: 0.8417339\tbest: 0.8417339 (119)\ttotal: 5.42s\tremaining: 44.2s\n",
      "120:\ttest: 0.8418358\tbest: 0.8418358 (120)\ttotal: 5.46s\tremaining: 44.2s\n",
      "121:\ttest: 0.8418884\tbest: 0.8418884 (121)\ttotal: 5.5s\tremaining: 44.1s\n",
      "122:\ttest: 0.8419270\tbest: 0.8419270 (122)\ttotal: 5.55s\tremaining: 44.1s\n",
      "123:\ttest: 0.8419797\tbest: 0.8419797 (123)\ttotal: 5.59s\tremaining: 44s\n",
      "124:\ttest: 0.8420863\tbest: 0.8420863 (124)\ttotal: 5.63s\tremaining: 43.9s\n",
      "125:\ttest: 0.8421007\tbest: 0.8421007 (125)\ttotal: 5.68s\tremaining: 43.9s\n",
      "126:\ttest: 0.8421431\tbest: 0.8421431 (126)\ttotal: 5.72s\tremaining: 43.9s\n",
      "127:\ttest: 0.8421749\tbest: 0.8421749 (127)\ttotal: 5.76s\tremaining: 43.8s\n",
      "128:\ttest: 0.8422418\tbest: 0.8422418 (128)\ttotal: 5.8s\tremaining: 43.7s\n",
      "129:\ttest: 0.8422505\tbest: 0.8422505 (129)\ttotal: 5.85s\tremaining: 43.6s\n",
      "130:\ttest: 0.8423079\tbest: 0.8423079 (130)\ttotal: 5.88s\tremaining: 43.5s\n",
      "131:\ttest: 0.8423651\tbest: 0.8423651 (131)\ttotal: 5.92s\tremaining: 43.5s\n",
      "132:\ttest: 0.8424010\tbest: 0.8424010 (132)\ttotal: 5.96s\tremaining: 43.4s\n",
      "133:\ttest: 0.8424660\tbest: 0.8424660 (133)\ttotal: 6s\tremaining: 43.3s\n",
      "134:\ttest: 0.8424967\tbest: 0.8424967 (134)\ttotal: 6.05s\tremaining: 43.2s\n",
      "135:\ttest: 0.8425278\tbest: 0.8425278 (135)\ttotal: 6.09s\tremaining: 43.2s\n",
      "136:\ttest: 0.8425294\tbest: 0.8425294 (136)\ttotal: 6.14s\tremaining: 43.1s\n",
      "137:\ttest: 0.8425711\tbest: 0.8425711 (137)\ttotal: 6.18s\tremaining: 43.1s\n",
      "138:\ttest: 0.8426169\tbest: 0.8426169 (138)\ttotal: 6.22s\tremaining: 43s\n",
      "139:\ttest: 0.8426585\tbest: 0.8426585 (139)\ttotal: 6.26s\tremaining: 42.9s\n",
      "140:\ttest: 0.8426902\tbest: 0.8426902 (140)\ttotal: 6.3s\tremaining: 42.9s\n",
      "141:\ttest: 0.8427083\tbest: 0.8427083 (141)\ttotal: 6.35s\tremaining: 42.8s\n",
      "142:\ttest: 0.8427819\tbest: 0.8427819 (142)\ttotal: 6.39s\tremaining: 42.8s\n",
      "143:\ttest: 0.8428411\tbest: 0.8428411 (143)\ttotal: 6.43s\tremaining: 42.7s\n",
      "144:\ttest: 0.8429021\tbest: 0.8429021 (144)\ttotal: 6.48s\tremaining: 42.7s\n",
      "145:\ttest: 0.8429058\tbest: 0.8429058 (145)\ttotal: 6.53s\tremaining: 42.6s\n",
      "146:\ttest: 0.8429633\tbest: 0.8429633 (146)\ttotal: 6.57s\tremaining: 42.6s\n",
      "147:\ttest: 0.8430311\tbest: 0.8430311 (147)\ttotal: 6.61s\tremaining: 42.5s\n",
      "148:\ttest: 0.8431004\tbest: 0.8431004 (148)\ttotal: 6.65s\tremaining: 42.4s\n",
      "149:\ttest: 0.8431074\tbest: 0.8431074 (149)\ttotal: 6.69s\tremaining: 42.4s\n",
      "150:\ttest: 0.8431755\tbest: 0.8431755 (150)\ttotal: 6.73s\tremaining: 42.3s\n",
      "151:\ttest: 0.8431890\tbest: 0.8431890 (151)\ttotal: 6.78s\tremaining: 42.3s\n",
      "152:\ttest: 0.8432280\tbest: 0.8432280 (152)\ttotal: 6.82s\tremaining: 42.2s\n",
      "153:\ttest: 0.8432721\tbest: 0.8432721 (153)\ttotal: 6.86s\tremaining: 42.1s\n",
      "154:\ttest: 0.8433087\tbest: 0.8433087 (154)\ttotal: 6.9s\tremaining: 42s\n",
      "155:\ttest: 0.8433511\tbest: 0.8433511 (155)\ttotal: 6.94s\tremaining: 42s\n",
      "156:\ttest: 0.8433763\tbest: 0.8433763 (156)\ttotal: 6.98s\tremaining: 41.9s\n",
      "157:\ttest: 0.8434337\tbest: 0.8434337 (157)\ttotal: 7.02s\tremaining: 41.9s\n",
      "158:\ttest: 0.8434879\tbest: 0.8434879 (158)\ttotal: 7.07s\tremaining: 41.8s\n",
      "159:\ttest: 0.8435023\tbest: 0.8435023 (159)\ttotal: 7.11s\tremaining: 41.8s\n",
      "160:\ttest: 0.8435761\tbest: 0.8435761 (160)\ttotal: 7.17s\tremaining: 41.8s\n",
      "161:\ttest: 0.8436053\tbest: 0.8436053 (161)\ttotal: 7.21s\tremaining: 41.7s\n",
      "162:\ttest: 0.8436483\tbest: 0.8436483 (162)\ttotal: 7.25s\tremaining: 41.7s\n",
      "163:\ttest: 0.8436845\tbest: 0.8436845 (163)\ttotal: 7.29s\tremaining: 41.6s\n",
      "164:\ttest: 0.8437045\tbest: 0.8437045 (164)\ttotal: 7.33s\tremaining: 41.5s\n",
      "165:\ttest: 0.8437335\tbest: 0.8437335 (165)\ttotal: 7.37s\tremaining: 41.5s\n",
      "166:\ttest: 0.8437352\tbest: 0.8437352 (166)\ttotal: 7.42s\tremaining: 41.4s\n",
      "167:\ttest: 0.8437556\tbest: 0.8437556 (167)\ttotal: 7.46s\tremaining: 41.4s\n",
      "168:\ttest: 0.8438058\tbest: 0.8438058 (168)\ttotal: 7.5s\tremaining: 41.3s\n",
      "169:\ttest: 0.8438272\tbest: 0.8438272 (169)\ttotal: 7.54s\tremaining: 41.2s\n",
      "170:\ttest: 0.8438732\tbest: 0.8438732 (170)\ttotal: 7.58s\tremaining: 41.2s\n",
      "171:\ttest: 0.8439099\tbest: 0.8439099 (171)\ttotal: 7.62s\tremaining: 41.1s\n",
      "172:\ttest: 0.8439337\tbest: 0.8439337 (172)\ttotal: 7.66s\tremaining: 41.1s\n",
      "173:\ttest: 0.8439792\tbest: 0.8439792 (173)\ttotal: 7.7s\tremaining: 41s\n",
      "174:\ttest: 0.8439946\tbest: 0.8439946 (174)\ttotal: 7.74s\tremaining: 40.9s\n",
      "175:\ttest: 0.8440193\tbest: 0.8440193 (175)\ttotal: 7.79s\tremaining: 40.9s\n",
      "176:\ttest: 0.8440440\tbest: 0.8440440 (176)\ttotal: 7.83s\tremaining: 40.8s\n",
      "177:\ttest: 0.8440830\tbest: 0.8440830 (177)\ttotal: 7.87s\tremaining: 40.8s\n",
      "178:\ttest: 0.8440865\tbest: 0.8440865 (178)\ttotal: 7.91s\tremaining: 40.7s\n",
      "179:\ttest: 0.8441230\tbest: 0.8441230 (179)\ttotal: 7.96s\tremaining: 40.7s\n",
      "180:\ttest: 0.8441426\tbest: 0.8441426 (180)\ttotal: 8.01s\tremaining: 40.6s\n",
      "181:\ttest: 0.8441490\tbest: 0.8441490 (181)\ttotal: 8.04s\tremaining: 40.6s\n",
      "182:\ttest: 0.8442114\tbest: 0.8442114 (182)\ttotal: 8.09s\tremaining: 40.5s\n",
      "183:\ttest: 0.8442411\tbest: 0.8442411 (183)\ttotal: 8.13s\tremaining: 40.5s\n",
      "184:\ttest: 0.8442772\tbest: 0.8442772 (184)\ttotal: 8.17s\tremaining: 40.4s\n",
      "185:\ttest: 0.8442963\tbest: 0.8442963 (185)\ttotal: 8.21s\tremaining: 40.4s\n",
      "186:\ttest: 0.8443380\tbest: 0.8443380 (186)\ttotal: 8.26s\tremaining: 40.3s\n",
      "187:\ttest: 0.8443938\tbest: 0.8443938 (187)\ttotal: 8.3s\tremaining: 40.3s\n",
      "188:\ttest: 0.8444291\tbest: 0.8444291 (188)\ttotal: 8.34s\tremaining: 40.2s\n",
      "189:\ttest: 0.8444502\tbest: 0.8444502 (189)\ttotal: 8.38s\tremaining: 40.1s\n",
      "190:\ttest: 0.8444779\tbest: 0.8444779 (190)\ttotal: 8.42s\tremaining: 40.1s\n",
      "191:\ttest: 0.8445101\tbest: 0.8445101 (191)\ttotal: 8.46s\tremaining: 40s\n",
      "192:\ttest: 0.8445681\tbest: 0.8445681 (192)\ttotal: 8.51s\tremaining: 40s\n",
      "193:\ttest: 0.8446186\tbest: 0.8446186 (193)\ttotal: 8.54s\tremaining: 39.9s\n",
      "194:\ttest: 0.8446639\tbest: 0.8446639 (194)\ttotal: 8.59s\tremaining: 39.9s\n",
      "195:\ttest: 0.8446745\tbest: 0.8446745 (195)\ttotal: 8.63s\tremaining: 39.8s\n",
      "196:\ttest: 0.8447473\tbest: 0.8447473 (196)\ttotal: 8.68s\tremaining: 39.8s\n",
      "197:\ttest: 0.8447767\tbest: 0.8447767 (197)\ttotal: 8.72s\tremaining: 39.7s\n",
      "198:\ttest: 0.8448305\tbest: 0.8448305 (198)\ttotal: 8.76s\tremaining: 39.7s\n",
      "199:\ttest: 0.8448574\tbest: 0.8448574 (199)\ttotal: 8.8s\tremaining: 39.6s\n",
      "200:\ttest: 0.8448992\tbest: 0.8448992 (200)\ttotal: 8.85s\tremaining: 39.6s\n",
      "201:\ttest: 0.8449352\tbest: 0.8449352 (201)\ttotal: 8.89s\tremaining: 39.5s\n",
      "202:\ttest: 0.8449690\tbest: 0.8449690 (202)\ttotal: 8.93s\tremaining: 39.5s\n",
      "203:\ttest: 0.8450018\tbest: 0.8450018 (203)\ttotal: 8.97s\tremaining: 39.4s\n",
      "204:\ttest: 0.8450387\tbest: 0.8450387 (204)\ttotal: 9.01s\tremaining: 39.4s\n",
      "205:\ttest: 0.8450708\tbest: 0.8450708 (205)\ttotal: 9.06s\tremaining: 39.3s\n",
      "206:\ttest: 0.8451061\tbest: 0.8451061 (206)\ttotal: 9.11s\tremaining: 39.3s\n",
      "207:\ttest: 0.8451263\tbest: 0.8451263 (207)\ttotal: 9.15s\tremaining: 39.2s\n",
      "208:\ttest: 0.8451463\tbest: 0.8451463 (208)\ttotal: 9.19s\tremaining: 39.2s\n",
      "209:\ttest: 0.8451441\tbest: 0.8451463 (208)\ttotal: 9.23s\tremaining: 39.1s\n",
      "210:\ttest: 0.8451694\tbest: 0.8451694 (210)\ttotal: 9.28s\tremaining: 39.1s\n",
      "211:\ttest: 0.8451894\tbest: 0.8451894 (211)\ttotal: 9.32s\tremaining: 39s\n",
      "212:\ttest: 0.8452205\tbest: 0.8452205 (212)\ttotal: 9.36s\tremaining: 39s\n",
      "213:\ttest: 0.8452798\tbest: 0.8452798 (213)\ttotal: 9.4s\tremaining: 38.9s\n",
      "214:\ttest: 0.8453022\tbest: 0.8453022 (214)\ttotal: 9.45s\tremaining: 38.9s\n",
      "215:\ttest: 0.8453493\tbest: 0.8453493 (215)\ttotal: 9.49s\tremaining: 38.8s\n",
      "216:\ttest: 0.8453860\tbest: 0.8453860 (216)\ttotal: 9.53s\tremaining: 38.8s\n",
      "217:\ttest: 0.8454259\tbest: 0.8454259 (217)\ttotal: 9.57s\tremaining: 38.7s\n",
      "218:\ttest: 0.8454700\tbest: 0.8454700 (218)\ttotal: 9.62s\tremaining: 38.7s\n",
      "219:\ttest: 0.8455090\tbest: 0.8455090 (219)\ttotal: 9.66s\tremaining: 38.6s\n",
      "220:\ttest: 0.8455173\tbest: 0.8455173 (220)\ttotal: 9.7s\tremaining: 38.6s\n",
      "221:\ttest: 0.8455421\tbest: 0.8455421 (221)\ttotal: 9.74s\tremaining: 38.5s\n",
      "222:\ttest: 0.8455446\tbest: 0.8455446 (222)\ttotal: 9.79s\tremaining: 38.5s\n",
      "223:\ttest: 0.8455832\tbest: 0.8455832 (223)\ttotal: 9.82s\tremaining: 38.4s\n",
      "224:\ttest: 0.8456519\tbest: 0.8456519 (224)\ttotal: 9.87s\tremaining: 38.4s\n",
      "225:\ttest: 0.8456956\tbest: 0.8456956 (225)\ttotal: 9.91s\tremaining: 38.3s\n",
      "226:\ttest: 0.8457226\tbest: 0.8457226 (226)\ttotal: 9.95s\tremaining: 38.3s\n",
      "227:\ttest: 0.8457401\tbest: 0.8457401 (227)\ttotal: 9.99s\tremaining: 38.2s\n",
      "228:\ttest: 0.8457442\tbest: 0.8457442 (228)\ttotal: 10s\tremaining: 38.2s\n",
      "229:\ttest: 0.8457983\tbest: 0.8457983 (229)\ttotal: 10.1s\tremaining: 38.1s\n",
      "230:\ttest: 0.8458150\tbest: 0.8458150 (230)\ttotal: 10.1s\tremaining: 38.1s\n",
      "231:\ttest: 0.8458508\tbest: 0.8458508 (231)\ttotal: 10.2s\tremaining: 38s\n",
      "232:\ttest: 0.8458682\tbest: 0.8458682 (232)\ttotal: 10.2s\tremaining: 38s\n",
      "233:\ttest: 0.8459048\tbest: 0.8459048 (233)\ttotal: 10.2s\tremaining: 37.9s\n",
      "234:\ttest: 0.8459411\tbest: 0.8459411 (234)\ttotal: 10.3s\tremaining: 37.9s\n",
      "235:\ttest: 0.8459680\tbest: 0.8459680 (235)\ttotal: 10.3s\tremaining: 37.8s\n",
      "236:\ttest: 0.8459971\tbest: 0.8459971 (236)\ttotal: 10.4s\tremaining: 37.8s\n",
      "237:\ttest: 0.8460125\tbest: 0.8460125 (237)\ttotal: 10.4s\tremaining: 37.7s\n",
      "238:\ttest: 0.8460636\tbest: 0.8460636 (238)\ttotal: 10.5s\tremaining: 37.7s\n",
      "239:\ttest: 0.8461014\tbest: 0.8461014 (239)\ttotal: 10.5s\tremaining: 37.6s\n",
      "240:\ttest: 0.8461476\tbest: 0.8461476 (240)\ttotal: 10.5s\tremaining: 37.6s\n",
      "241:\ttest: 0.8462064\tbest: 0.8462064 (241)\ttotal: 10.6s\tremaining: 37.5s\n",
      "242:\ttest: 0.8462113\tbest: 0.8462113 (242)\ttotal: 10.6s\tremaining: 37.5s\n",
      "243:\ttest: 0.8462202\tbest: 0.8462202 (243)\ttotal: 10.7s\tremaining: 37.4s\n",
      "244:\ttest: 0.8462406\tbest: 0.8462406 (244)\ttotal: 10.7s\tremaining: 37.4s\n",
      "245:\ttest: 0.8462951\tbest: 0.8462951 (245)\ttotal: 10.8s\tremaining: 37.3s\n",
      "246:\ttest: 0.8463202\tbest: 0.8463202 (246)\ttotal: 10.8s\tremaining: 37.3s\n",
      "247:\ttest: 0.8463798\tbest: 0.8463798 (247)\ttotal: 10.8s\tremaining: 37.2s\n",
      "248:\ttest: 0.8464151\tbest: 0.8464151 (248)\ttotal: 10.9s\tremaining: 37.2s\n",
      "249:\ttest: 0.8464482\tbest: 0.8464482 (249)\ttotal: 10.9s\tremaining: 37.1s\n",
      "250:\ttest: 0.8464600\tbest: 0.8464600 (250)\ttotal: 11s\tremaining: 37.1s\n",
      "251:\ttest: 0.8464780\tbest: 0.8464780 (251)\ttotal: 11s\tremaining: 37.1s\n",
      "252:\ttest: 0.8465079\tbest: 0.8465079 (252)\ttotal: 11.1s\tremaining: 37s\n",
      "253:\ttest: 0.8465180\tbest: 0.8465180 (253)\ttotal: 11.1s\tremaining: 37s\n",
      "254:\ttest: 0.8465500\tbest: 0.8465500 (254)\ttotal: 11.1s\tremaining: 36.9s\n",
      "255:\ttest: 0.8465712\tbest: 0.8465712 (255)\ttotal: 11.2s\tremaining: 36.9s\n",
      "256:\ttest: 0.8466015\tbest: 0.8466015 (256)\ttotal: 11.2s\tremaining: 36.8s\n",
      "257:\ttest: 0.8466080\tbest: 0.8466080 (257)\ttotal: 11.3s\tremaining: 36.8s\n",
      "258:\ttest: 0.8466470\tbest: 0.8466470 (258)\ttotal: 11.3s\tremaining: 36.7s\n",
      "259:\ttest: 0.8466483\tbest: 0.8466483 (259)\ttotal: 11.3s\tremaining: 36.7s\n",
      "260:\ttest: 0.8466702\tbest: 0.8466702 (260)\ttotal: 11.4s\tremaining: 36.6s\n",
      "261:\ttest: 0.8466896\tbest: 0.8466896 (261)\ttotal: 11.4s\tremaining: 36.6s\n",
      "262:\ttest: 0.8466985\tbest: 0.8466985 (262)\ttotal: 11.5s\tremaining: 36.5s\n",
      "263:\ttest: 0.8467239\tbest: 0.8467239 (263)\ttotal: 11.5s\tremaining: 36.5s\n",
      "264:\ttest: 0.8467380\tbest: 0.8467380 (264)\ttotal: 11.6s\tremaining: 36.4s\n",
      "265:\ttest: 0.8467370\tbest: 0.8467380 (264)\ttotal: 11.6s\tremaining: 36.4s\n",
      "266:\ttest: 0.8467834\tbest: 0.8467834 (266)\ttotal: 11.6s\tremaining: 36.3s\n",
      "267:\ttest: 0.8468117\tbest: 0.8468117 (267)\ttotal: 11.7s\tremaining: 36.3s\n",
      "268:\ttest: 0.8468367\tbest: 0.8468367 (268)\ttotal: 11.7s\tremaining: 36.2s\n",
      "269:\ttest: 0.8468478\tbest: 0.8468478 (269)\ttotal: 11.8s\tremaining: 36.2s\n",
      "270:\ttest: 0.8468762\tbest: 0.8468762 (270)\ttotal: 11.8s\tremaining: 36.1s\n",
      "271:\ttest: 0.8468557\tbest: 0.8468762 (270)\ttotal: 11.9s\tremaining: 36.1s\n",
      "272:\ttest: 0.8468698\tbest: 0.8468762 (270)\ttotal: 11.9s\tremaining: 36s\n",
      "273:\ttest: 0.8468872\tbest: 0.8468872 (273)\ttotal: 11.9s\tremaining: 36s\n",
      "274:\ttest: 0.8469212\tbest: 0.8469212 (274)\ttotal: 12s\tremaining: 35.9s\n",
      "275:\ttest: 0.8469825\tbest: 0.8469825 (275)\ttotal: 12s\tremaining: 35.9s\n",
      "276:\ttest: 0.8470119\tbest: 0.8470119 (276)\ttotal: 12.1s\tremaining: 35.9s\n",
      "277:\ttest: 0.8470374\tbest: 0.8470374 (277)\ttotal: 12.1s\tremaining: 35.9s\n",
      "278:\ttest: 0.8470546\tbest: 0.8470546 (278)\ttotal: 12.2s\tremaining: 35.9s\n",
      "279:\ttest: 0.8470785\tbest: 0.8470785 (279)\ttotal: 12.3s\tremaining: 35.9s\n",
      "280:\ttest: 0.8470860\tbest: 0.8470860 (280)\ttotal: 12.3s\tremaining: 35.9s\n",
      "281:\ttest: 0.8470883\tbest: 0.8470883 (281)\ttotal: 12.4s\tremaining: 35.8s\n",
      "282:\ttest: 0.8471047\tbest: 0.8471047 (282)\ttotal: 12.4s\tremaining: 35.8s\n",
      "283:\ttest: 0.8471250\tbest: 0.8471250 (283)\ttotal: 12.4s\tremaining: 35.7s\n",
      "284:\ttest: 0.8471277\tbest: 0.8471277 (284)\ttotal: 12.5s\tremaining: 35.7s\n",
      "285:\ttest: 0.8471538\tbest: 0.8471538 (285)\ttotal: 12.5s\tremaining: 35.6s\n",
      "286:\ttest: 0.8471459\tbest: 0.8471538 (285)\ttotal: 12.6s\tremaining: 35.6s\n",
      "287:\ttest: 0.8471557\tbest: 0.8471557 (287)\ttotal: 12.6s\tremaining: 35.6s\n",
      "288:\ttest: 0.8471854\tbest: 0.8471854 (288)\ttotal: 12.7s\tremaining: 35.5s\n",
      "289:\ttest: 0.8472063\tbest: 0.8472063 (289)\ttotal: 12.7s\tremaining: 35.5s\n",
      "290:\ttest: 0.8472042\tbest: 0.8472063 (289)\ttotal: 12.7s\tremaining: 35.4s\n",
      "291:\ttest: 0.8472462\tbest: 0.8472462 (291)\ttotal: 12.8s\tremaining: 35.4s\n",
      "292:\ttest: 0.8472700\tbest: 0.8472700 (292)\ttotal: 12.8s\tremaining: 35.3s\n",
      "293:\ttest: 0.8472850\tbest: 0.8472850 (293)\ttotal: 12.9s\tremaining: 35.3s\n",
      "294:\ttest: 0.8473260\tbest: 0.8473260 (294)\ttotal: 12.9s\tremaining: 35.3s\n",
      "295:\ttest: 0.8473578\tbest: 0.8473578 (295)\ttotal: 13s\tremaining: 35.2s\n",
      "296:\ttest: 0.8473751\tbest: 0.8473751 (296)\ttotal: 13s\tremaining: 35.2s\n",
      "297:\ttest: 0.8474067\tbest: 0.8474067 (297)\ttotal: 13s\tremaining: 35.1s\n",
      "298:\ttest: 0.8474114\tbest: 0.8474114 (298)\ttotal: 13.1s\tremaining: 35.1s\n",
      "299:\ttest: 0.8474133\tbest: 0.8474133 (299)\ttotal: 13.1s\tremaining: 35s\n",
      "300:\ttest: 0.8474156\tbest: 0.8474156 (300)\ttotal: 13.2s\tremaining: 35s\n",
      "301:\ttest: 0.8474263\tbest: 0.8474263 (301)\ttotal: 13.2s\tremaining: 34.9s\n",
      "302:\ttest: 0.8474525\tbest: 0.8474525 (302)\ttotal: 13.3s\tremaining: 34.9s\n",
      "303:\ttest: 0.8474689\tbest: 0.8474689 (303)\ttotal: 13.3s\tremaining: 34.8s\n",
      "304:\ttest: 0.8474915\tbest: 0.8474915 (304)\ttotal: 13.3s\tremaining: 34.8s\n",
      "305:\ttest: 0.8475002\tbest: 0.8475002 (305)\ttotal: 13.4s\tremaining: 34.7s\n",
      "306:\ttest: 0.8475092\tbest: 0.8475092 (306)\ttotal: 13.4s\tremaining: 34.7s\n",
      "307:\ttest: 0.8475160\tbest: 0.8475160 (307)\ttotal: 13.5s\tremaining: 34.6s\n",
      "308:\ttest: 0.8475278\tbest: 0.8475278 (308)\ttotal: 13.5s\tremaining: 34.6s\n",
      "309:\ttest: 0.8475408\tbest: 0.8475408 (309)\ttotal: 13.6s\tremaining: 34.6s\n",
      "310:\ttest: 0.8475466\tbest: 0.8475466 (310)\ttotal: 13.6s\tremaining: 34.5s\n",
      "311:\ttest: 0.8475447\tbest: 0.8475466 (310)\ttotal: 13.6s\tremaining: 34.5s\n",
      "312:\ttest: 0.8475654\tbest: 0.8475654 (312)\ttotal: 13.7s\tremaining: 34.4s\n",
      "313:\ttest: 0.8475862\tbest: 0.8475862 (313)\ttotal: 13.7s\tremaining: 34.4s\n",
      "314:\ttest: 0.8475995\tbest: 0.8475995 (314)\ttotal: 13.8s\tremaining: 34.3s\n",
      "315:\ttest: 0.8476272\tbest: 0.8476272 (315)\ttotal: 13.8s\tremaining: 34.3s\n",
      "316:\ttest: 0.8476357\tbest: 0.8476357 (316)\ttotal: 13.8s\tremaining: 34.2s\n",
      "317:\ttest: 0.8476646\tbest: 0.8476646 (317)\ttotal: 13.9s\tremaining: 34.2s\n",
      "318:\ttest: 0.8476951\tbest: 0.8476951 (318)\ttotal: 13.9s\tremaining: 34.1s\n",
      "319:\ttest: 0.8476886\tbest: 0.8476951 (318)\ttotal: 14s\tremaining: 34.1s\n",
      "320:\ttest: 0.8477030\tbest: 0.8477030 (320)\ttotal: 14s\tremaining: 34s\n",
      "321:\ttest: 0.8477174\tbest: 0.8477174 (321)\ttotal: 14.1s\tremaining: 34s\n",
      "322:\ttest: 0.8477148\tbest: 0.8477174 (321)\ttotal: 14.1s\tremaining: 33.9s\n",
      "323:\ttest: 0.8477129\tbest: 0.8477174 (321)\ttotal: 14.1s\tremaining: 33.8s\n",
      "324:\ttest: 0.8477265\tbest: 0.8477265 (324)\ttotal: 14.2s\tremaining: 33.8s\n",
      "325:\ttest: 0.8477287\tbest: 0.8477287 (325)\ttotal: 14.2s\tremaining: 33.8s\n",
      "326:\ttest: 0.8477479\tbest: 0.8477479 (326)\ttotal: 14.3s\tremaining: 33.7s\n",
      "327:\ttest: 0.8477694\tbest: 0.8477694 (327)\ttotal: 14.3s\tremaining: 33.7s\n",
      "328:\ttest: 0.8478105\tbest: 0.8478105 (328)\ttotal: 14.3s\tremaining: 33.6s\n",
      "329:\ttest: 0.8478120\tbest: 0.8478120 (329)\ttotal: 14.4s\tremaining: 33.6s\n",
      "330:\ttest: 0.8478166\tbest: 0.8478166 (330)\ttotal: 14.4s\tremaining: 33.5s\n",
      "331:\ttest: 0.8478214\tbest: 0.8478214 (331)\ttotal: 14.5s\tremaining: 33.5s\n",
      "332:\ttest: 0.8478129\tbest: 0.8478214 (331)\ttotal: 14.5s\tremaining: 33.4s\n",
      "333:\ttest: 0.8478060\tbest: 0.8478214 (331)\ttotal: 14.6s\tremaining: 33.4s\n",
      "334:\ttest: 0.8478357\tbest: 0.8478357 (334)\ttotal: 14.6s\tremaining: 33.3s\n",
      "335:\ttest: 0.8478317\tbest: 0.8478357 (334)\ttotal: 14.7s\tremaining: 33.3s\n",
      "336:\ttest: 0.8478398\tbest: 0.8478398 (336)\ttotal: 14.7s\tremaining: 33.3s\n",
      "337:\ttest: 0.8478689\tbest: 0.8478689 (337)\ttotal: 14.7s\tremaining: 33.2s\n",
      "338:\ttest: 0.8478835\tbest: 0.8478835 (338)\ttotal: 14.8s\tremaining: 33.2s\n",
      "339:\ttest: 0.8479085\tbest: 0.8479085 (339)\ttotal: 14.8s\tremaining: 33.1s\n",
      "340:\ttest: 0.8479132\tbest: 0.8479132 (340)\ttotal: 14.9s\tremaining: 33.1s\n",
      "341:\ttest: 0.8479064\tbest: 0.8479132 (340)\ttotal: 14.9s\tremaining: 33.1s\n",
      "342:\ttest: 0.8479269\tbest: 0.8479269 (342)\ttotal: 15s\tremaining: 33s\n",
      "343:\ttest: 0.8479747\tbest: 0.8479747 (343)\ttotal: 15s\tremaining: 33s\n",
      "344:\ttest: 0.8479844\tbest: 0.8479844 (344)\ttotal: 15s\tremaining: 32.9s\n",
      "345:\ttest: 0.8479879\tbest: 0.8479879 (345)\ttotal: 15.1s\tremaining: 32.9s\n",
      "346:\ttest: 0.8479918\tbest: 0.8479918 (346)\ttotal: 15.1s\tremaining: 32.8s\n",
      "347:\ttest: 0.8480083\tbest: 0.8480083 (347)\ttotal: 15.2s\tremaining: 32.8s\n",
      "348:\ttest: 0.8480019\tbest: 0.8480083 (347)\ttotal: 15.2s\tremaining: 32.7s\n",
      "349:\ttest: 0.8480067\tbest: 0.8480083 (347)\ttotal: 15.2s\tremaining: 32.7s\n",
      "350:\ttest: 0.8480214\tbest: 0.8480214 (350)\ttotal: 15.3s\tremaining: 32.6s\n",
      "351:\ttest: 0.8480371\tbest: 0.8480371 (351)\ttotal: 15.3s\tremaining: 32.6s\n",
      "352:\ttest: 0.8480597\tbest: 0.8480597 (352)\ttotal: 15.4s\tremaining: 32.5s\n",
      "353:\ttest: 0.8480777\tbest: 0.8480777 (353)\ttotal: 15.4s\tremaining: 32.5s\n",
      "354:\ttest: 0.8480872\tbest: 0.8480872 (354)\ttotal: 15.5s\tremaining: 32.4s\n",
      "355:\ttest: 0.8481212\tbest: 0.8481212 (355)\ttotal: 15.5s\tremaining: 32.4s\n",
      "356:\ttest: 0.8481251\tbest: 0.8481251 (356)\ttotal: 15.6s\tremaining: 32.4s\n",
      "357:\ttest: 0.8481399\tbest: 0.8481399 (357)\ttotal: 15.6s\tremaining: 32.3s\n",
      "358:\ttest: 0.8481638\tbest: 0.8481638 (358)\ttotal: 15.6s\tremaining: 32.3s\n",
      "359:\ttest: 0.8481776\tbest: 0.8481776 (359)\ttotal: 15.7s\tremaining: 32.2s\n",
      "360:\ttest: 0.8481648\tbest: 0.8481776 (359)\ttotal: 15.7s\tremaining: 32.2s\n",
      "361:\ttest: 0.8481608\tbest: 0.8481776 (359)\ttotal: 15.8s\tremaining: 32.1s\n",
      "362:\ttest: 0.8481629\tbest: 0.8481776 (359)\ttotal: 15.8s\tremaining: 32.1s\n",
      "363:\ttest: 0.8481623\tbest: 0.8481776 (359)\ttotal: 15.9s\tremaining: 32.1s\n",
      "364:\ttest: 0.8481531\tbest: 0.8481776 (359)\ttotal: 15.9s\tremaining: 32s\n",
      "365:\ttest: 0.8481538\tbest: 0.8481776 (359)\ttotal: 15.9s\tremaining: 31.9s\n",
      "366:\ttest: 0.8482028\tbest: 0.8482028 (366)\ttotal: 16s\tremaining: 31.9s\n",
      "367:\ttest: 0.8482003\tbest: 0.8482028 (366)\ttotal: 16s\tremaining: 31.9s\n",
      "368:\ttest: 0.8482172\tbest: 0.8482172 (368)\ttotal: 16.1s\tremaining: 31.8s\n",
      "369:\ttest: 0.8482336\tbest: 0.8482336 (369)\ttotal: 16.1s\tremaining: 31.8s\n",
      "370:\ttest: 0.8482653\tbest: 0.8482653 (370)\ttotal: 16.1s\tremaining: 31.7s\n",
      "371:\ttest: 0.8482749\tbest: 0.8482749 (371)\ttotal: 16.2s\tremaining: 31.7s\n",
      "372:\ttest: 0.8482918\tbest: 0.8482918 (372)\ttotal: 16.2s\tremaining: 31.6s\n",
      "373:\ttest: 0.8482929\tbest: 0.8482929 (373)\ttotal: 16.3s\tremaining: 31.6s\n",
      "374:\ttest: 0.8483100\tbest: 0.8483100 (374)\ttotal: 16.3s\tremaining: 31.5s\n",
      "375:\ttest: 0.8483067\tbest: 0.8483100 (374)\ttotal: 16.4s\tremaining: 31.5s\n",
      "376:\ttest: 0.8483210\tbest: 0.8483210 (376)\ttotal: 16.4s\tremaining: 31.4s\n",
      "377:\ttest: 0.8483248\tbest: 0.8483248 (377)\ttotal: 16.4s\tremaining: 31.4s\n",
      "378:\ttest: 0.8483229\tbest: 0.8483248 (377)\ttotal: 16.5s\tremaining: 31.4s\n",
      "379:\ttest: 0.8483117\tbest: 0.8483248 (377)\ttotal: 16.5s\tremaining: 31.3s\n",
      "380:\ttest: 0.8483049\tbest: 0.8483248 (377)\ttotal: 16.6s\tremaining: 31.2s\n",
      "381:\ttest: 0.8483074\tbest: 0.8483248 (377)\ttotal: 16.6s\tremaining: 31.2s\n",
      "382:\ttest: 0.8483105\tbest: 0.8483248 (377)\ttotal: 16.6s\tremaining: 31.2s\n",
      "383:\ttest: 0.8483006\tbest: 0.8483248 (377)\ttotal: 16.7s\tremaining: 31.1s\n",
      "384:\ttest: 0.8483093\tbest: 0.8483248 (377)\ttotal: 16.7s\tremaining: 31.1s\n",
      "385:\ttest: 0.8483325\tbest: 0.8483325 (385)\ttotal: 16.8s\tremaining: 31s\n",
      "386:\ttest: 0.8483363\tbest: 0.8483363 (386)\ttotal: 16.8s\tremaining: 31s\n",
      "387:\ttest: 0.8483421\tbest: 0.8483421 (387)\ttotal: 16.9s\tremaining: 30.9s\n",
      "388:\ttest: 0.8483646\tbest: 0.8483646 (388)\ttotal: 16.9s\tremaining: 30.9s\n",
      "389:\ttest: 0.8483842\tbest: 0.8483842 (389)\ttotal: 16.9s\tremaining: 30.8s\n",
      "390:\ttest: 0.8483920\tbest: 0.8483920 (390)\ttotal: 17s\tremaining: 30.8s\n",
      "391:\ttest: 0.8484068\tbest: 0.8484068 (391)\ttotal: 17s\tremaining: 30.7s\n",
      "392:\ttest: 0.8484329\tbest: 0.8484329 (392)\ttotal: 17.1s\tremaining: 30.7s\n",
      "393:\ttest: 0.8484325\tbest: 0.8484329 (392)\ttotal: 17.1s\tremaining: 30.7s\n",
      "394:\ttest: 0.8484374\tbest: 0.8484374 (394)\ttotal: 17.2s\tremaining: 30.6s\n",
      "395:\ttest: 0.8484450\tbest: 0.8484450 (395)\ttotal: 17.2s\tremaining: 30.6s\n",
      "396:\ttest: 0.8484697\tbest: 0.8484697 (396)\ttotal: 17.2s\tremaining: 30.5s\n",
      "397:\ttest: 0.8484890\tbest: 0.8484890 (397)\ttotal: 17.3s\tremaining: 30.5s\n",
      "398:\ttest: 0.8485177\tbest: 0.8485177 (398)\ttotal: 17.3s\tremaining: 30.4s\n",
      "399:\ttest: 0.8485047\tbest: 0.8485177 (398)\ttotal: 17.4s\tremaining: 30.4s\n",
      "400:\ttest: 0.8485042\tbest: 0.8485177 (398)\ttotal: 17.4s\tremaining: 30.4s\n",
      "401:\ttest: 0.8485081\tbest: 0.8485177 (398)\ttotal: 17.5s\tremaining: 30.3s\n",
      "402:\ttest: 0.8485403\tbest: 0.8485403 (402)\ttotal: 17.5s\tremaining: 30.3s\n",
      "403:\ttest: 0.8485635\tbest: 0.8485635 (403)\ttotal: 17.5s\tremaining: 30.2s\n",
      "404:\ttest: 0.8485500\tbest: 0.8485635 (403)\ttotal: 17.6s\tremaining: 30.2s\n",
      "405:\ttest: 0.8485481\tbest: 0.8485635 (403)\ttotal: 17.6s\tremaining: 30.1s\n",
      "406:\ttest: 0.8485435\tbest: 0.8485635 (403)\ttotal: 17.7s\tremaining: 30.1s\n",
      "407:\ttest: 0.8485522\tbest: 0.8485635 (403)\ttotal: 17.7s\tremaining: 30s\n",
      "408:\ttest: 0.8485487\tbest: 0.8485635 (403)\ttotal: 17.7s\tremaining: 30s\n",
      "409:\ttest: 0.8485611\tbest: 0.8485635 (403)\ttotal: 17.8s\tremaining: 29.9s\n",
      "410:\ttest: 0.8485893\tbest: 0.8485893 (410)\ttotal: 17.8s\tremaining: 29.9s\n",
      "411:\ttest: 0.8486058\tbest: 0.8486058 (411)\ttotal: 17.9s\tremaining: 29.8s\n",
      "412:\ttest: 0.8486211\tbest: 0.8486211 (412)\ttotal: 17.9s\tremaining: 29.8s\n",
      "413:\ttest: 0.8486217\tbest: 0.8486217 (413)\ttotal: 18s\tremaining: 29.7s\n",
      "414:\ttest: 0.8486146\tbest: 0.8486217 (413)\ttotal: 18s\tremaining: 29.7s\n",
      "415:\ttest: 0.8486198\tbest: 0.8486217 (413)\ttotal: 18s\tremaining: 29.6s\n",
      "416:\ttest: 0.8486199\tbest: 0.8486217 (413)\ttotal: 18.1s\tremaining: 29.6s\n",
      "417:\ttest: 0.8486155\tbest: 0.8486217 (413)\ttotal: 18.1s\tremaining: 29.6s\n",
      "418:\ttest: 0.8486511\tbest: 0.8486511 (418)\ttotal: 18.2s\tremaining: 29.5s\n",
      "419:\ttest: 0.8486638\tbest: 0.8486638 (419)\ttotal: 18.2s\tremaining: 29.5s\n",
      "420:\ttest: 0.8486765\tbest: 0.8486765 (420)\ttotal: 18.2s\tremaining: 29.4s\n",
      "421:\ttest: 0.8486893\tbest: 0.8486893 (421)\ttotal: 18.3s\tremaining: 29.4s\n",
      "422:\ttest: 0.8486823\tbest: 0.8486893 (421)\ttotal: 18.3s\tremaining: 29.3s\n",
      "423:\ttest: 0.8486930\tbest: 0.8486930 (423)\ttotal: 18.4s\tremaining: 29.3s\n",
      "424:\ttest: 0.8487260\tbest: 0.8487260 (424)\ttotal: 18.4s\tremaining: 29.2s\n",
      "425:\ttest: 0.8487069\tbest: 0.8487260 (424)\ttotal: 18.4s\tremaining: 29.2s\n",
      "426:\ttest: 0.8487046\tbest: 0.8487260 (424)\ttotal: 18.5s\tremaining: 29.1s\n",
      "427:\ttest: 0.8487115\tbest: 0.8487260 (424)\ttotal: 18.5s\tremaining: 29.1s\n",
      "428:\ttest: 0.8487259\tbest: 0.8487260 (424)\ttotal: 18.6s\tremaining: 29s\n",
      "429:\ttest: 0.8487242\tbest: 0.8487260 (424)\ttotal: 18.6s\tremaining: 29s\n",
      "430:\ttest: 0.8487220\tbest: 0.8487260 (424)\ttotal: 18.7s\tremaining: 28.9s\n",
      "431:\ttest: 0.8487344\tbest: 0.8487344 (431)\ttotal: 18.7s\tremaining: 28.9s\n",
      "432:\ttest: 0.8487606\tbest: 0.8487606 (432)\ttotal: 18.7s\tremaining: 28.9s\n",
      "433:\ttest: 0.8487551\tbest: 0.8487606 (432)\ttotal: 18.8s\tremaining: 28.8s\n",
      "434:\ttest: 0.8487582\tbest: 0.8487606 (432)\ttotal: 18.8s\tremaining: 28.8s\n",
      "435:\ttest: 0.8487874\tbest: 0.8487874 (435)\ttotal: 18.9s\tremaining: 28.7s\n",
      "436:\ttest: 0.8487905\tbest: 0.8487905 (436)\ttotal: 18.9s\tremaining: 28.7s\n",
      "437:\ttest: 0.8488166\tbest: 0.8488166 (437)\ttotal: 18.9s\tremaining: 28.6s\n",
      "438:\ttest: 0.8488431\tbest: 0.8488431 (438)\ttotal: 19s\tremaining: 28.6s\n",
      "439:\ttest: 0.8488491\tbest: 0.8488491 (439)\ttotal: 19s\tremaining: 28.5s\n",
      "440:\ttest: 0.8488587\tbest: 0.8488587 (440)\ttotal: 19.1s\tremaining: 28.5s\n",
      "441:\ttest: 0.8488659\tbest: 0.8488659 (441)\ttotal: 19.1s\tremaining: 28.4s\n",
      "442:\ttest: 0.8488781\tbest: 0.8488781 (442)\ttotal: 19.1s\tremaining: 28.4s\n",
      "443:\ttest: 0.8488890\tbest: 0.8488890 (443)\ttotal: 19.2s\tremaining: 28.3s\n",
      "444:\ttest: 0.8489015\tbest: 0.8489015 (444)\ttotal: 19.2s\tremaining: 28.3s\n",
      "445:\ttest: 0.8489025\tbest: 0.8489025 (445)\ttotal: 19.3s\tremaining: 28.2s\n",
      "446:\ttest: 0.8489294\tbest: 0.8489294 (446)\ttotal: 19.3s\tremaining: 28.2s\n",
      "447:\ttest: 0.8489450\tbest: 0.8489450 (447)\ttotal: 19.3s\tremaining: 28.2s\n",
      "448:\ttest: 0.8489581\tbest: 0.8489581 (448)\ttotal: 19.4s\tremaining: 28.1s\n",
      "449:\ttest: 0.8489736\tbest: 0.8489736 (449)\ttotal: 19.4s\tremaining: 28.1s\n",
      "450:\ttest: 0.8489776\tbest: 0.8489776 (450)\ttotal: 19.5s\tremaining: 28s\n",
      "451:\ttest: 0.8489884\tbest: 0.8489884 (451)\ttotal: 19.5s\tremaining: 28s\n",
      "452:\ttest: 0.8489893\tbest: 0.8489893 (452)\ttotal: 19.5s\tremaining: 27.9s\n",
      "453:\ttest: 0.8489828\tbest: 0.8489893 (452)\ttotal: 19.6s\tremaining: 27.9s\n",
      "454:\ttest: 0.8489905\tbest: 0.8489905 (454)\ttotal: 19.6s\tremaining: 27.8s\n",
      "455:\ttest: 0.8489916\tbest: 0.8489916 (455)\ttotal: 19.7s\tremaining: 27.8s\n",
      "456:\ttest: 0.8490205\tbest: 0.8490205 (456)\ttotal: 19.7s\tremaining: 27.7s\n",
      "457:\ttest: 0.8490333\tbest: 0.8490333 (457)\ttotal: 19.7s\tremaining: 27.7s\n",
      "458:\ttest: 0.8490427\tbest: 0.8490427 (458)\ttotal: 19.8s\tremaining: 27.6s\n",
      "459:\ttest: 0.8490369\tbest: 0.8490427 (458)\ttotal: 19.8s\tremaining: 27.6s\n",
      "460:\ttest: 0.8490433\tbest: 0.8490433 (460)\ttotal: 19.9s\tremaining: 27.5s\n",
      "461:\ttest: 0.8490703\tbest: 0.8490703 (461)\ttotal: 19.9s\tremaining: 27.5s\n",
      "462:\ttest: 0.8490691\tbest: 0.8490703 (461)\ttotal: 20s\tremaining: 27.5s\n",
      "463:\ttest: 0.8490837\tbest: 0.8490837 (463)\ttotal: 20s\tremaining: 27.4s\n",
      "464:\ttest: 0.8490829\tbest: 0.8490837 (463)\ttotal: 20s\tremaining: 27.4s\n",
      "465:\ttest: 0.8490925\tbest: 0.8490925 (465)\ttotal: 20.1s\tremaining: 27.3s\n",
      "466:\ttest: 0.8490856\tbest: 0.8490925 (465)\ttotal: 20.1s\tremaining: 27.3s\n",
      "467:\ttest: 0.8490964\tbest: 0.8490964 (467)\ttotal: 20.2s\tremaining: 27.2s\n",
      "468:\ttest: 0.8491130\tbest: 0.8491130 (468)\ttotal: 20.2s\tremaining: 27.2s\n",
      "469:\ttest: 0.8491417\tbest: 0.8491417 (469)\ttotal: 20.2s\tremaining: 27.1s\n",
      "470:\ttest: 0.8491521\tbest: 0.8491521 (470)\ttotal: 20.3s\tremaining: 27.1s\n",
      "471:\ttest: 0.8491736\tbest: 0.8491736 (471)\ttotal: 20.3s\tremaining: 27.1s\n",
      "472:\ttest: 0.8491748\tbest: 0.8491748 (472)\ttotal: 20.4s\tremaining: 27s\n",
      "473:\ttest: 0.8491785\tbest: 0.8491785 (473)\ttotal: 20.4s\tremaining: 27s\n",
      "474:\ttest: 0.8491987\tbest: 0.8491987 (474)\ttotal: 20.5s\tremaining: 26.9s\n",
      "475:\ttest: 0.8492227\tbest: 0.8492227 (475)\ttotal: 20.5s\tremaining: 26.9s\n",
      "476:\ttest: 0.8492066\tbest: 0.8492227 (475)\ttotal: 20.5s\tremaining: 26.8s\n",
      "477:\ttest: 0.8492029\tbest: 0.8492227 (475)\ttotal: 20.6s\tremaining: 26.8s\n",
      "478:\ttest: 0.8492250\tbest: 0.8492250 (478)\ttotal: 20.6s\tremaining: 26.7s\n",
      "479:\ttest: 0.8492276\tbest: 0.8492276 (479)\ttotal: 20.7s\tremaining: 26.7s\n",
      "480:\ttest: 0.8492337\tbest: 0.8492337 (480)\ttotal: 20.7s\tremaining: 26.6s\n",
      "481:\ttest: 0.8492371\tbest: 0.8492371 (481)\ttotal: 20.7s\tremaining: 26.6s\n",
      "482:\ttest: 0.8492416\tbest: 0.8492416 (482)\ttotal: 20.8s\tremaining: 26.6s\n",
      "483:\ttest: 0.8492455\tbest: 0.8492455 (483)\ttotal: 20.8s\tremaining: 26.5s\n",
      "484:\ttest: 0.8492353\tbest: 0.8492455 (483)\ttotal: 20.9s\tremaining: 26.5s\n",
      "485:\ttest: 0.8492511\tbest: 0.8492511 (485)\ttotal: 20.9s\tremaining: 26.4s\n",
      "486:\ttest: 0.8492610\tbest: 0.8492610 (486)\ttotal: 21s\tremaining: 26.4s\n",
      "487:\ttest: 0.8492660\tbest: 0.8492660 (487)\ttotal: 21s\tremaining: 26.3s\n",
      "488:\ttest: 0.8492789\tbest: 0.8492789 (488)\ttotal: 21s\tremaining: 26.3s\n",
      "489:\ttest: 0.8492736\tbest: 0.8492789 (488)\ttotal: 21.1s\tremaining: 26.2s\n",
      "490:\ttest: 0.8492924\tbest: 0.8492924 (490)\ttotal: 21.1s\tremaining: 26.2s\n",
      "491:\ttest: 0.8492681\tbest: 0.8492924 (490)\ttotal: 21.2s\tremaining: 26.2s\n",
      "492:\ttest: 0.8492971\tbest: 0.8492971 (492)\ttotal: 21.2s\tremaining: 26.1s\n",
      "493:\ttest: 0.8493150\tbest: 0.8493150 (493)\ttotal: 21.2s\tremaining: 26.1s\n",
      "494:\ttest: 0.8493090\tbest: 0.8493150 (493)\ttotal: 21.3s\tremaining: 26s\n",
      "495:\ttest: 0.8493119\tbest: 0.8493150 (493)\ttotal: 21.3s\tremaining: 26s\n",
      "496:\ttest: 0.8493189\tbest: 0.8493189 (496)\ttotal: 21.4s\tremaining: 25.9s\n",
      "497:\ttest: 0.8493245\tbest: 0.8493245 (497)\ttotal: 21.4s\tremaining: 25.9s\n",
      "498:\ttest: 0.8493388\tbest: 0.8493388 (498)\ttotal: 21.5s\tremaining: 25.8s\n",
      "499:\ttest: 0.8493427\tbest: 0.8493427 (499)\ttotal: 21.5s\tremaining: 25.8s\n",
      "500:\ttest: 0.8493437\tbest: 0.8493437 (500)\ttotal: 21.5s\tremaining: 25.8s\n",
      "501:\ttest: 0.8493520\tbest: 0.8493520 (501)\ttotal: 21.6s\tremaining: 25.7s\n",
      "502:\ttest: 0.8493453\tbest: 0.8493520 (501)\ttotal: 21.6s\tremaining: 25.7s\n",
      "503:\ttest: 0.8493454\tbest: 0.8493520 (501)\ttotal: 21.7s\tremaining: 25.6s\n",
      "504:\ttest: 0.8493479\tbest: 0.8493520 (501)\ttotal: 21.7s\tremaining: 25.6s\n",
      "505:\ttest: 0.8493664\tbest: 0.8493664 (505)\ttotal: 21.8s\tremaining: 25.5s\n",
      "506:\ttest: 0.8493549\tbest: 0.8493664 (505)\ttotal: 21.8s\tremaining: 25.5s\n",
      "507:\ttest: 0.8493503\tbest: 0.8493664 (505)\ttotal: 21.8s\tremaining: 25.4s\n",
      "508:\ttest: 0.8493589\tbest: 0.8493664 (505)\ttotal: 21.9s\tremaining: 25.4s\n",
      "509:\ttest: 0.8493658\tbest: 0.8493664 (505)\ttotal: 21.9s\tremaining: 25.4s\n",
      "510:\ttest: 0.8493750\tbest: 0.8493750 (510)\ttotal: 22s\tremaining: 25.3s\n",
      "511:\ttest: 0.8493791\tbest: 0.8493791 (511)\ttotal: 22s\tremaining: 25.3s\n",
      "512:\ttest: 0.8493791\tbest: 0.8493791 (512)\ttotal: 22s\tremaining: 25.2s\n",
      "513:\ttest: 0.8493762\tbest: 0.8493791 (512)\ttotal: 22.1s\tremaining: 25.2s\n",
      "514:\ttest: 0.8493734\tbest: 0.8493791 (512)\ttotal: 22.1s\tremaining: 25.1s\n",
      "515:\ttest: 0.8493623\tbest: 0.8493791 (512)\ttotal: 22.2s\tremaining: 25.1s\n",
      "516:\ttest: 0.8493744\tbest: 0.8493791 (512)\ttotal: 22.2s\tremaining: 25s\n",
      "517:\ttest: 0.8493754\tbest: 0.8493791 (512)\ttotal: 22.2s\tremaining: 25s\n",
      "518:\ttest: 0.8493688\tbest: 0.8493791 (512)\ttotal: 22.3s\tremaining: 24.9s\n",
      "519:\ttest: 0.8493570\tbest: 0.8493791 (512)\ttotal: 22.3s\tremaining: 24.9s\n",
      "520:\ttest: 0.8493785\tbest: 0.8493791 (512)\ttotal: 22.4s\tremaining: 24.9s\n",
      "521:\ttest: 0.8493827\tbest: 0.8493827 (521)\ttotal: 22.4s\tremaining: 24.8s\n",
      "522:\ttest: 0.8493909\tbest: 0.8493909 (522)\ttotal: 22.5s\tremaining: 24.8s\n",
      "523:\ttest: 0.8493802\tbest: 0.8493909 (522)\ttotal: 22.5s\tremaining: 24.7s\n",
      "524:\ttest: 0.8494023\tbest: 0.8494023 (524)\ttotal: 22.5s\tremaining: 24.7s\n",
      "525:\ttest: 0.8494137\tbest: 0.8494137 (525)\ttotal: 22.6s\tremaining: 24.6s\n",
      "526:\ttest: 0.8494123\tbest: 0.8494137 (525)\ttotal: 22.6s\tremaining: 24.6s\n",
      "527:\ttest: 0.8494276\tbest: 0.8494276 (527)\ttotal: 22.7s\tremaining: 24.5s\n",
      "528:\ttest: 0.8494311\tbest: 0.8494311 (528)\ttotal: 22.7s\tremaining: 24.5s\n",
      "529:\ttest: 0.8494409\tbest: 0.8494409 (529)\ttotal: 22.7s\tremaining: 24.5s\n",
      "530:\ttest: 0.8494515\tbest: 0.8494515 (530)\ttotal: 22.8s\tremaining: 24.4s\n",
      "531:\ttest: 0.8494499\tbest: 0.8494515 (530)\ttotal: 22.8s\tremaining: 24.4s\n",
      "532:\ttest: 0.8494514\tbest: 0.8494515 (530)\ttotal: 22.9s\tremaining: 24.3s\n",
      "533:\ttest: 0.8494507\tbest: 0.8494515 (530)\ttotal: 22.9s\tremaining: 24.3s\n",
      "534:\ttest: 0.8494553\tbest: 0.8494553 (534)\ttotal: 22.9s\tremaining: 24.2s\n",
      "535:\ttest: 0.8494611\tbest: 0.8494611 (535)\ttotal: 23s\tremaining: 24.2s\n",
      "536:\ttest: 0.8494599\tbest: 0.8494611 (535)\ttotal: 23s\tremaining: 24.1s\n",
      "537:\ttest: 0.8494730\tbest: 0.8494730 (537)\ttotal: 23.1s\tremaining: 24.1s\n",
      "538:\ttest: 0.8494803\tbest: 0.8494803 (538)\ttotal: 23.2s\tremaining: 24.1s\n",
      "539:\ttest: 0.8494924\tbest: 0.8494924 (539)\ttotal: 23.2s\tremaining: 24.1s\n",
      "540:\ttest: 0.8494911\tbest: 0.8494924 (539)\ttotal: 23.3s\tremaining: 24s\n",
      "541:\ttest: 0.8494878\tbest: 0.8494924 (539)\ttotal: 23.3s\tremaining: 24s\n",
      "542:\ttest: 0.8494863\tbest: 0.8494924 (539)\ttotal: 23.3s\tremaining: 24s\n",
      "543:\ttest: 0.8494852\tbest: 0.8494924 (539)\ttotal: 23.4s\tremaining: 23.9s\n",
      "544:\ttest: 0.8494927\tbest: 0.8494927 (544)\ttotal: 23.4s\tremaining: 23.9s\n",
      "545:\ttest: 0.8494933\tbest: 0.8494933 (545)\ttotal: 23.5s\tremaining: 23.8s\n",
      "546:\ttest: 0.8494886\tbest: 0.8494933 (545)\ttotal: 23.5s\tremaining: 23.8s\n",
      "547:\ttest: 0.8494861\tbest: 0.8494933 (545)\ttotal: 23.6s\tremaining: 23.7s\n",
      "548:\ttest: 0.8494947\tbest: 0.8494947 (548)\ttotal: 23.6s\tremaining: 23.7s\n",
      "549:\ttest: 0.8494972\tbest: 0.8494972 (549)\ttotal: 23.7s\tremaining: 23.7s\n",
      "550:\ttest: 0.8495009\tbest: 0.8495009 (550)\ttotal: 23.7s\tremaining: 23.6s\n",
      "551:\ttest: 0.8494864\tbest: 0.8495009 (550)\ttotal: 23.7s\tremaining: 23.6s\n",
      "552:\ttest: 0.8494882\tbest: 0.8495009 (550)\ttotal: 23.8s\tremaining: 23.5s\n",
      "553:\ttest: 0.8494954\tbest: 0.8495009 (550)\ttotal: 23.8s\tremaining: 23.5s\n",
      "554:\ttest: 0.8495050\tbest: 0.8495050 (554)\ttotal: 23.9s\tremaining: 23.4s\n",
      "555:\ttest: 0.8495158\tbest: 0.8495158 (555)\ttotal: 23.9s\tremaining: 23.4s\n",
      "556:\ttest: 0.8495169\tbest: 0.8495169 (556)\ttotal: 24s\tremaining: 23.4s\n",
      "557:\ttest: 0.8494989\tbest: 0.8495169 (556)\ttotal: 24s\tremaining: 23.3s\n",
      "558:\ttest: 0.8495055\tbest: 0.8495169 (556)\ttotal: 24s\tremaining: 23.3s\n",
      "559:\ttest: 0.8495064\tbest: 0.8495169 (556)\ttotal: 24.1s\tremaining: 23.2s\n",
      "560:\ttest: 0.8494932\tbest: 0.8495169 (556)\ttotal: 24.1s\tremaining: 23.2s\n",
      "561:\ttest: 0.8494942\tbest: 0.8495169 (556)\ttotal: 24.2s\tremaining: 23.2s\n",
      "562:\ttest: 0.8495050\tbest: 0.8495169 (556)\ttotal: 24.3s\tremaining: 23.1s\n",
      "563:\ttest: 0.8495151\tbest: 0.8495169 (556)\ttotal: 24.3s\tremaining: 23.1s\n",
      "564:\ttest: 0.8495093\tbest: 0.8495169 (556)\ttotal: 24.4s\tremaining: 23.1s\n",
      "565:\ttest: 0.8495114\tbest: 0.8495169 (556)\ttotal: 24.4s\tremaining: 23s\n",
      "566:\ttest: 0.8495077\tbest: 0.8495169 (556)\ttotal: 24.5s\tremaining: 23s\n",
      "567:\ttest: 0.8495084\tbest: 0.8495169 (556)\ttotal: 24.5s\tremaining: 23s\n",
      "568:\ttest: 0.8495089\tbest: 0.8495169 (556)\ttotal: 24.6s\tremaining: 22.9s\n",
      "569:\ttest: 0.8495170\tbest: 0.8495170 (569)\ttotal: 24.6s\tremaining: 22.9s\n",
      "570:\ttest: 0.8495140\tbest: 0.8495170 (569)\ttotal: 24.7s\tremaining: 22.8s\n",
      "571:\ttest: 0.8495208\tbest: 0.8495208 (571)\ttotal: 24.7s\tremaining: 22.8s\n",
      "572:\ttest: 0.8495163\tbest: 0.8495208 (571)\ttotal: 24.7s\tremaining: 22.8s\n",
      "573:\ttest: 0.8495149\tbest: 0.8495208 (571)\ttotal: 24.8s\tremaining: 22.7s\n",
      "574:\ttest: 0.8495041\tbest: 0.8495208 (571)\ttotal: 24.8s\tremaining: 22.7s\n",
      "575:\ttest: 0.8495012\tbest: 0.8495208 (571)\ttotal: 24.9s\tremaining: 22.6s\n",
      "576:\ttest: 0.8495295\tbest: 0.8495295 (576)\ttotal: 24.9s\tremaining: 22.6s\n",
      "577:\ttest: 0.8495303\tbest: 0.8495303 (577)\ttotal: 24.9s\tremaining: 22.5s\n",
      "578:\ttest: 0.8495476\tbest: 0.8495476 (578)\ttotal: 25s\tremaining: 22.5s\n",
      "579:\ttest: 0.8495457\tbest: 0.8495476 (578)\ttotal: 25s\tremaining: 22.4s\n",
      "580:\ttest: 0.8495555\tbest: 0.8495555 (580)\ttotal: 25.1s\tremaining: 22.4s\n",
      "581:\ttest: 0.8495603\tbest: 0.8495603 (581)\ttotal: 25.1s\tremaining: 22.4s\n",
      "582:\ttest: 0.8495470\tbest: 0.8495603 (581)\ttotal: 25.1s\tremaining: 22.3s\n",
      "583:\ttest: 0.8495623\tbest: 0.8495623 (583)\ttotal: 25.2s\tremaining: 22.3s\n",
      "584:\ttest: 0.8495598\tbest: 0.8495623 (583)\ttotal: 25.2s\tremaining: 22.2s\n",
      "585:\ttest: 0.8495684\tbest: 0.8495684 (585)\ttotal: 25.3s\tremaining: 22.2s\n",
      "586:\ttest: 0.8495717\tbest: 0.8495717 (586)\ttotal: 25.3s\tremaining: 22.1s\n",
      "587:\ttest: 0.8495668\tbest: 0.8495717 (586)\ttotal: 25.3s\tremaining: 22.1s\n",
      "588:\ttest: 0.8495843\tbest: 0.8495843 (588)\ttotal: 25.4s\tremaining: 22s\n",
      "589:\ttest: 0.8495974\tbest: 0.8495974 (589)\ttotal: 25.4s\tremaining: 22s\n",
      "590:\ttest: 0.8496153\tbest: 0.8496153 (590)\ttotal: 25.5s\tremaining: 21.9s\n",
      "591:\ttest: 0.8496148\tbest: 0.8496153 (590)\ttotal: 25.5s\tremaining: 21.9s\n",
      "592:\ttest: 0.8496213\tbest: 0.8496213 (592)\ttotal: 25.6s\tremaining: 21.9s\n",
      "593:\ttest: 0.8496338\tbest: 0.8496338 (593)\ttotal: 25.6s\tremaining: 21.8s\n",
      "594:\ttest: 0.8496318\tbest: 0.8496338 (593)\ttotal: 25.7s\tremaining: 21.8s\n",
      "595:\ttest: 0.8496179\tbest: 0.8496338 (593)\ttotal: 25.7s\tremaining: 21.7s\n",
      "596:\ttest: 0.8496018\tbest: 0.8496338 (593)\ttotal: 25.7s\tremaining: 21.7s\n",
      "597:\ttest: 0.8496117\tbest: 0.8496338 (593)\ttotal: 25.8s\tremaining: 21.6s\n",
      "598:\ttest: 0.8496183\tbest: 0.8496338 (593)\ttotal: 25.8s\tremaining: 21.6s\n",
      "599:\ttest: 0.8496212\tbest: 0.8496338 (593)\ttotal: 25.9s\tremaining: 21.5s\n",
      "600:\ttest: 0.8496177\tbest: 0.8496338 (593)\ttotal: 25.9s\tremaining: 21.5s\n",
      "601:\ttest: 0.8496172\tbest: 0.8496338 (593)\ttotal: 25.9s\tremaining: 21.5s\n",
      "602:\ttest: 0.8496270\tbest: 0.8496338 (593)\ttotal: 26s\tremaining: 21.4s\n",
      "603:\ttest: 0.8496264\tbest: 0.8496338 (593)\ttotal: 26s\tremaining: 21.4s\n",
      "604:\ttest: 0.8496131\tbest: 0.8496338 (593)\ttotal: 26.1s\tremaining: 21.3s\n",
      "605:\ttest: 0.8496237\tbest: 0.8496338 (593)\ttotal: 26.1s\tremaining: 21.3s\n",
      "606:\ttest: 0.8496113\tbest: 0.8496338 (593)\ttotal: 26.1s\tremaining: 21.2s\n",
      "607:\ttest: 0.8496086\tbest: 0.8496338 (593)\ttotal: 26.2s\tremaining: 21.2s\n",
      "608:\ttest: 0.8496142\tbest: 0.8496338 (593)\ttotal: 26.2s\tremaining: 21.1s\n",
      "609:\ttest: 0.8496071\tbest: 0.8496338 (593)\ttotal: 26.3s\tremaining: 21.1s\n",
      "610:\ttest: 0.8496175\tbest: 0.8496338 (593)\ttotal: 26.3s\tremaining: 21.1s\n",
      "611:\ttest: 0.8496399\tbest: 0.8496399 (611)\ttotal: 26.4s\tremaining: 21s\n",
      "612:\ttest: 0.8496389\tbest: 0.8496399 (611)\ttotal: 26.4s\tremaining: 21s\n",
      "613:\ttest: 0.8496354\tbest: 0.8496399 (611)\ttotal: 26.4s\tremaining: 20.9s\n",
      "614:\ttest: 0.8496321\tbest: 0.8496399 (611)\ttotal: 26.5s\tremaining: 20.9s\n",
      "615:\ttest: 0.8496448\tbest: 0.8496448 (615)\ttotal: 26.5s\tremaining: 20.8s\n",
      "616:\ttest: 0.8496375\tbest: 0.8496448 (615)\ttotal: 26.6s\tremaining: 20.8s\n",
      "617:\ttest: 0.8496161\tbest: 0.8496448 (615)\ttotal: 26.6s\tremaining: 20.7s\n",
      "618:\ttest: 0.8496349\tbest: 0.8496448 (615)\ttotal: 26.6s\tremaining: 20.7s\n",
      "619:\ttest: 0.8496223\tbest: 0.8496448 (615)\ttotal: 26.7s\tremaining: 20.7s\n",
      "620:\ttest: 0.8496329\tbest: 0.8496448 (615)\ttotal: 26.7s\tremaining: 20.6s\n",
      "621:\ttest: 0.8496385\tbest: 0.8496448 (615)\ttotal: 26.8s\tremaining: 20.6s\n",
      "622:\ttest: 0.8496440\tbest: 0.8496448 (615)\ttotal: 26.8s\tremaining: 20.5s\n",
      "623:\ttest: 0.8496325\tbest: 0.8496448 (615)\ttotal: 26.8s\tremaining: 20.5s\n",
      "624:\ttest: 0.8496309\tbest: 0.8496448 (615)\ttotal: 26.9s\tremaining: 20.4s\n",
      "625:\ttest: 0.8496484\tbest: 0.8496484 (625)\ttotal: 26.9s\tremaining: 20.4s\n",
      "626:\ttest: 0.8496575\tbest: 0.8496575 (626)\ttotal: 27s\tremaining: 20.3s\n",
      "627:\ttest: 0.8496506\tbest: 0.8496575 (626)\ttotal: 27s\tremaining: 20.3s\n",
      "628:\ttest: 0.8496513\tbest: 0.8496575 (626)\ttotal: 27.1s\tremaining: 20.3s\n",
      "629:\ttest: 0.8496450\tbest: 0.8496575 (626)\ttotal: 27.1s\tremaining: 20.2s\n",
      "630:\ttest: 0.8496507\tbest: 0.8496575 (626)\ttotal: 27.1s\tremaining: 20.2s\n",
      "631:\ttest: 0.8496620\tbest: 0.8496620 (631)\ttotal: 27.2s\tremaining: 20.1s\n",
      "632:\ttest: 0.8496744\tbest: 0.8496744 (632)\ttotal: 27.2s\tremaining: 20.1s\n",
      "633:\ttest: 0.8496701\tbest: 0.8496744 (632)\ttotal: 27.3s\tremaining: 20s\n",
      "634:\ttest: 0.8496657\tbest: 0.8496744 (632)\ttotal: 27.3s\tremaining: 20s\n",
      "635:\ttest: 0.8496637\tbest: 0.8496744 (632)\ttotal: 27.3s\tremaining: 19.9s\n",
      "636:\ttest: 0.8496537\tbest: 0.8496744 (632)\ttotal: 27.4s\tremaining: 19.9s\n",
      "637:\ttest: 0.8496618\tbest: 0.8496744 (632)\ttotal: 27.4s\tremaining: 19.9s\n",
      "638:\ttest: 0.8496621\tbest: 0.8496744 (632)\ttotal: 27.5s\tremaining: 19.8s\n",
      "639:\ttest: 0.8496871\tbest: 0.8496871 (639)\ttotal: 27.5s\tremaining: 19.8s\n",
      "640:\ttest: 0.8496850\tbest: 0.8496871 (639)\ttotal: 27.5s\tremaining: 19.7s\n",
      "641:\ttest: 0.8496848\tbest: 0.8496871 (639)\ttotal: 27.6s\tremaining: 19.7s\n",
      "642:\ttest: 0.8496831\tbest: 0.8496871 (639)\ttotal: 27.6s\tremaining: 19.6s\n",
      "643:\ttest: 0.8496809\tbest: 0.8496871 (639)\ttotal: 27.7s\tremaining: 19.6s\n",
      "644:\ttest: 0.8496834\tbest: 0.8496871 (639)\ttotal: 27.7s\tremaining: 19.5s\n",
      "645:\ttest: 0.8496814\tbest: 0.8496871 (639)\ttotal: 27.7s\tremaining: 19.5s\n",
      "646:\ttest: 0.8496839\tbest: 0.8496871 (639)\ttotal: 27.8s\tremaining: 19.4s\n",
      "647:\ttest: 0.8496822\tbest: 0.8496871 (639)\ttotal: 27.8s\tremaining: 19.4s\n",
      "648:\ttest: 0.8496640\tbest: 0.8496871 (639)\ttotal: 27.9s\tremaining: 19.4s\n",
      "649:\ttest: 0.8496455\tbest: 0.8496871 (639)\ttotal: 27.9s\tremaining: 19.3s\n",
      "650:\ttest: 0.8496508\tbest: 0.8496871 (639)\ttotal: 27.9s\tremaining: 19.3s\n",
      "651:\ttest: 0.8496668\tbest: 0.8496871 (639)\ttotal: 28s\tremaining: 19.2s\n",
      "652:\ttest: 0.8496575\tbest: 0.8496871 (639)\ttotal: 28s\tremaining: 19.2s\n",
      "653:\ttest: 0.8496540\tbest: 0.8496871 (639)\ttotal: 28.1s\tremaining: 19.1s\n",
      "654:\ttest: 0.8496689\tbest: 0.8496871 (639)\ttotal: 28.1s\tremaining: 19.1s\n",
      "655:\ttest: 0.8496668\tbest: 0.8496871 (639)\ttotal: 28.1s\tremaining: 19.1s\n",
      "656:\ttest: 0.8496624\tbest: 0.8496871 (639)\ttotal: 28.2s\tremaining: 19s\n",
      "657:\ttest: 0.8496576\tbest: 0.8496871 (639)\ttotal: 28.2s\tremaining: 19s\n",
      "658:\ttest: 0.8496549\tbest: 0.8496871 (639)\ttotal: 28.3s\tremaining: 18.9s\n",
      "659:\ttest: 0.8496571\tbest: 0.8496871 (639)\ttotal: 28.3s\tremaining: 18.9s\n",
      "660:\ttest: 0.8496600\tbest: 0.8496871 (639)\ttotal: 28.3s\tremaining: 18.8s\n",
      "661:\ttest: 0.8496685\tbest: 0.8496871 (639)\ttotal: 28.4s\tremaining: 18.8s\n",
      "662:\ttest: 0.8496746\tbest: 0.8496871 (639)\ttotal: 28.4s\tremaining: 18.7s\n",
      "663:\ttest: 0.8496475\tbest: 0.8496871 (639)\ttotal: 28.5s\tremaining: 18.7s\n",
      "664:\ttest: 0.8496478\tbest: 0.8496871 (639)\ttotal: 28.5s\tremaining: 18.6s\n",
      "665:\ttest: 0.8496499\tbest: 0.8496871 (639)\ttotal: 28.5s\tremaining: 18.6s\n",
      "666:\ttest: 0.8496488\tbest: 0.8496871 (639)\ttotal: 28.6s\tremaining: 18.6s\n",
      "667:\ttest: 0.8496472\tbest: 0.8496871 (639)\ttotal: 28.6s\tremaining: 18.5s\n",
      "668:\ttest: 0.8496563\tbest: 0.8496871 (639)\ttotal: 28.7s\tremaining: 18.5s\n",
      "669:\ttest: 0.8496523\tbest: 0.8496871 (639)\ttotal: 28.7s\tremaining: 18.4s\n",
      "670:\ttest: 0.8496497\tbest: 0.8496871 (639)\ttotal: 28.7s\tremaining: 18.4s\n",
      "671:\ttest: 0.8496491\tbest: 0.8496871 (639)\ttotal: 28.8s\tremaining: 18.3s\n",
      "672:\ttest: 0.8496368\tbest: 0.8496871 (639)\ttotal: 28.8s\tremaining: 18.3s\n",
      "673:\ttest: 0.8496489\tbest: 0.8496871 (639)\ttotal: 28.9s\tremaining: 18.2s\n",
      "674:\ttest: 0.8496525\tbest: 0.8496871 (639)\ttotal: 28.9s\tremaining: 18.2s\n",
      "675:\ttest: 0.8496450\tbest: 0.8496871 (639)\ttotal: 28.9s\tremaining: 18.2s\n",
      "676:\ttest: 0.8496468\tbest: 0.8496871 (639)\ttotal: 29s\tremaining: 18.1s\n",
      "677:\ttest: 0.8496505\tbest: 0.8496871 (639)\ttotal: 29s\tremaining: 18.1s\n",
      "678:\ttest: 0.8496475\tbest: 0.8496871 (639)\ttotal: 29.1s\tremaining: 18s\n",
      "679:\ttest: 0.8496449\tbest: 0.8496871 (639)\ttotal: 29.1s\tremaining: 18s\n",
      "680:\ttest: 0.8496646\tbest: 0.8496871 (639)\ttotal: 29.1s\tremaining: 17.9s\n",
      "681:\ttest: 0.8496707\tbest: 0.8496871 (639)\ttotal: 29.2s\tremaining: 17.9s\n",
      "682:\ttest: 0.8496543\tbest: 0.8496871 (639)\ttotal: 29.2s\tremaining: 17.8s\n",
      "683:\ttest: 0.8496547\tbest: 0.8496871 (639)\ttotal: 29.3s\tremaining: 17.8s\n",
      "684:\ttest: 0.8496477\tbest: 0.8496871 (639)\ttotal: 29.3s\tremaining: 17.8s\n",
      "685:\ttest: 0.8496414\tbest: 0.8496871 (639)\ttotal: 29.3s\tremaining: 17.7s\n",
      "686:\ttest: 0.8496337\tbest: 0.8496871 (639)\ttotal: 29.4s\tremaining: 17.7s\n",
      "687:\ttest: 0.8496304\tbest: 0.8496871 (639)\ttotal: 29.4s\tremaining: 17.6s\n",
      "688:\ttest: 0.8496338\tbest: 0.8496871 (639)\ttotal: 29.5s\tremaining: 17.6s\n",
      "689:\ttest: 0.8496330\tbest: 0.8496871 (639)\ttotal: 29.5s\tremaining: 17.5s\n",
      "690:\ttest: 0.8496287\tbest: 0.8496871 (639)\ttotal: 29.6s\tremaining: 17.5s\n",
      "691:\ttest: 0.8496216\tbest: 0.8496871 (639)\ttotal: 29.6s\tremaining: 17.5s\n",
      "692:\ttest: 0.8496312\tbest: 0.8496871 (639)\ttotal: 29.7s\tremaining: 17.4s\n",
      "693:\ttest: 0.8496304\tbest: 0.8496871 (639)\ttotal: 29.7s\tremaining: 17.4s\n",
      "694:\ttest: 0.8496299\tbest: 0.8496871 (639)\ttotal: 29.7s\tremaining: 17.3s\n",
      "695:\ttest: 0.8496388\tbest: 0.8496871 (639)\ttotal: 29.8s\tremaining: 17.3s\n",
      "696:\ttest: 0.8496442\tbest: 0.8496871 (639)\ttotal: 29.9s\tremaining: 17.3s\n",
      "697:\ttest: 0.8496631\tbest: 0.8496871 (639)\ttotal: 29.9s\tremaining: 17.2s\n",
      "698:\ttest: 0.8496697\tbest: 0.8496871 (639)\ttotal: 30s\tremaining: 17.2s\n",
      "699:\ttest: 0.8496731\tbest: 0.8496871 (639)\ttotal: 30s\tremaining: 17.1s\n",
      "700:\ttest: 0.8496651\tbest: 0.8496871 (639)\ttotal: 30s\tremaining: 17.1s\n",
      "701:\ttest: 0.8496572\tbest: 0.8496871 (639)\ttotal: 30.1s\tremaining: 17.1s\n",
      "702:\ttest: 0.8496799\tbest: 0.8496871 (639)\ttotal: 30.1s\tremaining: 17s\n",
      "703:\ttest: 0.8496702\tbest: 0.8496871 (639)\ttotal: 30.2s\tremaining: 17s\n",
      "704:\ttest: 0.8496570\tbest: 0.8496871 (639)\ttotal: 30.2s\tremaining: 16.9s\n",
      "705:\ttest: 0.8496452\tbest: 0.8496871 (639)\ttotal: 30.2s\tremaining: 16.9s\n",
      "706:\ttest: 0.8496457\tbest: 0.8496871 (639)\ttotal: 30.3s\tremaining: 16.8s\n",
      "707:\ttest: 0.8496486\tbest: 0.8496871 (639)\ttotal: 30.3s\tremaining: 16.8s\n",
      "708:\ttest: 0.8496351\tbest: 0.8496871 (639)\ttotal: 30.4s\tremaining: 16.7s\n",
      "709:\ttest: 0.8496309\tbest: 0.8496871 (639)\ttotal: 30.4s\tremaining: 16.7s\n",
      "710:\ttest: 0.8496247\tbest: 0.8496871 (639)\ttotal: 30.4s\tremaining: 16.7s\n",
      "711:\ttest: 0.8496158\tbest: 0.8496871 (639)\ttotal: 30.5s\tremaining: 16.6s\n",
      "712:\ttest: 0.8496107\tbest: 0.8496871 (639)\ttotal: 30.5s\tremaining: 16.6s\n",
      "713:\ttest: 0.8496239\tbest: 0.8496871 (639)\ttotal: 30.6s\tremaining: 16.5s\n",
      "714:\ttest: 0.8496205\tbest: 0.8496871 (639)\ttotal: 30.6s\tremaining: 16.5s\n",
      "715:\ttest: 0.8496247\tbest: 0.8496871 (639)\ttotal: 30.7s\tremaining: 16.4s\n",
      "716:\ttest: 0.8496153\tbest: 0.8496871 (639)\ttotal: 30.7s\tremaining: 16.4s\n",
      "717:\ttest: 0.8495940\tbest: 0.8496871 (639)\ttotal: 30.7s\tremaining: 16.4s\n",
      "718:\ttest: 0.8495945\tbest: 0.8496871 (639)\ttotal: 30.8s\tremaining: 16.3s\n",
      "719:\ttest: 0.8496074\tbest: 0.8496871 (639)\ttotal: 30.8s\tremaining: 16.3s\n",
      "720:\ttest: 0.8496156\tbest: 0.8496871 (639)\ttotal: 30.9s\tremaining: 16.2s\n",
      "721:\ttest: 0.8496102\tbest: 0.8496871 (639)\ttotal: 30.9s\tremaining: 16.2s\n",
      "722:\ttest: 0.8496076\tbest: 0.8496871 (639)\ttotal: 30.9s\tremaining: 16.1s\n",
      "723:\ttest: 0.8496103\tbest: 0.8496871 (639)\ttotal: 31s\tremaining: 16.1s\n",
      "724:\ttest: 0.8496076\tbest: 0.8496871 (639)\ttotal: 31s\tremaining: 16.1s\n",
      "725:\ttest: 0.8496089\tbest: 0.8496871 (639)\ttotal: 31.1s\tremaining: 16s\n",
      "726:\ttest: 0.8496024\tbest: 0.8496871 (639)\ttotal: 31.1s\tremaining: 16s\n",
      "727:\ttest: 0.8496322\tbest: 0.8496871 (639)\ttotal: 31.2s\tremaining: 15.9s\n",
      "728:\ttest: 0.8496618\tbest: 0.8496871 (639)\ttotal: 31.2s\tremaining: 15.9s\n",
      "729:\ttest: 0.8496524\tbest: 0.8496871 (639)\ttotal: 31.3s\tremaining: 15.8s\n",
      "730:\ttest: 0.8496522\tbest: 0.8496871 (639)\ttotal: 31.3s\tremaining: 15.8s\n",
      "731:\ttest: 0.8496529\tbest: 0.8496871 (639)\ttotal: 31.3s\tremaining: 15.8s\n",
      "732:\ttest: 0.8496503\tbest: 0.8496871 (639)\ttotal: 31.4s\tremaining: 15.7s\n",
      "733:\ttest: 0.8496466\tbest: 0.8496871 (639)\ttotal: 31.4s\tremaining: 15.7s\n",
      "734:\ttest: 0.8496438\tbest: 0.8496871 (639)\ttotal: 31.4s\tremaining: 15.6s\n",
      "735:\ttest: 0.8496469\tbest: 0.8496871 (639)\ttotal: 31.5s\tremaining: 15.6s\n",
      "736:\ttest: 0.8496447\tbest: 0.8496871 (639)\ttotal: 31.5s\tremaining: 15.5s\n",
      "737:\ttest: 0.8496466\tbest: 0.8496871 (639)\ttotal: 31.6s\tremaining: 15.5s\n",
      "738:\ttest: 0.8496475\tbest: 0.8496871 (639)\ttotal: 31.6s\tremaining: 15.4s\n",
      "739:\ttest: 0.8496562\tbest: 0.8496871 (639)\ttotal: 31.6s\tremaining: 15.4s\n",
      "740:\ttest: 0.8496599\tbest: 0.8496871 (639)\ttotal: 31.7s\tremaining: 15.4s\n",
      "741:\ttest: 0.8496712\tbest: 0.8496871 (639)\ttotal: 31.7s\tremaining: 15.3s\n",
      "742:\ttest: 0.8496737\tbest: 0.8496871 (639)\ttotal: 31.8s\tremaining: 15.3s\n",
      "743:\ttest: 0.8496774\tbest: 0.8496871 (639)\ttotal: 31.8s\tremaining: 15.2s\n",
      "744:\ttest: 0.8496734\tbest: 0.8496871 (639)\ttotal: 31.9s\tremaining: 15.2s\n",
      "745:\ttest: 0.8496691\tbest: 0.8496871 (639)\ttotal: 31.9s\tremaining: 15.1s\n",
      "746:\ttest: 0.8496760\tbest: 0.8496871 (639)\ttotal: 31.9s\tremaining: 15.1s\n",
      "747:\ttest: 0.8496912\tbest: 0.8496912 (747)\ttotal: 32s\tremaining: 15s\n",
      "748:\ttest: 0.8496860\tbest: 0.8496912 (747)\ttotal: 32s\tremaining: 15s\n",
      "749:\ttest: 0.8496917\tbest: 0.8496917 (749)\ttotal: 32.1s\tremaining: 15s\n",
      "750:\ttest: 0.8496897\tbest: 0.8496917 (749)\ttotal: 32.1s\tremaining: 14.9s\n",
      "751:\ttest: 0.8496850\tbest: 0.8496917 (749)\ttotal: 32.1s\tremaining: 14.9s\n",
      "752:\ttest: 0.8496990\tbest: 0.8496990 (752)\ttotal: 32.2s\tremaining: 14.8s\n",
      "753:\ttest: 0.8496982\tbest: 0.8496990 (752)\ttotal: 32.2s\tremaining: 14.8s\n",
      "754:\ttest: 0.8496827\tbest: 0.8496990 (752)\ttotal: 32.3s\tremaining: 14.7s\n",
      "755:\ttest: 0.8496951\tbest: 0.8496990 (752)\ttotal: 32.3s\tremaining: 14.7s\n",
      "756:\ttest: 0.8497097\tbest: 0.8497097 (756)\ttotal: 32.4s\tremaining: 14.7s\n",
      "757:\ttest: 0.8496992\tbest: 0.8497097 (756)\ttotal: 32.4s\tremaining: 14.6s\n",
      "758:\ttest: 0.8496738\tbest: 0.8497097 (756)\ttotal: 32.4s\tremaining: 14.6s\n",
      "759:\ttest: 0.8496690\tbest: 0.8497097 (756)\ttotal: 32.5s\tremaining: 14.5s\n",
      "760:\ttest: 0.8496597\tbest: 0.8497097 (756)\ttotal: 32.5s\tremaining: 14.5s\n",
      "761:\ttest: 0.8496587\tbest: 0.8497097 (756)\ttotal: 32.6s\tremaining: 14.4s\n",
      "762:\ttest: 0.8496470\tbest: 0.8497097 (756)\ttotal: 32.6s\tremaining: 14.4s\n",
      "763:\ttest: 0.8496401\tbest: 0.8497097 (756)\ttotal: 32.6s\tremaining: 14.4s\n",
      "764:\ttest: 0.8496413\tbest: 0.8497097 (756)\ttotal: 32.7s\tremaining: 14.3s\n",
      "765:\ttest: 0.8496395\tbest: 0.8497097 (756)\ttotal: 32.7s\tremaining: 14.3s\n",
      "766:\ttest: 0.8496372\tbest: 0.8497097 (756)\ttotal: 32.8s\tremaining: 14.2s\n",
      "767:\ttest: 0.8496465\tbest: 0.8497097 (756)\ttotal: 32.8s\tremaining: 14.2s\n",
      "768:\ttest: 0.8496629\tbest: 0.8497097 (756)\ttotal: 32.9s\tremaining: 14.1s\n",
      "769:\ttest: 0.8496548\tbest: 0.8497097 (756)\ttotal: 32.9s\tremaining: 14.1s\n",
      "770:\ttest: 0.8496539\tbest: 0.8497097 (756)\ttotal: 32.9s\tremaining: 14.1s\n",
      "771:\ttest: 0.8496651\tbest: 0.8497097 (756)\ttotal: 33s\tremaining: 14s\n",
      "772:\ttest: 0.8496915\tbest: 0.8497097 (756)\ttotal: 33s\tremaining: 14s\n",
      "773:\ttest: 0.8496910\tbest: 0.8497097 (756)\ttotal: 33.1s\tremaining: 13.9s\n",
      "774:\ttest: 0.8496920\tbest: 0.8497097 (756)\ttotal: 33.2s\tremaining: 13.9s\n",
      "775:\ttest: 0.8496924\tbest: 0.8497097 (756)\ttotal: 33.2s\tremaining: 13.9s\n",
      "776:\ttest: 0.8496979\tbest: 0.8497097 (756)\ttotal: 33.3s\tremaining: 13.8s\n",
      "777:\ttest: 0.8497002\tbest: 0.8497097 (756)\ttotal: 33.3s\tremaining: 13.8s\n",
      "778:\ttest: 0.8497027\tbest: 0.8497097 (756)\ttotal: 33.3s\tremaining: 13.7s\n",
      "779:\ttest: 0.8497027\tbest: 0.8497097 (756)\ttotal: 33.4s\tremaining: 13.7s\n",
      "780:\ttest: 0.8497065\tbest: 0.8497097 (756)\ttotal: 33.4s\tremaining: 13.7s\n",
      "781:\ttest: 0.8496901\tbest: 0.8497097 (756)\ttotal: 33.5s\tremaining: 13.6s\n",
      "782:\ttest: 0.8496892\tbest: 0.8497097 (756)\ttotal: 33.5s\tremaining: 13.6s\n",
      "783:\ttest: 0.8497004\tbest: 0.8497097 (756)\ttotal: 33.6s\tremaining: 13.5s\n",
      "784:\ttest: 0.8497134\tbest: 0.8497134 (784)\ttotal: 33.6s\tremaining: 13.5s\n",
      "785:\ttest: 0.8497237\tbest: 0.8497237 (785)\ttotal: 33.6s\tremaining: 13.4s\n",
      "786:\ttest: 0.8497182\tbest: 0.8497237 (785)\ttotal: 33.7s\tremaining: 13.4s\n",
      "787:\ttest: 0.8497135\tbest: 0.8497237 (785)\ttotal: 33.7s\tremaining: 13.4s\n",
      "788:\ttest: 0.8497147\tbest: 0.8497237 (785)\ttotal: 33.8s\tremaining: 13.3s\n",
      "789:\ttest: 0.8497116\tbest: 0.8497237 (785)\ttotal: 33.8s\tremaining: 13.3s\n",
      "790:\ttest: 0.8497066\tbest: 0.8497237 (785)\ttotal: 33.8s\tremaining: 13.2s\n",
      "791:\ttest: 0.8497088\tbest: 0.8497237 (785)\ttotal: 33.9s\tremaining: 13.2s\n",
      "792:\ttest: 0.8497048\tbest: 0.8497237 (785)\ttotal: 33.9s\tremaining: 13.1s\n",
      "793:\ttest: 0.8497053\tbest: 0.8497237 (785)\ttotal: 34s\tremaining: 13.1s\n",
      "794:\ttest: 0.8497185\tbest: 0.8497237 (785)\ttotal: 34s\tremaining: 13s\n",
      "795:\ttest: 0.8497072\tbest: 0.8497237 (785)\ttotal: 34s\tremaining: 13s\n",
      "796:\ttest: 0.8497074\tbest: 0.8497237 (785)\ttotal: 34.1s\tremaining: 13s\n",
      "797:\ttest: 0.8497098\tbest: 0.8497237 (785)\ttotal: 34.1s\tremaining: 12.9s\n",
      "798:\ttest: 0.8497285\tbest: 0.8497285 (798)\ttotal: 34.2s\tremaining: 12.9s\n",
      "799:\ttest: 0.8497417\tbest: 0.8497417 (799)\ttotal: 34.2s\tremaining: 12.8s\n",
      "800:\ttest: 0.8497405\tbest: 0.8497417 (799)\ttotal: 34.2s\tremaining: 12.8s\n",
      "801:\ttest: 0.8497573\tbest: 0.8497573 (801)\ttotal: 34.3s\tremaining: 12.7s\n",
      "802:\ttest: 0.8497461\tbest: 0.8497573 (801)\ttotal: 34.3s\tremaining: 12.7s\n",
      "803:\ttest: 0.8497420\tbest: 0.8497573 (801)\ttotal: 34.4s\tremaining: 12.7s\n",
      "804:\ttest: 0.8497464\tbest: 0.8497573 (801)\ttotal: 34.4s\tremaining: 12.6s\n",
      "805:\ttest: 0.8497389\tbest: 0.8497573 (801)\ttotal: 34.5s\tremaining: 12.6s\n",
      "806:\ttest: 0.8497463\tbest: 0.8497573 (801)\ttotal: 34.5s\tremaining: 12.5s\n",
      "807:\ttest: 0.8497469\tbest: 0.8497573 (801)\ttotal: 34.5s\tremaining: 12.5s\n",
      "808:\ttest: 0.8497526\tbest: 0.8497573 (801)\ttotal: 34.6s\tremaining: 12.4s\n",
      "809:\ttest: 0.8497476\tbest: 0.8497573 (801)\ttotal: 34.6s\tremaining: 12.4s\n",
      "810:\ttest: 0.8497346\tbest: 0.8497573 (801)\ttotal: 34.7s\tremaining: 12.4s\n",
      "811:\ttest: 0.8497388\tbest: 0.8497573 (801)\ttotal: 34.7s\tremaining: 12.3s\n",
      "812:\ttest: 0.8497564\tbest: 0.8497573 (801)\ttotal: 34.8s\tremaining: 12.3s\n",
      "813:\ttest: 0.8497578\tbest: 0.8497578 (813)\ttotal: 34.8s\tremaining: 12.2s\n",
      "814:\ttest: 0.8497624\tbest: 0.8497624 (814)\ttotal: 34.8s\tremaining: 12.2s\n",
      "815:\ttest: 0.8497547\tbest: 0.8497624 (814)\ttotal: 34.9s\tremaining: 12.1s\n",
      "816:\ttest: 0.8497549\tbest: 0.8497624 (814)\ttotal: 34.9s\tremaining: 12.1s\n",
      "817:\ttest: 0.8497558\tbest: 0.8497624 (814)\ttotal: 35s\tremaining: 12.1s\n",
      "818:\ttest: 0.8497662\tbest: 0.8497662 (818)\ttotal: 35s\tremaining: 12s\n",
      "819:\ttest: 0.8497595\tbest: 0.8497662 (818)\ttotal: 35s\tremaining: 12s\n",
      "820:\ttest: 0.8497538\tbest: 0.8497662 (818)\ttotal: 35.1s\tremaining: 11.9s\n",
      "821:\ttest: 0.8497613\tbest: 0.8497662 (818)\ttotal: 35.1s\tremaining: 11.9s\n",
      "822:\ttest: 0.8497682\tbest: 0.8497682 (822)\ttotal: 35.2s\tremaining: 11.8s\n",
      "823:\ttest: 0.8497565\tbest: 0.8497682 (822)\ttotal: 35.2s\tremaining: 11.8s\n",
      "824:\ttest: 0.8497609\tbest: 0.8497682 (822)\ttotal: 35.3s\tremaining: 11.8s\n",
      "825:\ttest: 0.8497582\tbest: 0.8497682 (822)\ttotal: 35.3s\tremaining: 11.7s\n",
      "826:\ttest: 0.8497627\tbest: 0.8497682 (822)\ttotal: 35.3s\tremaining: 11.7s\n",
      "827:\ttest: 0.8497752\tbest: 0.8497752 (827)\ttotal: 35.4s\tremaining: 11.6s\n",
      "828:\ttest: 0.8497784\tbest: 0.8497784 (828)\ttotal: 35.4s\tremaining: 11.6s\n",
      "829:\ttest: 0.8497609\tbest: 0.8497784 (828)\ttotal: 35.5s\tremaining: 11.5s\n",
      "830:\ttest: 0.8497637\tbest: 0.8497784 (828)\ttotal: 35.5s\tremaining: 11.5s\n",
      "831:\ttest: 0.8497503\tbest: 0.8497784 (828)\ttotal: 35.5s\tremaining: 11.4s\n",
      "832:\ttest: 0.8497574\tbest: 0.8497784 (828)\ttotal: 35.6s\tremaining: 11.4s\n",
      "833:\ttest: 0.8497602\tbest: 0.8497784 (828)\ttotal: 35.6s\tremaining: 11.4s\n",
      "834:\ttest: 0.8497533\tbest: 0.8497784 (828)\ttotal: 35.7s\tremaining: 11.3s\n",
      "835:\ttest: 0.8497716\tbest: 0.8497784 (828)\ttotal: 35.7s\tremaining: 11.3s\n",
      "836:\ttest: 0.8497705\tbest: 0.8497784 (828)\ttotal: 35.8s\tremaining: 11.2s\n",
      "837:\ttest: 0.8497702\tbest: 0.8497784 (828)\ttotal: 35.8s\tremaining: 11.2s\n",
      "838:\ttest: 0.8497706\tbest: 0.8497784 (828)\ttotal: 35.8s\tremaining: 11.1s\n",
      "839:\ttest: 0.8497554\tbest: 0.8497784 (828)\ttotal: 35.9s\tremaining: 11.1s\n",
      "840:\ttest: 0.8497533\tbest: 0.8497784 (828)\ttotal: 35.9s\tremaining: 11.1s\n",
      "841:\ttest: 0.8497619\tbest: 0.8497784 (828)\ttotal: 36s\tremaining: 11s\n",
      "842:\ttest: 0.8497522\tbest: 0.8497784 (828)\ttotal: 36s\tremaining: 11s\n",
      "843:\ttest: 0.8497448\tbest: 0.8497784 (828)\ttotal: 36s\tremaining: 10.9s\n",
      "844:\ttest: 0.8497284\tbest: 0.8497784 (828)\ttotal: 36.1s\tremaining: 10.9s\n",
      "845:\ttest: 0.8497186\tbest: 0.8497784 (828)\ttotal: 36.1s\tremaining: 10.8s\n",
      "846:\ttest: 0.8497076\tbest: 0.8497784 (828)\ttotal: 36.2s\tremaining: 10.8s\n",
      "847:\ttest: 0.8497253\tbest: 0.8497784 (828)\ttotal: 36.2s\tremaining: 10.8s\n",
      "848:\ttest: 0.8497489\tbest: 0.8497784 (828)\ttotal: 36.2s\tremaining: 10.7s\n",
      "849:\ttest: 0.8497457\tbest: 0.8497784 (828)\ttotal: 36.3s\tremaining: 10.7s\n",
      "850:\ttest: 0.8497413\tbest: 0.8497784 (828)\ttotal: 36.3s\tremaining: 10.6s\n",
      "851:\ttest: 0.8497473\tbest: 0.8497784 (828)\ttotal: 36.4s\tremaining: 10.6s\n",
      "852:\ttest: 0.8497491\tbest: 0.8497784 (828)\ttotal: 36.4s\tremaining: 10.5s\n",
      "853:\ttest: 0.8497434\tbest: 0.8497784 (828)\ttotal: 36.5s\tremaining: 10.5s\n",
      "854:\ttest: 0.8497299\tbest: 0.8497784 (828)\ttotal: 36.5s\tremaining: 10.5s\n",
      "855:\ttest: 0.8497186\tbest: 0.8497784 (828)\ttotal: 36.5s\tremaining: 10.4s\n",
      "856:\ttest: 0.8497259\tbest: 0.8497784 (828)\ttotal: 36.6s\tremaining: 10.4s\n",
      "857:\ttest: 0.8497230\tbest: 0.8497784 (828)\ttotal: 36.6s\tremaining: 10.3s\n",
      "858:\ttest: 0.8497300\tbest: 0.8497784 (828)\ttotal: 36.7s\tremaining: 10.3s\n",
      "859:\ttest: 0.8497421\tbest: 0.8497784 (828)\ttotal: 36.7s\tremaining: 10.2s\n",
      "860:\ttest: 0.8497503\tbest: 0.8497784 (828)\ttotal: 36.7s\tremaining: 10.2s\n",
      "861:\ttest: 0.8497422\tbest: 0.8497784 (828)\ttotal: 36.8s\tremaining: 10.2s\n",
      "862:\ttest: 0.8497480\tbest: 0.8497784 (828)\ttotal: 36.8s\tremaining: 10.1s\n",
      "863:\ttest: 0.8497374\tbest: 0.8497784 (828)\ttotal: 36.9s\tremaining: 10.1s\n",
      "864:\ttest: 0.8497430\tbest: 0.8497784 (828)\ttotal: 36.9s\tremaining: 10s\n",
      "865:\ttest: 0.8497559\tbest: 0.8497784 (828)\ttotal: 37s\tremaining: 9.99s\n",
      "866:\ttest: 0.8497451\tbest: 0.8497784 (828)\ttotal: 37s\tremaining: 9.94s\n",
      "867:\ttest: 0.8497426\tbest: 0.8497784 (828)\ttotal: 37s\tremaining: 9.9s\n",
      "868:\ttest: 0.8497437\tbest: 0.8497784 (828)\ttotal: 37.1s\tremaining: 9.86s\n",
      "869:\ttest: 0.8497571\tbest: 0.8497784 (828)\ttotal: 37.1s\tremaining: 9.82s\n",
      "870:\ttest: 0.8497531\tbest: 0.8497784 (828)\ttotal: 37.2s\tremaining: 9.77s\n",
      "871:\ttest: 0.8497534\tbest: 0.8497784 (828)\ttotal: 37.2s\tremaining: 9.73s\n",
      "872:\ttest: 0.8497551\tbest: 0.8497784 (828)\ttotal: 37.3s\tremaining: 9.69s\n",
      "873:\ttest: 0.8497547\tbest: 0.8497784 (828)\ttotal: 37.3s\tremaining: 9.64s\n",
      "874:\ttest: 0.8497548\tbest: 0.8497784 (828)\ttotal: 37.3s\tremaining: 9.6s\n",
      "875:\ttest: 0.8497573\tbest: 0.8497784 (828)\ttotal: 37.4s\tremaining: 9.56s\n",
      "876:\ttest: 0.8497582\tbest: 0.8497784 (828)\ttotal: 37.4s\tremaining: 9.51s\n",
      "877:\ttest: 0.8497646\tbest: 0.8497784 (828)\ttotal: 37.5s\tremaining: 9.47s\n",
      "878:\ttest: 0.8497577\tbest: 0.8497784 (828)\ttotal: 37.5s\tremaining: 9.43s\n",
      "879:\ttest: 0.8497515\tbest: 0.8497784 (828)\ttotal: 37.5s\tremaining: 9.38s\n",
      "880:\ttest: 0.8497648\tbest: 0.8497784 (828)\ttotal: 37.6s\tremaining: 9.34s\n",
      "881:\ttest: 0.8497579\tbest: 0.8497784 (828)\ttotal: 37.6s\tremaining: 9.3s\n",
      "882:\ttest: 0.8497546\tbest: 0.8497784 (828)\ttotal: 37.7s\tremaining: 9.26s\n",
      "883:\ttest: 0.8497432\tbest: 0.8497784 (828)\ttotal: 37.7s\tremaining: 9.21s\n",
      "884:\ttest: 0.8497364\tbest: 0.8497784 (828)\ttotal: 37.8s\tremaining: 9.17s\n",
      "885:\ttest: 0.8497328\tbest: 0.8497784 (828)\ttotal: 37.8s\tremaining: 9.13s\n",
      "886:\ttest: 0.8497418\tbest: 0.8497784 (828)\ttotal: 37.8s\tremaining: 9.09s\n",
      "887:\ttest: 0.8497507\tbest: 0.8497784 (828)\ttotal: 37.9s\tremaining: 9.04s\n",
      "888:\ttest: 0.8497551\tbest: 0.8497784 (828)\ttotal: 37.9s\tremaining: 9s\n",
      "889:\ttest: 0.8497633\tbest: 0.8497784 (828)\ttotal: 38s\tremaining: 8.96s\n",
      "890:\ttest: 0.8497648\tbest: 0.8497784 (828)\ttotal: 38s\tremaining: 8.91s\n",
      "891:\ttest: 0.8497780\tbest: 0.8497784 (828)\ttotal: 38s\tremaining: 8.87s\n",
      "892:\ttest: 0.8497662\tbest: 0.8497784 (828)\ttotal: 38.1s\tremaining: 8.83s\n",
      "893:\ttest: 0.8497719\tbest: 0.8497784 (828)\ttotal: 38.1s\tremaining: 8.79s\n",
      "894:\ttest: 0.8497790\tbest: 0.8497790 (894)\ttotal: 38.2s\tremaining: 8.74s\n",
      "895:\ttest: 0.8497874\tbest: 0.8497874 (895)\ttotal: 38.2s\tremaining: 8.7s\n",
      "896:\ttest: 0.8497822\tbest: 0.8497874 (895)\ttotal: 38.2s\tremaining: 8.65s\n",
      "897:\ttest: 0.8497736\tbest: 0.8497874 (895)\ttotal: 38.3s\tremaining: 8.61s\n",
      "898:\ttest: 0.8497632\tbest: 0.8497874 (895)\ttotal: 38.3s\tremaining: 8.57s\n",
      "899:\ttest: 0.8497690\tbest: 0.8497874 (895)\ttotal: 38.4s\tremaining: 8.53s\n",
      "900:\ttest: 0.8497762\tbest: 0.8497874 (895)\ttotal: 38.4s\tremaining: 8.48s\n",
      "901:\ttest: 0.8497779\tbest: 0.8497874 (895)\ttotal: 38.5s\tremaining: 8.44s\n",
      "902:\ttest: 0.8497827\tbest: 0.8497874 (895)\ttotal: 38.5s\tremaining: 8.4s\n",
      "903:\ttest: 0.8497897\tbest: 0.8497897 (903)\ttotal: 38.5s\tremaining: 8.35s\n",
      "904:\ttest: 0.8497948\tbest: 0.8497948 (904)\ttotal: 38.6s\tremaining: 8.31s\n",
      "905:\ttest: 0.8497933\tbest: 0.8497948 (904)\ttotal: 38.6s\tremaining: 8.27s\n",
      "906:\ttest: 0.8497883\tbest: 0.8497948 (904)\ttotal: 38.7s\tremaining: 8.22s\n",
      "907:\ttest: 0.8498053\tbest: 0.8498053 (907)\ttotal: 38.7s\tremaining: 8.18s\n",
      "908:\ttest: 0.8498175\tbest: 0.8498175 (908)\ttotal: 38.7s\tremaining: 8.14s\n",
      "909:\ttest: 0.8498251\tbest: 0.8498251 (909)\ttotal: 38.8s\tremaining: 8.1s\n",
      "910:\ttest: 0.8498271\tbest: 0.8498271 (910)\ttotal: 38.8s\tremaining: 8.05s\n",
      "911:\ttest: 0.8498243\tbest: 0.8498271 (910)\ttotal: 38.9s\tremaining: 8.01s\n",
      "912:\ttest: 0.8498221\tbest: 0.8498271 (910)\ttotal: 38.9s\tremaining: 7.97s\n",
      "913:\ttest: 0.8498276\tbest: 0.8498276 (913)\ttotal: 38.9s\tremaining: 7.92s\n",
      "914:\ttest: 0.8498151\tbest: 0.8498276 (913)\ttotal: 39s\tremaining: 7.88s\n",
      "915:\ttest: 0.8498333\tbest: 0.8498333 (915)\ttotal: 39s\tremaining: 7.84s\n",
      "916:\ttest: 0.8498223\tbest: 0.8498333 (915)\ttotal: 39.1s\tremaining: 7.8s\n",
      "917:\ttest: 0.8498151\tbest: 0.8498333 (915)\ttotal: 39.1s\tremaining: 7.75s\n",
      "918:\ttest: 0.8498244\tbest: 0.8498333 (915)\ttotal: 39.1s\tremaining: 7.71s\n",
      "919:\ttest: 0.8498175\tbest: 0.8498333 (915)\ttotal: 39.2s\tremaining: 7.67s\n",
      "920:\ttest: 0.8498229\tbest: 0.8498333 (915)\ttotal: 39.2s\tremaining: 7.63s\n",
      "921:\ttest: 0.8498360\tbest: 0.8498360 (921)\ttotal: 39.3s\tremaining: 7.58s\n",
      "922:\ttest: 0.8498311\tbest: 0.8498360 (921)\ttotal: 39.3s\tremaining: 7.54s\n",
      "923:\ttest: 0.8498333\tbest: 0.8498360 (921)\ttotal: 39.4s\tremaining: 7.5s\n",
      "924:\ttest: 0.8498338\tbest: 0.8498360 (921)\ttotal: 39.4s\tremaining: 7.46s\n",
      "925:\ttest: 0.8498216\tbest: 0.8498360 (921)\ttotal: 39.5s\tremaining: 7.41s\n",
      "926:\ttest: 0.8498282\tbest: 0.8498360 (921)\ttotal: 39.5s\tremaining: 7.37s\n",
      "927:\ttest: 0.8498247\tbest: 0.8498360 (921)\ttotal: 39.5s\tremaining: 7.33s\n",
      "928:\ttest: 0.8498179\tbest: 0.8498360 (921)\ttotal: 39.6s\tremaining: 7.28s\n",
      "929:\ttest: 0.8498043\tbest: 0.8498360 (921)\ttotal: 39.6s\tremaining: 7.24s\n",
      "930:\ttest: 0.8498069\tbest: 0.8498360 (921)\ttotal: 39.7s\tremaining: 7.2s\n",
      "931:\ttest: 0.8498076\tbest: 0.8498360 (921)\ttotal: 39.7s\tremaining: 7.16s\n",
      "932:\ttest: 0.8498102\tbest: 0.8498360 (921)\ttotal: 39.7s\tremaining: 7.11s\n",
      "933:\ttest: 0.8497761\tbest: 0.8498360 (921)\ttotal: 39.8s\tremaining: 7.07s\n",
      "934:\ttest: 0.8497921\tbest: 0.8498360 (921)\ttotal: 39.8s\tremaining: 7.03s\n",
      "935:\ttest: 0.8497798\tbest: 0.8498360 (921)\ttotal: 39.9s\tremaining: 6.99s\n",
      "936:\ttest: 0.8497907\tbest: 0.8498360 (921)\ttotal: 39.9s\tremaining: 6.94s\n",
      "937:\ttest: 0.8497946\tbest: 0.8498360 (921)\ttotal: 40s\tremaining: 6.9s\n",
      "938:\ttest: 0.8497975\tbest: 0.8498360 (921)\ttotal: 40s\tremaining: 6.86s\n",
      "939:\ttest: 0.8498069\tbest: 0.8498360 (921)\ttotal: 40s\tremaining: 6.81s\n",
      "940:\ttest: 0.8498273\tbest: 0.8498360 (921)\ttotal: 40.1s\tremaining: 6.77s\n",
      "941:\ttest: 0.8498251\tbest: 0.8498360 (921)\ttotal: 40.1s\tremaining: 6.73s\n",
      "942:\ttest: 0.8498303\tbest: 0.8498360 (921)\ttotal: 40.2s\tremaining: 6.69s\n",
      "943:\ttest: 0.8498416\tbest: 0.8498416 (943)\ttotal: 40.2s\tremaining: 6.64s\n",
      "944:\ttest: 0.8498432\tbest: 0.8498432 (944)\ttotal: 40.2s\tremaining: 6.6s\n",
      "945:\ttest: 0.8498431\tbest: 0.8498432 (944)\ttotal: 40.3s\tremaining: 6.56s\n",
      "946:\ttest: 0.8498528\tbest: 0.8498528 (946)\ttotal: 40.3s\tremaining: 6.51s\n",
      "947:\ttest: 0.8498523\tbest: 0.8498528 (946)\ttotal: 40.4s\tremaining: 6.47s\n",
      "948:\ttest: 0.8498471\tbest: 0.8498528 (946)\ttotal: 40.4s\tremaining: 6.43s\n",
      "949:\ttest: 0.8498422\tbest: 0.8498528 (946)\ttotal: 40.4s\tremaining: 6.38s\n",
      "950:\ttest: 0.8498396\tbest: 0.8498528 (946)\ttotal: 40.6s\tremaining: 6.35s\n",
      "951:\ttest: 0.8498288\tbest: 0.8498528 (946)\ttotal: 40.6s\tremaining: 6.32s\n",
      "952:\ttest: 0.8498260\tbest: 0.8498528 (946)\ttotal: 40.7s\tremaining: 6.28s\n",
      "953:\ttest: 0.8498220\tbest: 0.8498528 (946)\ttotal: 40.7s\tremaining: 6.24s\n",
      "954:\ttest: 0.8498247\tbest: 0.8498528 (946)\ttotal: 40.8s\tremaining: 6.2s\n",
      "955:\ttest: 0.8498254\tbest: 0.8498528 (946)\ttotal: 40.9s\tremaining: 6.15s\n",
      "956:\ttest: 0.8498299\tbest: 0.8498528 (946)\ttotal: 40.9s\tremaining: 6.11s\n",
      "957:\ttest: 0.8498242\tbest: 0.8498528 (946)\ttotal: 41s\tremaining: 6.07s\n",
      "958:\ttest: 0.8498219\tbest: 0.8498528 (946)\ttotal: 41s\tremaining: 6.03s\n",
      "959:\ttest: 0.8498261\tbest: 0.8498528 (946)\ttotal: 41.1s\tremaining: 5.99s\n",
      "960:\ttest: 0.8498177\tbest: 0.8498528 (946)\ttotal: 41.1s\tremaining: 5.95s\n",
      "961:\ttest: 0.8498159\tbest: 0.8498528 (946)\ttotal: 41.2s\tremaining: 5.91s\n",
      "962:\ttest: 0.8498149\tbest: 0.8498528 (946)\ttotal: 41.2s\tremaining: 5.87s\n",
      "963:\ttest: 0.8498183\tbest: 0.8498528 (946)\ttotal: 41.3s\tremaining: 5.82s\n",
      "964:\ttest: 0.8498063\tbest: 0.8498528 (946)\ttotal: 41.3s\tremaining: 5.78s\n",
      "965:\ttest: 0.8497904\tbest: 0.8498528 (946)\ttotal: 41.4s\tremaining: 5.74s\n",
      "966:\ttest: 0.8497936\tbest: 0.8498528 (946)\ttotal: 41.4s\tremaining: 5.69s\n",
      "967:\ttest: 0.8497975\tbest: 0.8498528 (946)\ttotal: 41.4s\tremaining: 5.65s\n",
      "968:\ttest: 0.8497955\tbest: 0.8498528 (946)\ttotal: 41.5s\tremaining: 5.61s\n",
      "969:\ttest: 0.8498027\tbest: 0.8498528 (946)\ttotal: 41.5s\tremaining: 5.56s\n",
      "970:\ttest: 0.8498217\tbest: 0.8498528 (946)\ttotal: 41.6s\tremaining: 5.52s\n",
      "971:\ttest: 0.8498191\tbest: 0.8498528 (946)\ttotal: 41.6s\tremaining: 5.48s\n",
      "972:\ttest: 0.8498187\tbest: 0.8498528 (946)\ttotal: 41.6s\tremaining: 5.44s\n",
      "973:\ttest: 0.8498348\tbest: 0.8498528 (946)\ttotal: 41.7s\tremaining: 5.39s\n",
      "974:\ttest: 0.8498400\tbest: 0.8498528 (946)\ttotal: 41.7s\tremaining: 5.35s\n",
      "975:\ttest: 0.8498290\tbest: 0.8498528 (946)\ttotal: 41.8s\tremaining: 5.31s\n",
      "976:\ttest: 0.8498330\tbest: 0.8498528 (946)\ttotal: 41.8s\tremaining: 5.26s\n",
      "977:\ttest: 0.8498171\tbest: 0.8498528 (946)\ttotal: 41.9s\tremaining: 5.22s\n",
      "978:\ttest: 0.8498102\tbest: 0.8498528 (946)\ttotal: 41.9s\tremaining: 5.18s\n",
      "979:\ttest: 0.8498063\tbest: 0.8498528 (946)\ttotal: 42s\tremaining: 5.14s\n",
      "980:\ttest: 0.8498149\tbest: 0.8498528 (946)\ttotal: 42s\tremaining: 5.1s\n",
      "981:\ttest: 0.8498223\tbest: 0.8498528 (946)\ttotal: 42.1s\tremaining: 5.05s\n",
      "982:\ttest: 0.8498192\tbest: 0.8498528 (946)\ttotal: 42.1s\tremaining: 5.01s\n",
      "983:\ttest: 0.8498092\tbest: 0.8498528 (946)\ttotal: 42.1s\tremaining: 4.97s\n",
      "984:\ttest: 0.8498016\tbest: 0.8498528 (946)\ttotal: 42.2s\tremaining: 4.92s\n",
      "985:\ttest: 0.8498009\tbest: 0.8498528 (946)\ttotal: 42.2s\tremaining: 4.88s\n",
      "986:\ttest: 0.8498086\tbest: 0.8498528 (946)\ttotal: 42.3s\tremaining: 4.84s\n",
      "987:\ttest: 0.8498096\tbest: 0.8498528 (946)\ttotal: 42.3s\tremaining: 4.79s\n",
      "988:\ttest: 0.8498114\tbest: 0.8498528 (946)\ttotal: 42.3s\tremaining: 4.75s\n",
      "989:\ttest: 0.8498083\tbest: 0.8498528 (946)\ttotal: 42.4s\tremaining: 4.71s\n",
      "990:\ttest: 0.8498202\tbest: 0.8498528 (946)\ttotal: 42.4s\tremaining: 4.67s\n",
      "991:\ttest: 0.8498201\tbest: 0.8498528 (946)\ttotal: 42.5s\tremaining: 4.62s\n",
      "992:\ttest: 0.8498048\tbest: 0.8498528 (946)\ttotal: 42.5s\tremaining: 4.58s\n",
      "993:\ttest: 0.8497860\tbest: 0.8498528 (946)\ttotal: 42.5s\tremaining: 4.54s\n",
      "994:\ttest: 0.8497869\tbest: 0.8498528 (946)\ttotal: 42.6s\tremaining: 4.49s\n",
      "995:\ttest: 0.8497818\tbest: 0.8498528 (946)\ttotal: 42.6s\tremaining: 4.45s\n",
      "996:\ttest: 0.8497937\tbest: 0.8498528 (946)\ttotal: 42.7s\tremaining: 4.41s\n",
      "997:\ttest: 0.8497939\tbest: 0.8498528 (946)\ttotal: 42.7s\tremaining: 4.37s\n",
      "998:\ttest: 0.8497892\tbest: 0.8498528 (946)\ttotal: 42.8s\tremaining: 4.32s\n",
      "999:\ttest: 0.8497894\tbest: 0.8498528 (946)\ttotal: 42.8s\tremaining: 4.28s\n",
      "1000:\ttest: 0.8497958\tbest: 0.8498528 (946)\ttotal: 42.8s\tremaining: 4.24s\n",
      "1001:\ttest: 0.8497957\tbest: 0.8498528 (946)\ttotal: 42.9s\tremaining: 4.19s\n",
      "1002:\ttest: 0.8497864\tbest: 0.8498528 (946)\ttotal: 42.9s\tremaining: 4.15s\n",
      "1003:\ttest: 0.8497868\tbest: 0.8498528 (946)\ttotal: 43s\tremaining: 4.11s\n",
      "1004:\ttest: 0.8497890\tbest: 0.8498528 (946)\ttotal: 43s\tremaining: 4.07s\n",
      "1005:\ttest: 0.8498021\tbest: 0.8498528 (946)\ttotal: 43.1s\tremaining: 4.02s\n",
      "1006:\ttest: 0.8498060\tbest: 0.8498528 (946)\ttotal: 43.1s\tremaining: 3.98s\n",
      "1007:\ttest: 0.8497970\tbest: 0.8498528 (946)\ttotal: 43.1s\tremaining: 3.94s\n",
      "1008:\ttest: 0.8497798\tbest: 0.8498528 (946)\ttotal: 43.2s\tremaining: 3.89s\n",
      "1009:\ttest: 0.8497815\tbest: 0.8498528 (946)\ttotal: 43.2s\tremaining: 3.85s\n",
      "1010:\ttest: 0.8497737\tbest: 0.8498528 (946)\ttotal: 43.3s\tremaining: 3.81s\n",
      "1011:\ttest: 0.8497728\tbest: 0.8498528 (946)\ttotal: 43.3s\tremaining: 3.77s\n",
      "1012:\ttest: 0.8497761\tbest: 0.8498528 (946)\ttotal: 43.3s\tremaining: 3.72s\n",
      "1013:\ttest: 0.8497844\tbest: 0.8498528 (946)\ttotal: 43.4s\tremaining: 3.68s\n",
      "1014:\ttest: 0.8497813\tbest: 0.8498528 (946)\ttotal: 43.4s\tremaining: 3.64s\n",
      "1015:\ttest: 0.8497735\tbest: 0.8498528 (946)\ttotal: 43.5s\tremaining: 3.59s\n",
      "1016:\ttest: 0.8497667\tbest: 0.8498528 (946)\ttotal: 43.5s\tremaining: 3.55s\n",
      "1017:\ttest: 0.8497645\tbest: 0.8498528 (946)\ttotal: 43.6s\tremaining: 3.51s\n",
      "1018:\ttest: 0.8497674\tbest: 0.8498528 (946)\ttotal: 43.6s\tremaining: 3.46s\n",
      "1019:\ttest: 0.8497825\tbest: 0.8498528 (946)\ttotal: 43.6s\tremaining: 3.42s\n",
      "1020:\ttest: 0.8497770\tbest: 0.8498528 (946)\ttotal: 43.7s\tremaining: 3.38s\n",
      "1021:\ttest: 0.8497805\tbest: 0.8498528 (946)\ttotal: 43.7s\tremaining: 3.34s\n",
      "1022:\ttest: 0.8497828\tbest: 0.8498528 (946)\ttotal: 43.8s\tremaining: 3.29s\n",
      "1023:\ttest: 0.8497754\tbest: 0.8498528 (946)\ttotal: 43.8s\tremaining: 3.25s\n",
      "1024:\ttest: 0.8497851\tbest: 0.8498528 (946)\ttotal: 43.9s\tremaining: 3.21s\n",
      "1025:\ttest: 0.8497648\tbest: 0.8498528 (946)\ttotal: 43.9s\tremaining: 3.17s\n",
      "1026:\ttest: 0.8497724\tbest: 0.8498528 (946)\ttotal: 44s\tremaining: 3.13s\n",
      "1027:\ttest: 0.8497669\tbest: 0.8498528 (946)\ttotal: 44s\tremaining: 3.08s\n",
      "1028:\ttest: 0.8497629\tbest: 0.8498528 (946)\ttotal: 44.1s\tremaining: 3.04s\n",
      "1029:\ttest: 0.8497670\tbest: 0.8498528 (946)\ttotal: 44.2s\tremaining: 3s\n",
      "1030:\ttest: 0.8497605\tbest: 0.8498528 (946)\ttotal: 44.2s\tremaining: 2.96s\n",
      "1031:\ttest: 0.8497692\tbest: 0.8498528 (946)\ttotal: 44.2s\tremaining: 2.92s\n",
      "1032:\ttest: 0.8497675\tbest: 0.8498528 (946)\ttotal: 44.3s\tremaining: 2.87s\n",
      "1033:\ttest: 0.8497729\tbest: 0.8498528 (946)\ttotal: 44.3s\tremaining: 2.83s\n",
      "1034:\ttest: 0.8497787\tbest: 0.8498528 (946)\ttotal: 44.4s\tremaining: 2.79s\n",
      "1035:\ttest: 0.8497685\tbest: 0.8498528 (946)\ttotal: 44.4s\tremaining: 2.74s\n",
      "1036:\ttest: 0.8497660\tbest: 0.8498528 (946)\ttotal: 44.5s\tremaining: 2.7s\n",
      "1037:\ttest: 0.8497574\tbest: 0.8498528 (946)\ttotal: 44.5s\tremaining: 2.66s\n",
      "1038:\ttest: 0.8497592\tbest: 0.8498528 (946)\ttotal: 44.6s\tremaining: 2.62s\n",
      "1039:\ttest: 0.8497749\tbest: 0.8498528 (946)\ttotal: 44.6s\tremaining: 2.57s\n",
      "1040:\ttest: 0.8497871\tbest: 0.8498528 (946)\ttotal: 44.6s\tremaining: 2.53s\n",
      "1041:\ttest: 0.8497811\tbest: 0.8498528 (946)\ttotal: 44.7s\tremaining: 2.49s\n",
      "1042:\ttest: 0.8497954\tbest: 0.8498528 (946)\ttotal: 44.7s\tremaining: 2.44s\n",
      "1043:\ttest: 0.8497949\tbest: 0.8498528 (946)\ttotal: 44.8s\tremaining: 2.4s\n",
      "1044:\ttest: 0.8497935\tbest: 0.8498528 (946)\ttotal: 44.8s\tremaining: 2.36s\n",
      "1045:\ttest: 0.8497849\tbest: 0.8498528 (946)\ttotal: 44.8s\tremaining: 2.31s\n",
      "1046:\ttest: 0.8497794\tbest: 0.8498528 (946)\ttotal: 44.9s\tremaining: 2.27s\n",
      "1047:\ttest: 0.8497758\tbest: 0.8498528 (946)\ttotal: 44.9s\tremaining: 2.23s\n",
      "1048:\ttest: 0.8497818\tbest: 0.8498528 (946)\ttotal: 45s\tremaining: 2.19s\n",
      "1049:\ttest: 0.8497766\tbest: 0.8498528 (946)\ttotal: 45s\tremaining: 2.14s\n",
      "1050:\ttest: 0.8497735\tbest: 0.8498528 (946)\ttotal: 45s\tremaining: 2.1s\n",
      "1051:\ttest: 0.8497848\tbest: 0.8498528 (946)\ttotal: 45.1s\tremaining: 2.06s\n",
      "1052:\ttest: 0.8497786\tbest: 0.8498528 (946)\ttotal: 45.1s\tremaining: 2.01s\n",
      "1053:\ttest: 0.8497823\tbest: 0.8498528 (946)\ttotal: 45.2s\tremaining: 1.97s\n",
      "1054:\ttest: 0.8497885\tbest: 0.8498528 (946)\ttotal: 45.2s\tremaining: 1.93s\n",
      "1055:\ttest: 0.8497895\tbest: 0.8498528 (946)\ttotal: 45.3s\tremaining: 1.89s\n",
      "1056:\ttest: 0.8498035\tbest: 0.8498528 (946)\ttotal: 45.3s\tremaining: 1.84s\n",
      "1057:\ttest: 0.8498010\tbest: 0.8498528 (946)\ttotal: 45.3s\tremaining: 1.8s\n",
      "1058:\ttest: 0.8498016\tbest: 0.8498528 (946)\ttotal: 45.4s\tremaining: 1.76s\n",
      "1059:\ttest: 0.8498039\tbest: 0.8498528 (946)\ttotal: 45.4s\tremaining: 1.71s\n",
      "1060:\ttest: 0.8498105\tbest: 0.8498528 (946)\ttotal: 45.5s\tremaining: 1.67s\n",
      "1061:\ttest: 0.8498082\tbest: 0.8498528 (946)\ttotal: 45.5s\tremaining: 1.63s\n",
      "1062:\ttest: 0.8498039\tbest: 0.8498528 (946)\ttotal: 45.6s\tremaining: 1.59s\n",
      "1063:\ttest: 0.8498054\tbest: 0.8498528 (946)\ttotal: 45.6s\tremaining: 1.54s\n",
      "1064:\ttest: 0.8498093\tbest: 0.8498528 (946)\ttotal: 45.7s\tremaining: 1.5s\n",
      "1065:\ttest: 0.8498092\tbest: 0.8498528 (946)\ttotal: 45.7s\tremaining: 1.46s\n",
      "1066:\ttest: 0.8498155\tbest: 0.8498528 (946)\ttotal: 45.8s\tremaining: 1.42s\n",
      "1067:\ttest: 0.8498168\tbest: 0.8498528 (946)\ttotal: 45.9s\tremaining: 1.37s\n",
      "1068:\ttest: 0.8498208\tbest: 0.8498528 (946)\ttotal: 45.9s\tremaining: 1.33s\n",
      "1069:\ttest: 0.8498236\tbest: 0.8498528 (946)\ttotal: 46s\tremaining: 1.29s\n",
      "1070:\ttest: 0.8498272\tbest: 0.8498528 (946)\ttotal: 46s\tremaining: 1.25s\n",
      "1071:\ttest: 0.8498275\tbest: 0.8498528 (946)\ttotal: 46.1s\tremaining: 1.2s\n",
      "1072:\ttest: 0.8498248\tbest: 0.8498528 (946)\ttotal: 46.1s\tremaining: 1.16s\n",
      "1073:\ttest: 0.8498245\tbest: 0.8498528 (946)\ttotal: 46.2s\tremaining: 1.12s\n",
      "1074:\ttest: 0.8498182\tbest: 0.8498528 (946)\ttotal: 46.2s\tremaining: 1.07s\n",
      "1075:\ttest: 0.8498176\tbest: 0.8498528 (946)\ttotal: 46.3s\tremaining: 1.03s\n",
      "1076:\ttest: 0.8498173\tbest: 0.8498528 (946)\ttotal: 46.3s\tremaining: 990ms\n",
      "1077:\ttest: 0.8498318\tbest: 0.8498528 (946)\ttotal: 46.4s\tremaining: 947ms\n",
      "1078:\ttest: 0.8498263\tbest: 0.8498528 (946)\ttotal: 46.5s\tremaining: 904ms\n",
      "1079:\ttest: 0.8498291\tbest: 0.8498528 (946)\ttotal: 46.5s\tremaining: 861ms\n",
      "1080:\ttest: 0.8498421\tbest: 0.8498528 (946)\ttotal: 46.6s\tremaining: 818ms\n",
      "1081:\ttest: 0.8498307\tbest: 0.8498528 (946)\ttotal: 46.6s\tremaining: 775ms\n",
      "1082:\ttest: 0.8498352\tbest: 0.8498528 (946)\ttotal: 46.6s\tremaining: 732ms\n",
      "1083:\ttest: 0.8498344\tbest: 0.8498528 (946)\ttotal: 46.7s\tremaining: 689ms\n",
      "1084:\ttest: 0.8498285\tbest: 0.8498528 (946)\ttotal: 46.7s\tremaining: 646ms\n",
      "1085:\ttest: 0.8498263\tbest: 0.8498528 (946)\ttotal: 46.8s\tremaining: 603ms\n",
      "1086:\ttest: 0.8498161\tbest: 0.8498528 (946)\ttotal: 46.8s\tremaining: 560ms\n",
      "1087:\ttest: 0.8498105\tbest: 0.8498528 (946)\ttotal: 46.8s\tremaining: 517ms\n",
      "1088:\ttest: 0.8498105\tbest: 0.8498528 (946)\ttotal: 46.9s\tremaining: 474ms\n",
      "1089:\ttest: 0.8498152\tbest: 0.8498528 (946)\ttotal: 46.9s\tremaining: 431ms\n",
      "1090:\ttest: 0.8498245\tbest: 0.8498528 (946)\ttotal: 47s\tremaining: 388ms\n",
      "1091:\ttest: 0.8498238\tbest: 0.8498528 (946)\ttotal: 47s\tremaining: 345ms\n",
      "1092:\ttest: 0.8498339\tbest: 0.8498528 (946)\ttotal: 47.1s\tremaining: 301ms\n",
      "1093:\ttest: 0.8498202\tbest: 0.8498528 (946)\ttotal: 47.1s\tremaining: 258ms\n",
      "1094:\ttest: 0.8498146\tbest: 0.8498528 (946)\ttotal: 47.2s\tremaining: 215ms\n",
      "1095:\ttest: 0.8498165\tbest: 0.8498528 (946)\ttotal: 47.2s\tremaining: 172ms\n",
      "1096:\ttest: 0.8498147\tbest: 0.8498528 (946)\ttotal: 47.2s\tremaining: 129ms\n",
      "1097:\ttest: 0.8498089\tbest: 0.8498528 (946)\ttotal: 47.3s\tremaining: 86.1ms\n",
      "1098:\ttest: 0.8498152\tbest: 0.8498528 (946)\ttotal: 47.3s\tremaining: 43.1ms\n",
      "1099:\ttest: 0.8498180\tbest: 0.8498528 (946)\ttotal: 47.4s\tremaining: 0us\n",
      "\n",
      "bestTest = 0.8498528443\n",
      "bestIteration = 946\n",
      "\n",
      "Shrink model to first 947 iterations.\n"
     ]
    },
    {
     "data": {
      "text/plain": [
       "<catboost.core.CatBoostClassifier at 0x7f8992523350>"
      ]
     },
     "execution_count": 26,
     "metadata": {},
     "output_type": "execute_result"
    }
   ],
   "source": [
    "### Manual Hyperparameter Tuning\n",
    "boost=CatBoostClassifier(class_weights = [1,1.4], n_estimators=1100, depth=6, l2_leaf_reg = 14, eval_metric = 'AUC', \n",
    "                         use_best_model = True)\n",
    "boost.fit(train_X,train_y, cat_features = categorical_features_indices, eval_set = (valid_X, valid_y))"
   ]
  },
  {
   "cell_type": "code",
   "execution_count": 27,
   "metadata": {
    "execution": {
     "iopub.execute_input": "2020-10-03T12:01:41.203296Z",
     "iopub.status.busy": "2020-10-03T12:01:41.202182Z",
     "iopub.status.idle": "2020-10-03T12:01:41.277007Z",
     "shell.execute_reply": "2020-10-03T12:01:41.276399Z"
    },
    "papermill": {
     "duration": 0.252753,
     "end_time": "2020-10-03T12:01:41.277136",
     "exception": false,
     "start_time": "2020-10-03T12:01:41.024383",
     "status": "completed"
    },
    "tags": []
   },
   "outputs": [
    {
     "name": "stdout",
     "output_type": "stream",
     "text": [
      "              precision    recall  f1-score   support\n",
      "\n",
      "           0       0.86      0.89      0.88     16963\n",
      "           1       0.62      0.56      0.59      5437\n",
      "\n",
      "    accuracy                           0.81     22400\n",
      "   macro avg       0.74      0.72      0.73     22400\n",
      "weighted avg       0.80      0.81      0.81     22400\n",
      "\n"
     ]
    }
   ],
   "source": [
    "valid_pred=boost.predict(valid_X)\n",
    "print(classification_report(valid_y, valid_pred))"
   ]
  },
  {
   "cell_type": "code",
   "execution_count": 28,
   "metadata": {
    "execution": {
     "iopub.execute_input": "2020-10-03T12:01:41.618971Z",
     "iopub.status.busy": "2020-10-03T12:01:41.617939Z",
     "iopub.status.idle": "2020-10-03T12:01:41.644623Z",
     "shell.execute_reply": "2020-10-03T12:01:41.643983Z"
    },
    "papermill": {
     "duration": 0.205278,
     "end_time": "2020-10-03T12:01:41.644760",
     "exception": false,
     "start_time": "2020-10-03T12:01:41.439482",
     "status": "completed"
    },
    "tags": []
   },
   "outputs": [],
   "source": [
    "#propensities on the validation set\n",
    "valid_pred = boost.predict_proba(valid_X)\n",
    "valid_pred =pd.DataFrame(valid_pred)\n",
    "valid_pred.drop([0], axis = 1, inplace = True)"
   ]
  },
  {
   "cell_type": "code",
   "execution_count": 29,
   "metadata": {
    "execution": {
     "iopub.execute_input": "2020-10-03T12:01:41.951225Z",
     "iopub.status.busy": "2020-10-03T12:01:41.950405Z",
     "iopub.status.idle": "2020-10-03T12:01:41.953204Z",
     "shell.execute_reply": "2020-10-03T12:01:41.953747Z"
    },
    "papermill": {
     "duration": 0.1592,
     "end_time": "2020-10-03T12:01:41.953926",
     "exception": false,
     "start_time": "2020-10-03T12:01:41.794726",
     "status": "completed"
    },
    "tags": []
   },
   "outputs": [],
   "source": [
    "valid_y = pd.DataFrame(valid_y)"
   ]
  },
  {
   "cell_type": "code",
   "execution_count": 30,
   "metadata": {
    "execution": {
     "iopub.execute_input": "2020-10-03T12:01:42.261669Z",
     "iopub.status.busy": "2020-10-03T12:01:42.260487Z",
     "iopub.status.idle": "2020-10-03T12:01:42.279936Z",
     "shell.execute_reply": "2020-10-03T12:01:42.278935Z"
    },
    "papermill": {
     "duration": 0.175747,
     "end_time": "2020-10-03T12:01:42.280102",
     "exception": false,
     "start_time": "2020-10-03T12:01:42.104355",
     "status": "completed"
    },
    "tags": []
   },
   "outputs": [
    {
     "name": "stdout",
     "output_type": "stream",
     "text": [
      "0.849852844311171\n"
     ]
    }
   ],
   "source": [
    "#calculate AUC\n",
    "auc = roc_auc_score(valid_y, valid_pred)\n",
    "print(auc)"
   ]
  },
  {
   "cell_type": "code",
   "execution_count": 31,
   "metadata": {
    "execution": {
     "iopub.execute_input": "2020-10-03T12:01:42.615760Z",
     "iopub.status.busy": "2020-10-03T12:01:42.614671Z",
     "iopub.status.idle": "2020-10-03T12:01:42.640329Z",
     "shell.execute_reply": "2020-10-03T12:01:42.639660Z"
    },
    "papermill": {
     "duration": 0.20821,
     "end_time": "2020-10-03T12:01:42.640484",
     "exception": false,
     "start_time": "2020-10-03T12:01:42.432274",
     "status": "completed"
    },
    "tags": []
   },
   "outputs": [],
   "source": [
    "#propensities on the test set\n",
    "pred = boost.predict_proba(test)"
   ]
  },
  {
   "cell_type": "code",
   "execution_count": 32,
   "metadata": {
    "execution": {
     "iopub.execute_input": "2020-10-03T12:01:42.944205Z",
     "iopub.status.busy": "2020-10-03T12:01:42.943162Z",
     "iopub.status.idle": "2020-10-03T12:01:42.946679Z",
     "shell.execute_reply": "2020-10-03T12:01:42.945968Z"
    },
    "papermill": {
     "duration": 0.157406,
     "end_time": "2020-10-03T12:01:42.946802",
     "exception": false,
     "start_time": "2020-10-03T12:01:42.789396",
     "status": "completed"
    },
    "tags": []
   },
   "outputs": [],
   "source": [
    "pred = pd.DataFrame(pred)"
   ]
  },
  {
   "cell_type": "code",
   "execution_count": 33,
   "metadata": {
    "execution": {
     "iopub.execute_input": "2020-10-03T12:01:43.252583Z",
     "iopub.status.busy": "2020-10-03T12:01:43.251535Z",
     "iopub.status.idle": "2020-10-03T12:01:43.254808Z",
     "shell.execute_reply": "2020-10-03T12:01:43.254236Z"
    },
    "papermill": {
     "duration": 0.159619,
     "end_time": "2020-10-03T12:01:43.254954",
     "exception": false,
     "start_time": "2020-10-03T12:01:43.095335",
     "status": "completed"
    },
    "tags": []
   },
   "outputs": [],
   "source": [
    "pred.drop([0], axis = 1, inplace = True)"
   ]
  },
  {
   "cell_type": "code",
   "execution_count": 34,
   "metadata": {
    "execution": {
     "iopub.execute_input": "2020-10-03T12:01:43.613129Z",
     "iopub.status.busy": "2020-10-03T12:01:43.612325Z",
     "iopub.status.idle": "2020-10-03T12:01:43.615905Z",
     "shell.execute_reply": "2020-10-03T12:01:43.615285Z"
    },
    "papermill": {
     "duration": 0.158644,
     "end_time": "2020-10-03T12:01:43.616054",
     "exception": false,
     "start_time": "2020-10-03T12:01:43.457410",
     "status": "completed"
    },
    "tags": []
   },
   "outputs": [],
   "source": [
    "sub['default_status']  = pred"
   ]
  },
  {
   "cell_type": "code",
   "execution_count": 35,
   "metadata": {
    "execution": {
     "iopub.execute_input": "2020-10-03T12:01:43.924590Z",
     "iopub.status.busy": "2020-10-03T12:01:43.923769Z",
     "iopub.status.idle": "2020-10-03T12:01:44.326743Z",
     "shell.execute_reply": "2020-10-03T12:01:44.326081Z"
    },
    "papermill": {
     "duration": 0.560048,
     "end_time": "2020-10-03T12:01:44.326906",
     "exception": false,
     "start_time": "2020-10-03T12:01:43.766858",
     "status": "completed"
    },
    "tags": []
   },
   "outputs": [],
   "source": [
    "sub.to_csv('model_prob.csv', index = False)"
   ]
  },
  {
   "cell_type": "code",
   "execution_count": 36,
   "metadata": {
    "execution": {
     "iopub.execute_input": "2020-10-03T12:01:44.641394Z",
     "iopub.status.busy": "2020-10-03T12:01:44.638116Z",
     "iopub.status.idle": "2020-10-03T12:01:44.645830Z",
     "shell.execute_reply": "2020-10-03T12:01:44.645244Z"
    },
    "papermill": {
     "duration": 0.167385,
     "end_time": "2020-10-03T12:01:44.646010",
     "exception": false,
     "start_time": "2020-10-03T12:01:44.478625",
     "status": "completed"
    },
    "tags": []
   },
   "outputs": [
    {
     "data": {
      "text/plain": [
       "((33600, 55), (22400, 55))"
      ]
     },
     "execution_count": 36,
     "metadata": {},
     "output_type": "execute_result"
    }
   ],
   "source": [
    "train_X.shape,valid_X.shape"
   ]
  },
  {
   "cell_type": "code",
   "execution_count": 37,
   "metadata": {
    "execution": {
     "iopub.execute_input": "2020-10-03T12:01:44.954517Z",
     "iopub.status.busy": "2020-10-03T12:01:44.953484Z",
     "iopub.status.idle": "2020-10-03T12:01:44.957519Z",
     "shell.execute_reply": "2020-10-03T12:01:44.956952Z"
    },
    "papermill": {
     "duration": 0.1609,
     "end_time": "2020-10-03T12:01:44.957646",
     "exception": false,
     "start_time": "2020-10-03T12:01:44.796746",
     "status": "completed"
    },
    "tags": []
   },
   "outputs": [
    {
     "data": {
      "text/plain": [
       "((33600,), (22400, 1))"
      ]
     },
     "execution_count": 37,
     "metadata": {},
     "output_type": "execute_result"
    }
   ],
   "source": [
    "train_y.shape, valid_y.shape"
   ]
  },
  {
   "cell_type": "code",
   "execution_count": 38,
   "metadata": {
    "execution": {
     "iopub.execute_input": "2020-10-03T12:01:45.294908Z",
     "iopub.status.busy": "2020-10-03T12:01:45.293403Z",
     "iopub.status.idle": "2020-10-03T12:01:45.298454Z",
     "shell.execute_reply": "2020-10-03T12:01:45.297836Z"
    },
    "papermill": {
     "duration": 0.180051,
     "end_time": "2020-10-03T12:01:45.298592",
     "exception": false,
     "start_time": "2020-10-03T12:01:45.118541",
     "status": "completed"
    },
    "tags": []
   },
   "outputs": [],
   "source": [
    "X = train.drop(columns=['default_status'])\n",
    "y = train['default_status']"
   ]
  },
  {
   "cell_type": "code",
   "execution_count": 39,
   "metadata": {
    "execution": {
     "iopub.execute_input": "2020-10-03T12:01:45.618334Z",
     "iopub.status.busy": "2020-10-03T12:01:45.617528Z",
     "iopub.status.idle": "2020-10-03T12:04:28.750114Z",
     "shell.execute_reply": "2020-10-03T12:04:28.749357Z"
    },
    "papermill": {
     "duration": 163.298227,
     "end_time": "2020-10-03T12:04:28.750267",
     "exception": false,
     "start_time": "2020-10-03T12:01:45.452040",
     "status": "completed"
    },
    "tags": []
   },
   "outputs": [
    {
     "name": "stdout",
     "output_type": "stream",
     "text": [
      "0:\ttest: 0.7805009\ttest1: 0.7770691\tbest: 0.7770691 (0)\ttotal: 48.7ms\tremaining: 1m 3s\n",
      "100:\ttest: 0.8350527\ttest1: 0.8289591\tbest: 0.8289591 (100)\ttotal: 4.42s\tremaining: 52.4s\n",
      "200:\ttest: 0.8410703\ttest1: 0.8335407\tbest: 0.8335407 (200)\ttotal: 8.5s\tremaining: 46.5s\n",
      "300:\ttest: 0.8455174\ttest1: 0.8355243\tbest: 0.8355243 (300)\ttotal: 12.5s\tremaining: 41.4s\n",
      "400:\ttest: 0.8496437\ttest1: 0.8369047\tbest: 0.8369047 (400)\ttotal: 16.6s\tremaining: 37.2s\n",
      "500:\ttest: 0.8538181\ttest1: 0.8376580\tbest: 0.8376580 (500)\ttotal: 20.7s\tremaining: 33s\n",
      "600:\ttest: 0.8576476\ttest1: 0.8384063\tbest: 0.8384143 (595)\ttotal: 25s\tremaining: 29s\n",
      "700:\ttest: 0.8610109\ttest1: 0.8389064\tbest: 0.8389201 (695)\ttotal: 29s\tremaining: 24.8s\n",
      "800:\ttest: 0.8641205\ttest1: 0.8390094\tbest: 0.8390247 (785)\ttotal: 33s\tremaining: 20.5s\n",
      "900:\ttest: 0.8672322\ttest1: 0.8394444\tbest: 0.8394516 (898)\ttotal: 37.3s\tremaining: 16.5s\n",
      "1000:\ttest: 0.8701787\ttest1: 0.8396413\tbest: 0.8396441 (998)\ttotal: 41.3s\tremaining: 12.3s\n",
      "1100:\ttest: 0.8729289\ttest1: 0.8399172\tbest: 0.8399313 (1092)\ttotal: 45.2s\tremaining: 8.17s\n",
      "1200:\ttest: 0.8757636\ttest1: 0.8400380\tbest: 0.8400380 (1200)\ttotal: 49.6s\tremaining: 4.09s\n",
      "1299:\ttest: 0.8783179\ttest1: 0.8401252\tbest: 0.8401542 (1288)\ttotal: 53.8s\tremaining: 0us\n",
      "\n",
      "bestTest = 0.8401541828\n",
      "bestIteration = 1288\n",
      "\n",
      "Shrink model to first 1289 iterations.\n",
      "err:  0.8401541827934864\n",
      "0:\ttest: 0.7753922\ttest1: 0.7742579\tbest: 0.7742579 (0)\ttotal: 41.7ms\tremaining: 54.2s\n",
      "100:\ttest: 0.8353202\ttest1: 0.8283309\tbest: 0.8283309 (100)\ttotal: 4.38s\tremaining: 52s\n",
      "200:\ttest: 0.8417419\ttest1: 0.8318546\tbest: 0.8318546 (200)\ttotal: 8.39s\tremaining: 45.9s\n",
      "300:\ttest: 0.8461838\ttest1: 0.8339534\tbest: 0.8339534 (300)\ttotal: 12.5s\tremaining: 41.5s\n",
      "400:\ttest: 0.8504419\ttest1: 0.8356973\tbest: 0.8356973 (400)\ttotal: 16.7s\tremaining: 37.3s\n",
      "500:\ttest: 0.8546643\ttest1: 0.8366398\tbest: 0.8366682 (497)\ttotal: 20.6s\tremaining: 32.9s\n",
      "600:\ttest: 0.8581914\ttest1: 0.8371063\tbest: 0.8371066 (597)\ttotal: 24.6s\tremaining: 28.6s\n",
      "700:\ttest: 0.8616563\ttest1: 0.8374492\tbest: 0.8374565 (699)\ttotal: 28.7s\tremaining: 24.5s\n",
      "800:\ttest: 0.8648067\ttest1: 0.8377752\tbest: 0.8377867 (798)\ttotal: 32.7s\tremaining: 20.4s\n",
      "900:\ttest: 0.8679257\ttest1: 0.8379772\tbest: 0.8379772 (900)\ttotal: 36.9s\tremaining: 16.3s\n",
      "1000:\ttest: 0.8708188\ttest1: 0.8380485\tbest: 0.8380563 (998)\ttotal: 40.9s\tremaining: 12.2s\n",
      "1100:\ttest: 0.8736277\ttest1: 0.8383023\tbest: 0.8383282 (1093)\ttotal: 45s\tremaining: 8.13s\n",
      "1200:\ttest: 0.8763912\ttest1: 0.8382948\tbest: 0.8383452 (1130)\ttotal: 49.3s\tremaining: 4.06s\n",
      "1299:\ttest: 0.8789516\ttest1: 0.8384643\tbest: 0.8384666 (1298)\ttotal: 53.4s\tremaining: 0us\n",
      "\n",
      "bestTest = 0.8384665579\n",
      "bestIteration = 1298\n",
      "\n",
      "Shrink model to first 1299 iterations.\n",
      "err:  0.8384665578562167\n",
      "0:\ttest: 0.7847429\ttest1: 0.7882579\tbest: 0.7882579 (0)\ttotal: 42.6ms\tremaining: 55.4s\n",
      "100:\ttest: 0.8325544\ttest1: 0.8322831\tbest: 0.8322831 (100)\ttotal: 4.55s\tremaining: 54s\n",
      "200:\ttest: 0.8385030\ttest1: 0.8364239\tbest: 0.8364239 (200)\ttotal: 8.89s\tremaining: 48.6s\n",
      "300:\ttest: 0.8429997\ttest1: 0.8388116\tbest: 0.8388116 (300)\ttotal: 12.9s\tremaining: 42.8s\n",
      "400:\ttest: 0.8473398\ttest1: 0.8404331\tbest: 0.8404331 (400)\ttotal: 17s\tremaining: 38.1s\n",
      "500:\ttest: 0.8517483\ttest1: 0.8416255\tbest: 0.8416269 (498)\ttotal: 21.2s\tremaining: 33.7s\n",
      "600:\ttest: 0.8557960\ttest1: 0.8422216\tbest: 0.8422216 (600)\ttotal: 25.1s\tremaining: 29.2s\n",
      "700:\ttest: 0.8595578\ttest1: 0.8427255\tbest: 0.8427537 (694)\ttotal: 29.3s\tremaining: 25s\n",
      "800:\ttest: 0.8629236\ttest1: 0.8430754\tbest: 0.8430781 (798)\ttotal: 33.3s\tremaining: 20.7s\n",
      "900:\ttest: 0.8661808\ttest1: 0.8433051\tbest: 0.8433051 (900)\ttotal: 37.5s\tremaining: 16.6s\n",
      "1000:\ttest: 0.8691759\ttest1: 0.8433113\tbest: 0.8433894 (991)\ttotal: 41.6s\tremaining: 12.4s\n",
      "1100:\ttest: 0.8720452\ttest1: 0.8433558\tbest: 0.8433894 (991)\ttotal: 45.5s\tremaining: 8.23s\n",
      "1200:\ttest: 0.8747818\ttest1: 0.8433738\tbest: 0.8433964 (1153)\ttotal: 49.6s\tremaining: 4.09s\n",
      "1299:\ttest: 0.8775888\ttest1: 0.8434466\tbest: 0.8434467 (1298)\ttotal: 53.7s\tremaining: 0us\n",
      "\n",
      "bestTest = 0.8434466591\n",
      "bestIteration = 1298\n",
      "\n",
      "Shrink model to first 1299 iterations.\n",
      "err:  0.8434466591477077\n"
     ]
    }
   ],
   "source": [
    "errcb=[]\n",
    "y_pred_totcb=[]\n",
    "fold=StratifiedKFold(n_splits=3, shuffle=True, random_state=42)\n",
    "i=1\n",
    "for train_index, test_index in fold.split(X,y):\n",
    "    train_X, valid_X = X.iloc[train_index], X.iloc[test_index]\n",
    "    train_y, valid_y = y[train_index], y[test_index]\n",
    "    m=CatBoostClassifier(n_estimators=1300,eval_metric='AUC',depth=5,scale_pos_weight= 1.4,l2_leaf_reg = 16,\n",
    "                         bootstrap_type = 'Bernoulli', use_best_model=True)\n",
    "    m.fit(train_X,train_y, cat_features = categorical_features_indices, eval_set=[(train_X,train_y),(valid_X, valid_y)], \n",
    "          early_stopping_rounds=250,verbose=100)\n",
    "    preds=m.predict_proba(valid_X)[:, 1]\n",
    "    print(\"err: \",roc_auc_score(valid_y,preds))\n",
    "    errcb.append(roc_auc_score(valid_y,preds))\n",
    "    p = m.predict_proba(test)[:, 1]\n",
    "    y_pred_totcb.append(p)"
   ]
  },
  {
   "cell_type": "code",
   "execution_count": 40,
   "metadata": {
    "execution": {
     "iopub.execute_input": "2020-10-03T12:04:29.099065Z",
     "iopub.status.busy": "2020-10-03T12:04:29.097855Z",
     "iopub.status.idle": "2020-10-03T12:04:29.101618Z",
     "shell.execute_reply": "2020-10-03T12:04:29.102180Z"
    },
    "papermill": {
     "duration": 0.18167,
     "end_time": "2020-10-03T12:04:29.102339",
     "exception": false,
     "start_time": "2020-10-03T12:04:28.920669",
     "status": "completed"
    },
    "tags": []
   },
   "outputs": [
    {
     "data": {
      "text/plain": [
       "0.8406891332658036"
      ]
     },
     "execution_count": 40,
     "metadata": {},
     "output_type": "execute_result"
    }
   ],
   "source": [
    "np.mean(errcb)"
   ]
  },
  {
   "cell_type": "code",
   "execution_count": 41,
   "metadata": {
    "execution": {
     "iopub.execute_input": "2020-10-03T12:04:29.457985Z",
     "iopub.status.busy": "2020-10-03T12:04:29.457188Z",
     "iopub.status.idle": "2020-10-03T12:07:45.301465Z",
     "shell.execute_reply": "2020-10-03T12:07:45.300554Z"
    },
    "papermill": {
     "duration": 196.027891,
     "end_time": "2020-10-03T12:07:45.301637",
     "exception": false,
     "start_time": "2020-10-03T12:04:29.273746",
     "status": "completed"
    },
    "tags": []
   },
   "outputs": [
    {
     "name": "stdout",
     "output_type": "stream",
     "text": [
      "0:\ttest: 0.7832917\ttest1: 0.7824170\tbest: 0.7824170 (0)\ttotal: 35.8ms\tremaining: 1m\n",
      "100:\ttest: 0.8317543\ttest1: 0.8270401\tbest: 0.8270401 (100)\ttotal: 3.72s\tremaining: 58.9s\n",
      "200:\ttest: 0.8376378\ttest1: 0.8318742\tbest: 0.8318742 (200)\ttotal: 7.79s\tremaining: 58.1s\n",
      "300:\ttest: 0.8415694\ttest1: 0.8342350\tbest: 0.8342350 (300)\ttotal: 11.7s\tremaining: 54.5s\n",
      "400:\ttest: 0.8448805\ttest1: 0.8358806\tbest: 0.8358806 (400)\ttotal: 15.5s\tremaining: 50.2s\n",
      "500:\ttest: 0.8477032\ttest1: 0.8367823\tbest: 0.8367823 (500)\ttotal: 19.1s\tremaining: 45.7s\n",
      "600:\ttest: 0.8502254\ttest1: 0.8375427\tbest: 0.8375427 (600)\ttotal: 22.8s\tremaining: 41.6s\n",
      "700:\ttest: 0.8524453\ttest1: 0.8380676\tbest: 0.8380676 (700)\ttotal: 26.5s\tremaining: 37.7s\n",
      "800:\ttest: 0.8543051\ttest1: 0.8384943\tbest: 0.8384966 (799)\ttotal: 30.2s\tremaining: 33.9s\n",
      "900:\ttest: 0.8561463\ttest1: 0.8387615\tbest: 0.8387666 (899)\ttotal: 33.9s\tremaining: 30.1s\n",
      "1000:\ttest: 0.8580903\ttest1: 0.8390885\tbest: 0.8390927 (991)\ttotal: 37.7s\tremaining: 26.3s\n",
      "1100:\ttest: 0.8597840\ttest1: 0.8393181\tbest: 0.8393181 (1100)\ttotal: 41.3s\tremaining: 22.5s\n",
      "1200:\ttest: 0.8614129\ttest1: 0.8394336\tbest: 0.8394450 (1197)\ttotal: 45s\tremaining: 18.7s\n",
      "1300:\ttest: 0.8628952\ttest1: 0.8395117\tbest: 0.8395117 (1300)\ttotal: 48.7s\tremaining: 14.9s\n",
      "1400:\ttest: 0.8642927\ttest1: 0.8395759\tbest: 0.8395851 (1398)\ttotal: 52.4s\tremaining: 11.2s\n",
      "1500:\ttest: 0.8657568\ttest1: 0.8397188\tbest: 0.8397257 (1499)\ttotal: 56s\tremaining: 7.43s\n",
      "1600:\ttest: 0.8671431\ttest1: 0.8397846\tbest: 0.8397882 (1598)\ttotal: 59.9s\tremaining: 3.7s\n",
      "1699:\ttest: 0.8685057\ttest1: 0.8399195\tbest: 0.8399341 (1673)\ttotal: 1m 3s\tremaining: 0us\n",
      "\n",
      "bestTest = 0.8399340946\n",
      "bestIteration = 1673\n",
      "\n",
      "Shrink model to first 1674 iterations.\n",
      "err:  0.8399340945719849\n",
      "0:\ttest: 0.7758070\ttest1: 0.7735430\tbest: 0.7735430 (0)\ttotal: 46.3ms\tremaining: 1m 18s\n",
      "100:\ttest: 0.8330106\ttest1: 0.8274455\tbest: 0.8274455 (100)\ttotal: 3.98s\tremaining: 1m 2s\n",
      "200:\ttest: 0.8384512\ttest1: 0.8308417\tbest: 0.8308463 (199)\ttotal: 8.04s\tremaining: 59.9s\n",
      "300:\ttest: 0.8421329\ttest1: 0.8331536\tbest: 0.8331536 (300)\ttotal: 11.8s\tremaining: 54.8s\n",
      "400:\ttest: 0.8455219\ttest1: 0.8345513\tbest: 0.8345513 (400)\ttotal: 15.3s\tremaining: 49.6s\n",
      "500:\ttest: 0.8484260\ttest1: 0.8356610\tbest: 0.8356610 (500)\ttotal: 19.1s\tremaining: 45.6s\n",
      "600:\ttest: 0.8508663\ttest1: 0.8361997\tbest: 0.8362063 (594)\ttotal: 22.7s\tremaining: 41.5s\n",
      "700:\ttest: 0.8529611\ttest1: 0.8367572\tbest: 0.8367572 (700)\ttotal: 26.3s\tremaining: 37.5s\n",
      "800:\ttest: 0.8550650\ttest1: 0.8371164\tbest: 0.8371178 (799)\ttotal: 30.2s\tremaining: 33.9s\n",
      "900:\ttest: 0.8568719\ttest1: 0.8372953\tbest: 0.8372953 (900)\ttotal: 33.9s\tremaining: 30.1s\n",
      "1000:\ttest: 0.8584991\ttest1: 0.8374141\tbest: 0.8374412 (996)\ttotal: 37.6s\tremaining: 26.2s\n",
      "1100:\ttest: 0.8600607\ttest1: 0.8376292\tbest: 0.8376362 (1098)\ttotal: 41.3s\tremaining: 22.5s\n",
      "1200:\ttest: 0.8617947\ttest1: 0.8378532\tbest: 0.8378532 (1200)\ttotal: 45s\tremaining: 18.7s\n",
      "1300:\ttest: 0.8633886\ttest1: 0.8379476\tbest: 0.8379536 (1286)\ttotal: 48.7s\tremaining: 14.9s\n",
      "1400:\ttest: 0.8648826\ttest1: 0.8380706\tbest: 0.8380901 (1394)\ttotal: 52.5s\tremaining: 11.2s\n",
      "1500:\ttest: 0.8662784\ttest1: 0.8381083\tbest: 0.8381387 (1460)\ttotal: 56.2s\tremaining: 7.45s\n",
      "1600:\ttest: 0.8676032\ttest1: 0.8381217\tbest: 0.8381597 (1552)\ttotal: 1m\tremaining: 3.73s\n",
      "1699:\ttest: 0.8689020\ttest1: 0.8381691\tbest: 0.8381809 (1681)\ttotal: 1m 4s\tremaining: 0us\n",
      "\n",
      "bestTest = 0.8381809071\n",
      "bestIteration = 1681\n",
      "\n",
      "Shrink model to first 1682 iterations.\n",
      "err:  0.8381809071489335\n",
      "0:\ttest: 0.7772068\ttest1: 0.7769275\tbest: 0.7769275 (0)\ttotal: 36.7ms\tremaining: 1m 2s\n",
      "100:\ttest: 0.8298770\ttest1: 0.8305640\tbest: 0.8305640 (100)\ttotal: 3.9s\tremaining: 1m 1s\n",
      "200:\ttest: 0.8354927\ttest1: 0.8350342\tbest: 0.8350342 (200)\ttotal: 7.71s\tremaining: 57.5s\n",
      "300:\ttest: 0.8392877\ttest1: 0.8375988\tbest: 0.8375988 (300)\ttotal: 11.4s\tremaining: 52.9s\n",
      "400:\ttest: 0.8424748\ttest1: 0.8392191\tbest: 0.8392191 (400)\ttotal: 15.1s\tremaining: 48.9s\n",
      "500:\ttest: 0.8454937\ttest1: 0.8404633\tbest: 0.8404633 (500)\ttotal: 18.9s\tremaining: 45.3s\n",
      "600:\ttest: 0.8479413\ttest1: 0.8411850\tbest: 0.8411850 (600)\ttotal: 22.7s\tremaining: 41.5s\n",
      "700:\ttest: 0.8501894\ttest1: 0.8417163\tbest: 0.8417330 (696)\ttotal: 26.5s\tremaining: 37.8s\n",
      "800:\ttest: 0.8523230\ttest1: 0.8422584\tbest: 0.8422584 (800)\ttotal: 30.3s\tremaining: 34s\n",
      "900:\ttest: 0.8542264\ttest1: 0.8425421\tbest: 0.8425556 (897)\ttotal: 34s\tremaining: 30.2s\n",
      "1000:\ttest: 0.8560927\ttest1: 0.8427065\tbest: 0.8427200 (998)\ttotal: 37.8s\tremaining: 26.4s\n",
      "1100:\ttest: 0.8578795\ttest1: 0.8429167\tbest: 0.8429273 (1095)\ttotal: 41.9s\tremaining: 22.8s\n",
      "1200:\ttest: 0.8595499\ttest1: 0.8430606\tbest: 0.8430769 (1178)\ttotal: 46s\tremaining: 19.1s\n",
      "1300:\ttest: 0.8611566\ttest1: 0.8431756\tbest: 0.8431859 (1285)\ttotal: 49.7s\tremaining: 15.2s\n",
      "1400:\ttest: 0.8626717\ttest1: 0.8432312\tbest: 0.8432992 (1351)\ttotal: 53.5s\tremaining: 11.4s\n",
      "1500:\ttest: 0.8641667\ttest1: 0.8432154\tbest: 0.8432992 (1351)\ttotal: 57.8s\tremaining: 7.66s\n",
      "1600:\ttest: 0.8656051\ttest1: 0.8432782\tbest: 0.8433134 (1586)\ttotal: 1m 1s\tremaining: 3.82s\n",
      "1699:\ttest: 0.8670758\ttest1: 0.8432883\tbest: 0.8433420 (1670)\ttotal: 1m 5s\tremaining: 0us\n",
      "\n",
      "bestTest = 0.8433419846\n",
      "bestIteration = 1670\n",
      "\n",
      "Shrink model to first 1671 iterations.\n",
      "err:  0.8433419845597223\n"
     ]
    }
   ],
   "source": [
    "errcb1=[]\n",
    "y_pred_totcb1=[]\n",
    "fold=StratifiedKFold(n_splits=3, shuffle=True, random_state=42)\n",
    "i=1\n",
    "for train_index, test_index in fold.split(X,y):\n",
    "    train_X, valid_X = X.iloc[train_index], X.iloc[test_index]\n",
    "    train_y, valid_y = y[train_index], y[test_index]\n",
    "    m1=CatBoostClassifier(n_estimators=1700,eval_metric='AUC',depth=4,scale_pos_weight = 1.4,l2_leaf_reg = 16, \n",
    "                          use_best_model=True,bootstrap_type='Bayesian')\n",
    "    m1.fit(train_X,train_y,cat_features = categorical_features_indices, eval_set=[(train_X,train_y),(valid_X, valid_y)], \n",
    "           early_stopping_rounds=250,verbose=100)\n",
    "    preds=m1.predict_proba(valid_X)[:, 1]\n",
    "    print(\"err: \",roc_auc_score(valid_y,preds))\n",
    "    errcb1.append(roc_auc_score(valid_y,preds))\n",
    "    p1 = m1.predict_proba(test)[:, 1]\n",
    "    y_pred_totcb1.append(p1)"
   ]
  },
  {
   "cell_type": "code",
   "execution_count": 42,
   "metadata": {
    "execution": {
     "iopub.execute_input": "2020-10-03T12:07:45.694479Z",
     "iopub.status.busy": "2020-10-03T12:07:45.693143Z",
     "iopub.status.idle": "2020-10-03T12:07:45.698034Z",
     "shell.execute_reply": "2020-10-03T12:07:45.697237Z"
    },
    "papermill": {
     "duration": 0.205487,
     "end_time": "2020-10-03T12:07:45.698166",
     "exception": false,
     "start_time": "2020-10-03T12:07:45.492679",
     "status": "completed"
    },
    "tags": []
   },
   "outputs": [
    {
     "data": {
      "text/plain": [
       "0.8404856620935469"
      ]
     },
     "execution_count": 42,
     "metadata": {},
     "output_type": "execute_result"
    }
   ],
   "source": [
    "np.mean(errcb1)"
   ]
  },
  {
   "cell_type": "code",
   "execution_count": 43,
   "metadata": {
    "execution": {
     "iopub.execute_input": "2020-10-03T12:07:46.108814Z",
     "iopub.status.busy": "2020-10-03T12:07:46.105901Z",
     "iopub.status.idle": "2020-10-03T12:07:46.142585Z",
     "shell.execute_reply": "2020-10-03T12:07:46.141413Z"
    },
    "papermill": {
     "duration": 0.250179,
     "end_time": "2020-10-03T12:07:46.142793",
     "exception": false,
     "start_time": "2020-10-03T12:07:45.892614",
     "status": "completed"
    },
    "tags": []
   },
   "outputs": [],
   "source": [
    "train = pd.get_dummies(train, drop_first = True)\n",
    "test = pd.get_dummies(test, drop_first = True)"
   ]
  },
  {
   "cell_type": "code",
   "execution_count": 44,
   "metadata": {
    "execution": {
     "iopub.execute_input": "2020-10-03T12:07:46.540591Z",
     "iopub.status.busy": "2020-10-03T12:07:46.539720Z",
     "iopub.status.idle": "2020-10-03T12:07:46.578509Z",
     "shell.execute_reply": "2020-10-03T12:07:46.577668Z"
    },
    "papermill": {
     "duration": 0.23561,
     "end_time": "2020-10-03T12:07:46.578640",
     "exception": false,
     "start_time": "2020-10-03T12:07:46.343030",
     "status": "completed"
    },
    "tags": []
   },
   "outputs": [],
   "source": [
    "X = train.drop(columns=['default_status'])\n",
    "y = train['default_status']\n",
    "#train_X, valid_X, train_y, valid_y = train_test_split(X, y, test_size = 0.4, random_state = 24)"
   ]
  },
  {
   "cell_type": "code",
   "execution_count": 45,
   "metadata": {
    "execution": {
     "iopub.execute_input": "2020-10-03T12:07:46.975165Z",
     "iopub.status.busy": "2020-10-03T12:07:46.974379Z",
     "iopub.status.idle": "2020-10-03T12:10:43.772598Z",
     "shell.execute_reply": "2020-10-03T12:10:43.773383Z"
    },
    "papermill": {
     "duration": 177.004151,
     "end_time": "2020-10-03T12:10:43.773589",
     "exception": false,
     "start_time": "2020-10-03T12:07:46.769438",
     "status": "completed"
    },
    "tags": []
   },
   "outputs": [
    {
     "name": "stdout",
     "output_type": "stream",
     "text": [
      "[12:07:47] WARNING: ../src/learner.cc:516: \n",
      "Parameters: { metrics, scape_pos_weight, silent } might not be used.\n",
      "\n",
      "  This may not be accurate due to some parameters are only used in language bindings but\n",
      "  passed down to XGBoost core.  Or some parameters are not used but slip through this\n",
      "  verification. Please open an issue if you find above cases.\n",
      "\n",
      "\n",
      "[0]\tvalidation_0-error:0.20348\tvalidation_1-error:0.21098\n",
      "Multiple eval metrics have been passed: 'validation_1-error' will be used for early stopping.\n",
      "\n",
      "Will train until validation_1-error hasn't improved in 250 rounds.\n",
      "[100]\tvalidation_0-error:0.15455\tvalidation_1-error:0.19518\n",
      "[200]\tvalidation_0-error:0.12730\tvalidation_1-error:0.19366\n",
      "[300]\tvalidation_0-error:0.10424\tvalidation_1-error:0.19357\n",
      "[400]\tvalidation_0-error:0.08600\tvalidation_1-error:0.19616\n",
      "Stopping. Best iteration:\n",
      "[245]\tvalidation_0-error:0.11714\tvalidation_1-error:0.19179\n",
      "\n",
      "err:  0.8337825833425261\n",
      "[12:08:32] WARNING: ../src/learner.cc:516: \n",
      "Parameters: { metrics, scape_pos_weight, silent } might not be used.\n",
      "\n",
      "  This may not be accurate due to some parameters are only used in language bindings but\n",
      "  passed down to XGBoost core.  Or some parameters are not used but slip through this\n",
      "  verification. Please open an issue if you find above cases.\n",
      "\n",
      "\n",
      "[0]\tvalidation_0-error:0.20013\tvalidation_1-error:0.21580\n",
      "Multiple eval metrics have been passed: 'validation_1-error' will be used for early stopping.\n",
      "\n",
      "Will train until validation_1-error hasn't improved in 250 rounds.\n",
      "[100]\tvalidation_0-error:0.15455\tvalidation_1-error:0.19679\n",
      "[200]\tvalidation_0-error:0.12862\tvalidation_1-error:0.19714\n",
      "[300]\tvalidation_0-error:0.10522\tvalidation_1-error:0.19812\n",
      "[400]\tvalidation_0-error:0.08600\tvalidation_1-error:0.19875\n",
      "Stopping. Best iteration:\n",
      "[160]\tvalidation_0-error:0.13882\tvalidation_1-error:0.19411\n",
      "\n",
      "err:  0.8340044728426981\n",
      "[12:09:08] WARNING: ../src/learner.cc:516: \n",
      "Parameters: { metrics, scape_pos_weight, silent } might not be used.\n",
      "\n",
      "  This may not be accurate due to some parameters are only used in language bindings but\n",
      "  passed down to XGBoost core.  Or some parameters are not used but slip through this\n",
      "  verification. Please open an issue if you find above cases.\n",
      "\n",
      "\n",
      "[0]\tvalidation_0-error:0.20056\tvalidation_1-error:0.22000\n",
      "Multiple eval metrics have been passed: 'validation_1-error' will be used for early stopping.\n",
      "\n",
      "Will train until validation_1-error hasn't improved in 250 rounds.\n",
      "[100]\tvalidation_0-error:0.15766\tvalidation_1-error:0.19821\n",
      "[200]\tvalidation_0-error:0.13118\tvalidation_1-error:0.19920\n",
      "[300]\tvalidation_0-error:0.10998\tvalidation_1-error:0.19955\n",
      "[400]\tvalidation_0-error:0.08837\tvalidation_1-error:0.19902\n",
      "Stopping. Best iteration:\n",
      "[153]\tvalidation_0-error:0.14301\tvalidation_1-error:0.19687\n",
      "\n",
      "err:  0.8365391290884387\n",
      "[12:09:42] WARNING: ../src/learner.cc:516: \n",
      "Parameters: { metrics, scape_pos_weight, silent } might not be used.\n",
      "\n",
      "  This may not be accurate due to some parameters are only used in language bindings but\n",
      "  passed down to XGBoost core.  Or some parameters are not used but slip through this\n",
      "  verification. Please open an issue if you find above cases.\n",
      "\n",
      "\n",
      "[0]\tvalidation_0-error:0.19924\tvalidation_1-error:0.22616\n",
      "Multiple eval metrics have been passed: 'validation_1-error' will be used for early stopping.\n",
      "\n",
      "Will train until validation_1-error hasn't improved in 250 rounds.\n",
      "[100]\tvalidation_0-error:0.15196\tvalidation_1-error:0.20759\n",
      "[200]\tvalidation_0-error:0.12462\tvalidation_1-error:0.20688\n",
      "[300]\tvalidation_0-error:0.10181\tvalidation_1-error:0.21000\n",
      "Stopping. Best iteration:\n",
      "[125]\tvalidation_0-error:0.14529\tvalidation_1-error:0.20571\n",
      "\n",
      "err:  0.8281241511090454\n",
      "[12:10:14] WARNING: ../src/learner.cc:516: \n",
      "Parameters: { metrics, scape_pos_weight, silent } might not be used.\n",
      "\n",
      "  This may not be accurate due to some parameters are only used in language bindings but\n",
      "  passed down to XGBoost core.  Or some parameters are not used but slip through this\n",
      "  verification. Please open an issue if you find above cases.\n",
      "\n",
      "\n",
      "[0]\tvalidation_0-error:0.20813\tvalidation_1-error:0.18500\n",
      "Multiple eval metrics have been passed: 'validation_1-error' will be used for early stopping.\n",
      "\n",
      "Will train until validation_1-error hasn't improved in 250 rounds.\n",
      "[100]\tvalidation_0-error:0.16156\tvalidation_1-error:0.16670\n",
      "[200]\tvalidation_0-error:0.13330\tvalidation_1-error:0.17027\n",
      "[300]\tvalidation_0-error:0.11056\tvalidation_1-error:0.17089\n",
      "Stopping. Best iteration:\n",
      "[101]\tvalidation_0-error:0.16156\tvalidation_1-error:0.16643\n",
      "\n",
      "err:  0.8467779455157456\n"
     ]
    }
   ],
   "source": [
    "errcb2=[]\n",
    "y_pred_totcb2=[]\n",
    "fold=KFold(n_splits=5)\n",
    "i=1\n",
    "for train_index, test_index in fold.split(X,y):\n",
    "    train_X, valid_X = X.iloc[train_index], X.iloc[test_index]\n",
    "    train_y, valid_y = y[train_index], y[test_index]\n",
    "    m2=XGBClassifier(max_depth=6, learning_rate=0.1, n_estimators=2150, scape_pos_weight = 1.4, silent=True, \n",
    "                     metrics='AUC',colsample_bylevel=0.8, reg_alpha=0.8)\n",
    "    m2.fit(train_X,train_y,eval_set=[(train_X,train_y),(valid_X, valid_y)], early_stopping_rounds=250,verbose=100)\n",
    "    preds=m2.predict_proba(valid_X)[:, 1]\n",
    "    print(\"err: \",roc_auc_score(valid_y,preds))\n",
    "    errcb2.append(roc_auc_score(valid_y,preds))\n",
    "    p2 = m2.predict_proba(test)[:, 1]\n",
    "    y_pred_totcb2.append(p2)"
   ]
  },
  {
   "cell_type": "code",
   "execution_count": 46,
   "metadata": {
    "execution": {
     "iopub.execute_input": "2020-10-03T12:10:44.243851Z",
     "iopub.status.busy": "2020-10-03T12:10:44.242955Z",
     "iopub.status.idle": "2020-10-03T12:10:44.247744Z",
     "shell.execute_reply": "2020-10-03T12:10:44.247014Z"
    },
    "papermill": {
     "duration": 0.227383,
     "end_time": "2020-10-03T12:10:44.247891",
     "exception": false,
     "start_time": "2020-10-03T12:10:44.020508",
     "status": "completed"
    },
    "tags": []
   },
   "outputs": [
    {
     "data": {
      "text/plain": [
       "0.8358456563796907"
      ]
     },
     "execution_count": 46,
     "metadata": {},
     "output_type": "execute_result"
    }
   ],
   "source": [
    "np.mean(errcb2)"
   ]
  },
  {
   "cell_type": "code",
   "execution_count": 47,
   "metadata": {
    "execution": {
     "iopub.execute_input": "2020-10-03T12:10:44.690464Z",
     "iopub.status.busy": "2020-10-03T12:10:44.689655Z",
     "iopub.status.idle": "2020-10-03T12:10:44.697664Z",
     "shell.execute_reply": "2020-10-03T12:10:44.696892Z"
    },
    "papermill": {
     "duration": 0.226703,
     "end_time": "2020-10-03T12:10:44.697788",
     "exception": false,
     "start_time": "2020-10-03T12:10:44.471085",
     "status": "completed"
    },
    "tags": []
   },
   "outputs": [],
   "source": [
    "d = {\"Applicant_ID\": sub['Applicant_ID'], 'default_status': np.mean(y_pred_totcb, 0)}\n",
    "test_predictions = pd.DataFrame(data=d)\n",
    "test_predictions = test_predictions[[\"Applicant_ID\", 'default_status']]"
   ]
  },
  {
   "cell_type": "code",
   "execution_count": 48,
   "metadata": {
    "execution": {
     "iopub.execute_input": "2020-10-03T12:10:45.147100Z",
     "iopub.status.busy": "2020-10-03T12:10:45.146186Z",
     "iopub.status.idle": "2020-10-03T12:10:45.288580Z",
     "shell.execute_reply": "2020-10-03T12:10:45.287907Z"
    },
    "papermill": {
     "duration": 0.374522,
     "end_time": "2020-10-03T12:10:45.288720",
     "exception": false,
     "start_time": "2020-10-03T12:10:44.914198",
     "status": "completed"
    },
    "tags": []
   },
   "outputs": [],
   "source": [
    "test_predictions.to_csv('in40.csv', index = False)"
   ]
  },
  {
   "cell_type": "code",
   "execution_count": 49,
   "metadata": {
    "execution": {
     "iopub.execute_input": "2020-10-03T12:10:45.735985Z",
     "iopub.status.busy": "2020-10-03T12:10:45.734756Z",
     "iopub.status.idle": "2020-10-03T12:10:45.739865Z",
     "shell.execute_reply": "2020-10-03T12:10:45.739305Z"
    },
    "papermill": {
     "duration": 0.231668,
     "end_time": "2020-10-03T12:10:45.740027",
     "exception": false,
     "start_time": "2020-10-03T12:10:45.508359",
     "status": "completed"
    },
    "tags": []
   },
   "outputs": [
    {
     "data": {
      "text/html": [
       "<div>\n",
       "<style scoped>\n",
       "    .dataframe tbody tr th:only-of-type {\n",
       "        vertical-align: middle;\n",
       "    }\n",
       "\n",
       "    .dataframe tbody tr th {\n",
       "        vertical-align: top;\n",
       "    }\n",
       "\n",
       "    .dataframe thead th {\n",
       "        text-align: right;\n",
       "    }\n",
       "</style>\n",
       "<table border=\"1\" class=\"dataframe\">\n",
       "  <thead>\n",
       "    <tr style=\"text-align: right;\">\n",
       "      <th></th>\n",
       "      <th>Applicant_ID</th>\n",
       "      <th>default_status</th>\n",
       "    </tr>\n",
       "  </thead>\n",
       "  <tbody>\n",
       "    <tr>\n",
       "      <th>0</th>\n",
       "      <td>Apcnt_1000032</td>\n",
       "      <td>0.382207</td>\n",
       "    </tr>\n",
       "    <tr>\n",
       "      <th>1</th>\n",
       "      <td>Apcnt_1000048</td>\n",
       "      <td>0.444894</td>\n",
       "    </tr>\n",
       "    <tr>\n",
       "      <th>2</th>\n",
       "      <td>Apcnt_1000052</td>\n",
       "      <td>0.494675</td>\n",
       "    </tr>\n",
       "    <tr>\n",
       "      <th>3</th>\n",
       "      <td>Apcnt_1000076</td>\n",
       "      <td>0.815815</td>\n",
       "    </tr>\n",
       "    <tr>\n",
       "      <th>4</th>\n",
       "      <td>Apcnt_1000080</td>\n",
       "      <td>0.244083</td>\n",
       "    </tr>\n",
       "  </tbody>\n",
       "</table>\n",
       "</div>"
      ],
      "text/plain": [
       "    Applicant_ID  default_status\n",
       "0  Apcnt_1000032        0.382207\n",
       "1  Apcnt_1000048        0.444894\n",
       "2  Apcnt_1000052        0.494675\n",
       "3  Apcnt_1000076        0.815815\n",
       "4  Apcnt_1000080        0.244083"
      ]
     },
     "execution_count": 49,
     "metadata": {},
     "output_type": "execute_result"
    }
   ],
   "source": [
    "test_predictions.head()"
   ]
  },
  {
   "cell_type": "code",
   "execution_count": 50,
   "metadata": {
    "execution": {
     "iopub.execute_input": "2020-10-03T12:10:46.179076Z",
     "iopub.status.busy": "2020-10-03T12:10:46.178269Z",
     "iopub.status.idle": "2020-10-03T12:10:46.185399Z",
     "shell.execute_reply": "2020-10-03T12:10:46.184773Z"
    },
    "papermill": {
     "duration": 0.230133,
     "end_time": "2020-10-03T12:10:46.185539",
     "exception": false,
     "start_time": "2020-10-03T12:10:45.955406",
     "status": "completed"
    },
    "tags": []
   },
   "outputs": [],
   "source": [
    "d = {\"Applicant_ID\": sub['Applicant_ID'], 'default_status': np.mean(y_pred_totcb1, 0)}\n",
    "test_predictioned = pd.DataFrame(data=d)\n",
    "test_predictioned = test_predictioned[[\"Applicant_ID\", 'default_status']]"
   ]
  },
  {
   "cell_type": "code",
   "execution_count": 51,
   "metadata": {
    "execution": {
     "iopub.execute_input": "2020-10-03T12:10:46.631138Z",
     "iopub.status.busy": "2020-10-03T12:10:46.630278Z",
     "iopub.status.idle": "2020-10-03T12:10:46.754297Z",
     "shell.execute_reply": "2020-10-03T12:10:46.753470Z"
    },
    "papermill": {
     "duration": 0.349381,
     "end_time": "2020-10-03T12:10:46.754432",
     "exception": false,
     "start_time": "2020-10-03T12:10:46.405051",
     "status": "completed"
    },
    "tags": []
   },
   "outputs": [],
   "source": [
    "test_predictioned.to_csv('in41.csv', index = False)"
   ]
  },
  {
   "cell_type": "code",
   "execution_count": 52,
   "metadata": {
    "execution": {
     "iopub.execute_input": "2020-10-03T12:10:47.192717Z",
     "iopub.status.busy": "2020-10-03T12:10:47.191844Z",
     "iopub.status.idle": "2020-10-03T12:10:47.196253Z",
     "shell.execute_reply": "2020-10-03T12:10:47.196802Z"
    },
    "papermill": {
     "duration": 0.228461,
     "end_time": "2020-10-03T12:10:47.196992",
     "exception": false,
     "start_time": "2020-10-03T12:10:46.968531",
     "status": "completed"
    },
    "tags": []
   },
   "outputs": [
    {
     "data": {
      "text/html": [
       "<div>\n",
       "<style scoped>\n",
       "    .dataframe tbody tr th:only-of-type {\n",
       "        vertical-align: middle;\n",
       "    }\n",
       "\n",
       "    .dataframe tbody tr th {\n",
       "        vertical-align: top;\n",
       "    }\n",
       "\n",
       "    .dataframe thead th {\n",
       "        text-align: right;\n",
       "    }\n",
       "</style>\n",
       "<table border=\"1\" class=\"dataframe\">\n",
       "  <thead>\n",
       "    <tr style=\"text-align: right;\">\n",
       "      <th></th>\n",
       "      <th>Applicant_ID</th>\n",
       "      <th>default_status</th>\n",
       "    </tr>\n",
       "  </thead>\n",
       "  <tbody>\n",
       "    <tr>\n",
       "      <th>0</th>\n",
       "      <td>Apcnt_1000032</td>\n",
       "      <td>0.395296</td>\n",
       "    </tr>\n",
       "    <tr>\n",
       "      <th>1</th>\n",
       "      <td>Apcnt_1000048</td>\n",
       "      <td>0.432347</td>\n",
       "    </tr>\n",
       "    <tr>\n",
       "      <th>2</th>\n",
       "      <td>Apcnt_1000052</td>\n",
       "      <td>0.471471</td>\n",
       "    </tr>\n",
       "    <tr>\n",
       "      <th>3</th>\n",
       "      <td>Apcnt_1000076</td>\n",
       "      <td>0.809704</td>\n",
       "    </tr>\n",
       "    <tr>\n",
       "      <th>4</th>\n",
       "      <td>Apcnt_1000080</td>\n",
       "      <td>0.253750</td>\n",
       "    </tr>\n",
       "  </tbody>\n",
       "</table>\n",
       "</div>"
      ],
      "text/plain": [
       "    Applicant_ID  default_status\n",
       "0  Apcnt_1000032        0.395296\n",
       "1  Apcnt_1000048        0.432347\n",
       "2  Apcnt_1000052        0.471471\n",
       "3  Apcnt_1000076        0.809704\n",
       "4  Apcnt_1000080        0.253750"
      ]
     },
     "execution_count": 52,
     "metadata": {},
     "output_type": "execute_result"
    }
   ],
   "source": [
    "test_predictioned.head()"
   ]
  },
  {
   "cell_type": "code",
   "execution_count": 53,
   "metadata": {
    "execution": {
     "iopub.execute_input": "2020-10-03T12:10:47.633645Z",
     "iopub.status.busy": "2020-10-03T12:10:47.632811Z",
     "iopub.status.idle": "2020-10-03T12:10:47.640746Z",
     "shell.execute_reply": "2020-10-03T12:10:47.639865Z"
    },
    "papermill": {
     "duration": 0.227335,
     "end_time": "2020-10-03T12:10:47.640912",
     "exception": false,
     "start_time": "2020-10-03T12:10:47.413577",
     "status": "completed"
    },
    "tags": []
   },
   "outputs": [],
   "source": [
    "d = {\"Applicant_ID\": sub['Applicant_ID'], 'default_status': np.mean(y_pred_totcb2, 0)}\n",
    "test_prediction = pd.DataFrame(data=d)\n",
    "test_prediction = test_prediction[[\"Applicant_ID\", 'default_status']]"
   ]
  },
  {
   "cell_type": "code",
   "execution_count": 54,
   "metadata": {
    "execution": {
     "iopub.execute_input": "2020-10-03T12:10:48.080861Z",
     "iopub.status.busy": "2020-10-03T12:10:48.077544Z",
     "iopub.status.idle": "2020-10-03T12:10:48.185238Z",
     "shell.execute_reply": "2020-10-03T12:10:48.184536Z"
    },
    "papermill": {
     "duration": 0.329029,
     "end_time": "2020-10-03T12:10:48.185370",
     "exception": false,
     "start_time": "2020-10-03T12:10:47.856341",
     "status": "completed"
    },
    "tags": []
   },
   "outputs": [],
   "source": [
    "test_prediction.to_csv('in42.csv', index = False)"
   ]
  },
  {
   "cell_type": "code",
   "execution_count": 55,
   "metadata": {
    "execution": {
     "iopub.execute_input": "2020-10-03T12:10:48.681239Z",
     "iopub.status.busy": "2020-10-03T12:10:48.680359Z",
     "iopub.status.idle": "2020-10-03T12:10:48.685354Z",
     "shell.execute_reply": "2020-10-03T12:10:48.684673Z"
    },
    "papermill": {
     "duration": 0.229801,
     "end_time": "2020-10-03T12:10:48.685477",
     "exception": false,
     "start_time": "2020-10-03T12:10:48.455676",
     "status": "completed"
    },
    "tags": []
   },
   "outputs": [
    {
     "data": {
      "text/html": [
       "<div>\n",
       "<style scoped>\n",
       "    .dataframe tbody tr th:only-of-type {\n",
       "        vertical-align: middle;\n",
       "    }\n",
       "\n",
       "    .dataframe tbody tr th {\n",
       "        vertical-align: top;\n",
       "    }\n",
       "\n",
       "    .dataframe thead th {\n",
       "        text-align: right;\n",
       "    }\n",
       "</style>\n",
       "<table border=\"1\" class=\"dataframe\">\n",
       "  <thead>\n",
       "    <tr style=\"text-align: right;\">\n",
       "      <th></th>\n",
       "      <th>Applicant_ID</th>\n",
       "      <th>default_status</th>\n",
       "    </tr>\n",
       "  </thead>\n",
       "  <tbody>\n",
       "    <tr>\n",
       "      <th>0</th>\n",
       "      <td>Apcnt_1000032</td>\n",
       "      <td>0.287659</td>\n",
       "    </tr>\n",
       "    <tr>\n",
       "      <th>1</th>\n",
       "      <td>Apcnt_1000048</td>\n",
       "      <td>0.401780</td>\n",
       "    </tr>\n",
       "    <tr>\n",
       "      <th>2</th>\n",
       "      <td>Apcnt_1000052</td>\n",
       "      <td>0.418887</td>\n",
       "    </tr>\n",
       "    <tr>\n",
       "      <th>3</th>\n",
       "      <td>Apcnt_1000076</td>\n",
       "      <td>0.712639</td>\n",
       "    </tr>\n",
       "    <tr>\n",
       "      <th>4</th>\n",
       "      <td>Apcnt_1000080</td>\n",
       "      <td>0.129364</td>\n",
       "    </tr>\n",
       "  </tbody>\n",
       "</table>\n",
       "</div>"
      ],
      "text/plain": [
       "    Applicant_ID  default_status\n",
       "0  Apcnt_1000032        0.287659\n",
       "1  Apcnt_1000048        0.401780\n",
       "2  Apcnt_1000052        0.418887\n",
       "3  Apcnt_1000076        0.712639\n",
       "4  Apcnt_1000080        0.129364"
      ]
     },
     "execution_count": 55,
     "metadata": {},
     "output_type": "execute_result"
    }
   ],
   "source": [
    "test_prediction.head()"
   ]
  },
  {
   "cell_type": "code",
   "execution_count": 56,
   "metadata": {
    "execution": {
     "iopub.execute_input": "2020-10-03T12:10:49.144522Z",
     "iopub.status.busy": "2020-10-03T12:10:49.143638Z",
     "iopub.status.idle": "2020-10-03T12:10:49.224596Z",
     "shell.execute_reply": "2020-10-03T12:10:49.223850Z"
    },
    "papermill": {
     "duration": 0.30699,
     "end_time": "2020-10-03T12:10:49.224725",
     "exception": false,
     "start_time": "2020-10-03T12:10:48.917735",
     "status": "completed"
    },
    "tags": []
   },
   "outputs": [],
   "source": [
    "a = pd.read_csv('model_prob.csv') \n",
    "b = pd.read_csv('in40.csv')\n",
    "c = pd.read_csv('in41.csv')\n",
    "d = pd.read_csv('in42.csv') "
   ]
  },
  {
   "cell_type": "code",
   "execution_count": 57,
   "metadata": {
    "execution": {
     "iopub.execute_input": "2020-10-03T12:10:49.665664Z",
     "iopub.status.busy": "2020-10-03T12:10:49.664844Z",
     "iopub.status.idle": "2020-10-03T12:10:49.682338Z",
     "shell.execute_reply": "2020-10-03T12:10:49.683000Z"
    },
    "papermill": {
     "duration": 0.237996,
     "end_time": "2020-10-03T12:10:49.683192",
     "exception": false,
     "start_time": "2020-10-03T12:10:49.445196",
     "status": "completed"
    },
    "tags": []
   },
   "outputs": [
    {
     "data": {
      "text/plain": [
       "0.9808695628371775"
      ]
     },
     "execution_count": 57,
     "metadata": {},
     "output_type": "execute_result"
    }
   ],
   "source": [
    "d['default_status'].corr(a['default_status'])"
   ]
  },
  {
   "cell_type": "code",
   "execution_count": 58,
   "metadata": {
    "execution": {
     "iopub.execute_input": "2020-10-03T12:10:50.142450Z",
     "iopub.status.busy": "2020-10-03T12:10:50.141631Z",
     "iopub.status.idle": "2020-10-03T12:10:50.149181Z",
     "shell.execute_reply": "2020-10-03T12:10:50.148216Z"
    },
    "papermill": {
     "duration": 0.236333,
     "end_time": "2020-10-03T12:10:50.149344",
     "exception": false,
     "start_time": "2020-10-03T12:10:49.913011",
     "status": "completed"
    },
    "tags": []
   },
   "outputs": [
    {
     "data": {
      "text/plain": [
       "0.9873905523966362"
      ]
     },
     "execution_count": 58,
     "metadata": {},
     "output_type": "execute_result"
    }
   ],
   "source": [
    "test_predictions['default_status'].corr(test_prediction['default_status'])"
   ]
  },
  {
   "cell_type": "code",
   "execution_count": 59,
   "metadata": {
    "execution": {
     "iopub.execute_input": "2020-10-03T12:10:50.622723Z",
     "iopub.status.busy": "2020-10-03T12:10:50.621679Z",
     "iopub.status.idle": "2020-10-03T12:10:50.626797Z",
     "shell.execute_reply": "2020-10-03T12:10:50.626140Z"
    },
    "papermill": {
     "duration": 0.232208,
     "end_time": "2020-10-03T12:10:50.627001",
     "exception": false,
     "start_time": "2020-10-03T12:10:50.394793",
     "status": "completed"
    },
    "tags": []
   },
   "outputs": [],
   "source": [
    "test_predictions['default_status'] = (a['default_status'] + b['default_status'] + c['default_status'] + d['default_status'])/4 "
   ]
  },
  {
   "cell_type": "code",
   "execution_count": 60,
   "metadata": {
    "execution": {
     "iopub.execute_input": "2020-10-03T12:10:51.094824Z",
     "iopub.status.busy": "2020-10-03T12:10:51.091122Z",
     "iopub.status.idle": "2020-10-03T12:10:51.213963Z",
     "shell.execute_reply": "2020-10-03T12:10:51.212978Z"
    },
    "papermill": {
     "duration": 0.356783,
     "end_time": "2020-10-03T12:10:51.214117",
     "exception": false,
     "start_time": "2020-10-03T12:10:50.857334",
     "status": "completed"
    },
    "tags": []
   },
   "outputs": [],
   "source": [
    "test_predictions.to_csv('model_109_prob.csv', index = False)"
   ]
  },
  {
   "cell_type": "code",
   "execution_count": 61,
   "metadata": {
    "execution": {
     "iopub.execute_input": "2020-10-03T12:10:51.671128Z",
     "iopub.status.busy": "2020-10-03T12:10:51.670039Z",
     "iopub.status.idle": "2020-10-03T12:10:51.675115Z",
     "shell.execute_reply": "2020-10-03T12:10:51.674369Z"
    },
    "papermill": {
     "duration": 0.236584,
     "end_time": "2020-10-03T12:10:51.675238",
     "exception": false,
     "start_time": "2020-10-03T12:10:51.438654",
     "status": "completed"
    },
    "tags": []
   },
   "outputs": [
    {
     "data": {
      "text/html": [
       "<div>\n",
       "<style scoped>\n",
       "    .dataframe tbody tr th:only-of-type {\n",
       "        vertical-align: middle;\n",
       "    }\n",
       "\n",
       "    .dataframe tbody tr th {\n",
       "        vertical-align: top;\n",
       "    }\n",
       "\n",
       "    .dataframe thead th {\n",
       "        text-align: right;\n",
       "    }\n",
       "</style>\n",
       "<table border=\"1\" class=\"dataframe\">\n",
       "  <thead>\n",
       "    <tr style=\"text-align: right;\">\n",
       "      <th></th>\n",
       "      <th>Applicant_ID</th>\n",
       "      <th>default_status</th>\n",
       "    </tr>\n",
       "  </thead>\n",
       "  <tbody>\n",
       "    <tr>\n",
       "      <th>0</th>\n",
       "      <td>Apcnt_1000032</td>\n",
       "      <td>0.358426</td>\n",
       "    </tr>\n",
       "    <tr>\n",
       "      <th>1</th>\n",
       "      <td>Apcnt_1000048</td>\n",
       "      <td>0.433927</td>\n",
       "    </tr>\n",
       "    <tr>\n",
       "      <th>2</th>\n",
       "      <td>Apcnt_1000052</td>\n",
       "      <td>0.457409</td>\n",
       "    </tr>\n",
       "    <tr>\n",
       "      <th>3</th>\n",
       "      <td>Apcnt_1000076</td>\n",
       "      <td>0.781088</td>\n",
       "    </tr>\n",
       "    <tr>\n",
       "      <th>4</th>\n",
       "      <td>Apcnt_1000080</td>\n",
       "      <td>0.202753</td>\n",
       "    </tr>\n",
       "  </tbody>\n",
       "</table>\n",
       "</div>"
      ],
      "text/plain": [
       "    Applicant_ID  default_status\n",
       "0  Apcnt_1000032        0.358426\n",
       "1  Apcnt_1000048        0.433927\n",
       "2  Apcnt_1000052        0.457409\n",
       "3  Apcnt_1000076        0.781088\n",
       "4  Apcnt_1000080        0.202753"
      ]
     },
     "execution_count": 61,
     "metadata": {},
     "output_type": "execute_result"
    }
   ],
   "source": [
    "test_predictions.head()"
   ]
  },
  {
   "cell_type": "code",
   "execution_count": 62,
   "metadata": {
    "execution": {
     "iopub.execute_input": "2020-10-03T12:10:52.139251Z",
     "iopub.status.busy": "2020-10-03T12:10:52.138201Z",
     "iopub.status.idle": "2020-10-03T12:10:52.143087Z",
     "shell.execute_reply": "2020-10-03T12:10:52.142313Z"
    },
    "papermill": {
     "duration": 0.238117,
     "end_time": "2020-10-03T12:10:52.143229",
     "exception": false,
     "start_time": "2020-10-03T12:10:51.905112",
     "status": "completed"
    },
    "tags": []
   },
   "outputs": [
    {
     "data": {
      "text/plain": [
       "0.9697656406124283"
      ]
     },
     "execution_count": 62,
     "metadata": {},
     "output_type": "execute_result"
    }
   ],
   "source": [
    "#This to check that the maximum probability is not greater than 1\n",
    "test_predictions['default_status'].max()"
   ]
  },
  {
   "cell_type": "code",
   "execution_count": 63,
   "metadata": {
    "execution": {
     "iopub.execute_input": "2020-10-03T12:10:52.609458Z",
     "iopub.status.busy": "2020-10-03T12:10:52.608586Z",
     "iopub.status.idle": "2020-10-03T12:10:52.613333Z",
     "shell.execute_reply": "2020-10-03T12:10:52.612587Z"
    },
    "papermill": {
     "duration": 0.237908,
     "end_time": "2020-10-03T12:10:52.613469",
     "exception": false,
     "start_time": "2020-10-03T12:10:52.375561",
     "status": "completed"
    },
    "tags": []
   },
   "outputs": [
    {
     "data": {
      "text/plain": [
       "0.0026081432195230216"
      ]
     },
     "execution_count": 63,
     "metadata": {},
     "output_type": "execute_result"
    }
   ],
   "source": [
    "#This to check that the minimum probability is not less than 0\n",
    "test_predictions['default_status'].min()"
   ]
  },
  {
   "cell_type": "code",
   "execution_count": 64,
   "metadata": {
    "execution": {
     "iopub.execute_input": "2020-10-03T12:10:53.089153Z",
     "iopub.status.busy": "2020-10-03T12:10:53.088199Z",
     "iopub.status.idle": "2020-10-03T12:10:53.091630Z",
     "shell.execute_reply": "2020-10-03T12:10:53.090824Z"
    },
    "papermill": {
     "duration": 0.25332,
     "end_time": "2020-10-03T12:10:53.091844",
     "exception": false,
     "start_time": "2020-10-03T12:10:52.838524",
     "status": "completed"
    },
    "tags": []
   },
   "outputs": [],
   "source": [
    "#score = 0.844411754893199"
   ]
  }
 ],
 "metadata": {
  "kernelspec": {
   "display_name": "Python 3",
   "language": "python",
   "name": "python3"
  },
  "language_info": {
   "codemirror_mode": {
    "name": "ipython",
    "version": 3
   },
   "file_extension": ".py",
   "mimetype": "text/x-python",
   "name": "python",
   "nbconvert_exporter": "python",
   "pygments_lexer": "ipython3",
   "version": "3.7.6"
  },
  "papermill": {
   "duration": 619.006922,
   "end_time": "2020-10-03T12:10:53.435517",
   "environment_variables": {},
   "exception": null,
   "input_path": "__notebook__.ipynb",
   "output_path": "__notebook__.ipynb",
   "parameters": {},
   "start_time": "2020-10-03T12:00:34.428595",
   "version": "2.1.0"
  }
 },
 "nbformat": 4,
 "nbformat_minor": 4
}
